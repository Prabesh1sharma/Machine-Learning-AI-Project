{
  "cells": [
    {
      "cell_type": "code",
      "execution_count": 1,
      "id": "bccc9440",
      "metadata": {
        "colab": {
          "base_uri": "https://localhost:8080/"
        },
        "id": "bccc9440",
        "outputId": "72ea414e-1a13-40ca-962d-cd67480e651a"
      },
      "outputs": [
        {
          "output_type": "execute_result",
          "data": {
            "text/plain": [
              "datetime.datetime(2024, 6, 27, 10, 12, 24, 503636)"
            ]
          },
          "metadata": {},
          "execution_count": 1
        }
      ],
      "source": [
        "import datetime\n",
        "datetime.datetime.now()"
      ]
    },
    {
      "cell_type": "code",
      "execution_count": 2,
      "id": "b66c7dc7",
      "metadata": {
        "id": "b66c7dc7"
      },
      "outputs": [],
      "source": [
        "import numpy as np\n",
        "import matplotlib.pyplot as plt\n",
        "import cv2\n",
        "import json\n",
        "import os\n",
        "from tensorflow.keras.preprocessing.image import ImageDataGenerator,load_img\n",
        "from tensorflow.keras.optimizers import Adam\n",
        "from tensorflow.keras.callbacks import ModelCheckpoint\n",
        "from tensorflow.keras.layers import Input, Lambda, Dense,Flatten\n",
        "from tensorflow.keras.models import Model\n",
        "from tensorflow.keras.preprocessing import image\n",
        "from tensorflow.keras.applications.inception_v3 import preprocess_input\n",
        "from tensorflow.keras.applications.vgg16 import VGG16, preprocess_input\n",
        "from tensorflow.keras.models import Sequential\n",
        "from glob import glob\n",
        "import json"
      ]
    },
    {
      "cell_type": "code",
      "source": [
        "if not os.path.exists('/content/data/'):\n",
        "\n",
        "  api_token = {\"username\": \"prabeshsharma\",\n",
        "                  \"key\": \"e8929420b0f14df13c668815eef404a0\"}\n",
        "\n",
        "  with open('/content/kaggle.json', 'w') as file:\n",
        "      json.dump(api_token, file)\n",
        "\n",
        "  os.environ[\"KAGGLE_CONFIG_DIR\"] = \"/content/\"\n",
        "\n",
        "  os.system('kaggle datasets download -d ashishjangra27/face-mask-12k-images-dataset')\n",
        "  os.makedirs('/content/data/', exist_ok=True)\n",
        "  os.system('mv /content/face-mask-12k-images-dataset.zip /content/data/face-mask-12k-images-dataset.zip')\n",
        "  os.system('unzip -q /content/data/face-mask-12k-images-dataset.zip -d /content/data/')\n",
        "  os.remove('/content/data/face-mask-12k-images-dataset.zip')"
      ],
      "metadata": {
        "id": "7QXnNTj6LfwG"
      },
      "id": "7QXnNTj6LfwG",
      "execution_count": 3,
      "outputs": []
    },
    {
      "cell_type": "code",
      "execution_count": 4,
      "id": "3031958c",
      "metadata": {
        "id": "3031958c"
      },
      "outputs": [],
      "source": [
        "\n",
        "train_Data_path = \"/content/data/Face Mask Dataset/Train\"\n",
        "validation_data_path = \"/content/data/Face Mask Dataset/Validation\""
      ]
    },
    {
      "cell_type": "code",
      "execution_count": 5,
      "id": "e7a5a94c",
      "metadata": {
        "colab": {
          "base_uri": "https://localhost:8080/"
        },
        "id": "e7a5a94c",
        "outputId": "b2b5f55b-e6d9-4420-f82f-1e03594d1012"
      },
      "outputs": [
        {
          "output_type": "stream",
          "name": "stdout",
          "text": [
            "Downloading data from https://storage.googleapis.com/tensorflow/keras-applications/vgg16/vgg16_weights_tf_dim_ordering_tf_kernels_notop.h5\n",
            "58889256/58889256 [==============================] - 0s 0us/step\n"
          ]
        }
      ],
      "source": [
        "import tensorflow as tf\n",
        "from tensorflow.keras.applications import VGG16\n",
        "\n",
        "# Assuming IMAGE_SIZE is defined elsewhere in your code\n",
        "IMAGE_SIZE = [224, 224]\n",
        "\n",
        "vgg = VGG16(input_shape=IMAGE_SIZE + [3], weights='imagenet', include_top=False)\n"
      ]
    },
    {
      "cell_type": "code",
      "execution_count": 6,
      "id": "9dcd7800",
      "metadata": {
        "id": "9dcd7800"
      },
      "outputs": [],
      "source": [
        "# don't train existing weights\n",
        "for layer in vgg.layers:\n",
        "    layer.trainable = False"
      ]
    },
    {
      "cell_type": "code",
      "execution_count": 7,
      "id": "f57aa09d",
      "metadata": {
        "id": "f57aa09d"
      },
      "outputs": [],
      "source": [
        "folders = glob(r\"/content/data/Face Mask Dataset/Train/*\")"
      ]
    },
    {
      "cell_type": "code",
      "execution_count": 8,
      "id": "8e91d0f0",
      "metadata": {
        "id": "8e91d0f0"
      },
      "outputs": [],
      "source": [
        "# our layers we can add more if we want\n",
        "x = Flatten()(vgg.output)"
      ]
    },
    {
      "cell_type": "code",
      "execution_count": 9,
      "id": "317d4d7b",
      "metadata": {
        "id": "317d4d7b"
      },
      "outputs": [],
      "source": [
        "prediction = Dense(len(folders),activation = 'softmax')(x)\n",
        "\n",
        "#create a model object\n",
        "model = Model(inputs = vgg.input, outputs= prediction)"
      ]
    },
    {
      "cell_type": "code",
      "execution_count": 10,
      "id": "e7c5079f",
      "metadata": {
        "colab": {
          "base_uri": "https://localhost:8080/"
        },
        "id": "e7c5079f",
        "outputId": "83f5b28f-731c-4119-ae44-b7f2560bbd68"
      },
      "outputs": [
        {
          "output_type": "stream",
          "name": "stdout",
          "text": [
            "Model: \"model\"\n",
            "_________________________________________________________________\n",
            " Layer (type)                Output Shape              Param #   \n",
            "=================================================================\n",
            " input_1 (InputLayer)        [(None, 224, 224, 3)]     0         \n",
            "                                                                 \n",
            " block1_conv1 (Conv2D)       (None, 224, 224, 64)      1792      \n",
            "                                                                 \n",
            " block1_conv2 (Conv2D)       (None, 224, 224, 64)      36928     \n",
            "                                                                 \n",
            " block1_pool (MaxPooling2D)  (None, 112, 112, 64)      0         \n",
            "                                                                 \n",
            " block2_conv1 (Conv2D)       (None, 112, 112, 128)     73856     \n",
            "                                                                 \n",
            " block2_conv2 (Conv2D)       (None, 112, 112, 128)     147584    \n",
            "                                                                 \n",
            " block2_pool (MaxPooling2D)  (None, 56, 56, 128)       0         \n",
            "                                                                 \n",
            " block3_conv1 (Conv2D)       (None, 56, 56, 256)       295168    \n",
            "                                                                 \n",
            " block3_conv2 (Conv2D)       (None, 56, 56, 256)       590080    \n",
            "                                                                 \n",
            " block3_conv3 (Conv2D)       (None, 56, 56, 256)       590080    \n",
            "                                                                 \n",
            " block3_pool (MaxPooling2D)  (None, 28, 28, 256)       0         \n",
            "                                                                 \n",
            " block4_conv1 (Conv2D)       (None, 28, 28, 512)       1180160   \n",
            "                                                                 \n",
            " block4_conv2 (Conv2D)       (None, 28, 28, 512)       2359808   \n",
            "                                                                 \n",
            " block4_conv3 (Conv2D)       (None, 28, 28, 512)       2359808   \n",
            "                                                                 \n",
            " block4_pool (MaxPooling2D)  (None, 14, 14, 512)       0         \n",
            "                                                                 \n",
            " block5_conv1 (Conv2D)       (None, 14, 14, 512)       2359808   \n",
            "                                                                 \n",
            " block5_conv2 (Conv2D)       (None, 14, 14, 512)       2359808   \n",
            "                                                                 \n",
            " block5_conv3 (Conv2D)       (None, 14, 14, 512)       2359808   \n",
            "                                                                 \n",
            " block5_pool (MaxPooling2D)  (None, 7, 7, 512)         0         \n",
            "                                                                 \n",
            " flatten (Flatten)           (None, 25088)             0         \n",
            "                                                                 \n",
            " dense (Dense)               (None, 2)                 50178     \n",
            "                                                                 \n",
            "=================================================================\n",
            "Total params: 14764866 (56.32 MB)\n",
            "Trainable params: 50178 (196.01 KB)\n",
            "Non-trainable params: 14714688 (56.13 MB)\n",
            "_________________________________________________________________\n"
          ]
        }
      ],
      "source": [
        "model.summary()"
      ]
    },
    {
      "cell_type": "code",
      "execution_count": 11,
      "id": "9f3bd3c3",
      "metadata": {
        "id": "9f3bd3c3"
      },
      "outputs": [],
      "source": [
        "model.compile(\n",
        "loss = 'categorical_crossentropy',\n",
        "optimizer = 'adam',\n",
        "metrics=['accuracy'])"
      ]
    },
    {
      "cell_type": "code",
      "execution_count": 12,
      "id": "20fc6c02",
      "metadata": {
        "colab": {
          "base_uri": "https://localhost:8080/"
        },
        "id": "20fc6c02",
        "outputId": "b0861442-ba26-41a5-a452-ad516d30173b"
      },
      "outputs": [
        {
          "output_type": "stream",
          "name": "stdout",
          "text": [
            "Found 10000 images belonging to 2 classes.\n"
          ]
        }
      ],
      "source": [
        "training_datagen = ImageDataGenerator(rescale=1./255)\n",
        "training_data = training_datagen.flow_from_directory(train_Data_path,\n",
        "                                                    target_size=(224,224),\n",
        "                                                    batch_size=32,\n",
        "                                                    class_mode='categorical')"
      ]
    },
    {
      "cell_type": "code",
      "execution_count": 13,
      "id": "fe546d8c",
      "metadata": {
        "colab": {
          "base_uri": "https://localhost:8080/"
        },
        "id": "fe546d8c",
        "outputId": "f9aaf934-f0da-4592-c6f6-46d7f9bfe349"
      },
      "outputs": [
        {
          "output_type": "stream",
          "name": "stdout",
          "text": [
            "Found 800 images belonging to 2 classes.\n"
          ]
        }
      ],
      "source": [
        "valid_datagen = ImageDataGenerator(rescale=1./255)\n",
        "test_data = valid_datagen.flow_from_directory(validation_data_path,\n",
        "                                                    target_size=(224,224),\n",
        "                                                    batch_size=32,\n",
        "                                                    class_mode='categorical')"
      ]
    },
    {
      "cell_type": "code",
      "execution_count": 14,
      "id": "ee7505e4",
      "metadata": {
        "id": "ee7505e4"
      },
      "outputs": [],
      "source": [
        "model_path = \"/content/model/modelvgg.h5\"\n",
        "checkpoint = ModelCheckpoint(model_path, monitor='val_accuracy', verbose=1, save_best_only=True, mode='max')\n",
        "callbacks_list = [checkpoint]"
      ]
    },
    {
      "cell_type": "code",
      "execution_count": 15,
      "id": "a4b50f26",
      "metadata": {
        "colab": {
          "base_uri": "https://localhost:8080/"
        },
        "id": "a4b50f26",
        "outputId": "a10ac3f0-33ab-4f55-fcc7-36e8fe45ef1e"
      },
      "outputs": [
        {
          "output_type": "stream",
          "name": "stdout",
          "text": [
            "Epoch 1/50\n",
            "313/313 [==============================] - ETA: 0s - loss: 0.0631 - accuracy: 0.9770\n",
            "Epoch 1: val_accuracy improved from -inf to 0.99625, saving model to /content/model/modelvgg.h5\n",
            "313/313 [==============================] - 57s 151ms/step - loss: 0.0631 - accuracy: 0.9770 - val_loss: 0.0127 - val_accuracy: 0.9962\n",
            "Epoch 2/50\n"
          ]
        },
        {
          "output_type": "stream",
          "name": "stderr",
          "text": [
            "/usr/local/lib/python3.10/dist-packages/keras/src/engine/training.py:3103: UserWarning: You are saving your model as an HDF5 file via `model.save()`. This file format is considered legacy. We recommend using instead the native Keras format, e.g. `model.save('my_model.keras')`.\n",
            "  saving_api.save_model(\n"
          ]
        },
        {
          "output_type": "stream",
          "name": "stdout",
          "text": [
            "313/313 [==============================] - ETA: 0s - loss: 0.0117 - accuracy: 0.9969\n",
            "Epoch 2: val_accuracy improved from 0.99625 to 0.99750, saving model to /content/model/modelvgg.h5\n",
            "313/313 [==============================] - 47s 151ms/step - loss: 0.0117 - accuracy: 0.9969 - val_loss: 0.0099 - val_accuracy: 0.9975\n",
            "Epoch 3/50\n",
            "313/313 [==============================] - ETA: 0s - loss: 0.0063 - accuracy: 0.9985\n",
            "Epoch 3: val_accuracy did not improve from 0.99750\n",
            "313/313 [==============================] - 47s 150ms/step - loss: 0.0063 - accuracy: 0.9985 - val_loss: 0.0107 - val_accuracy: 0.9950\n",
            "Epoch 4/50\n",
            "313/313 [==============================] - ETA: 0s - loss: 0.0035 - accuracy: 0.9995\n",
            "Epoch 4: val_accuracy did not improve from 0.99750\n",
            "313/313 [==============================] - 45s 145ms/step - loss: 0.0035 - accuracy: 0.9995 - val_loss: 0.0077 - val_accuracy: 0.9975\n",
            "Epoch 5/50\n",
            "313/313 [==============================] - ETA: 0s - loss: 0.0026 - accuracy: 0.9997\n",
            "Epoch 5: val_accuracy did not improve from 0.99750\n",
            "313/313 [==============================] - 47s 151ms/step - loss: 0.0026 - accuracy: 0.9997 - val_loss: 0.0065 - val_accuracy: 0.9962\n",
            "Epoch 6/50\n",
            "313/313 [==============================] - ETA: 0s - loss: 0.0020 - accuracy: 0.9996\n",
            "Epoch 6: val_accuracy did not improve from 0.99750\n",
            "313/313 [==============================] - 47s 150ms/step - loss: 0.0020 - accuracy: 0.9996 - val_loss: 0.0065 - val_accuracy: 0.9975\n",
            "Epoch 7/50\n",
            "313/313 [==============================] - ETA: 0s - loss: 0.0018 - accuracy: 0.9997\n",
            "Epoch 7: val_accuracy did not improve from 0.99750\n",
            "313/313 [==============================] - 47s 150ms/step - loss: 0.0018 - accuracy: 0.9997 - val_loss: 0.0054 - val_accuracy: 0.9975\n",
            "Epoch 8/50\n",
            "313/313 [==============================] - ETA: 0s - loss: 0.0012 - accuracy: 0.9999\n",
            "Epoch 8: val_accuracy did not improve from 0.99750\n",
            "313/313 [==============================] - 45s 144ms/step - loss: 0.0012 - accuracy: 0.9999 - val_loss: 0.0073 - val_accuracy: 0.9975\n",
            "Epoch 9/50\n",
            "313/313 [==============================] - ETA: 0s - loss: 9.8943e-04 - accuracy: 1.0000\n",
            "Epoch 9: val_accuracy did not improve from 0.99750\n",
            "313/313 [==============================] - 46s 147ms/step - loss: 9.8943e-04 - accuracy: 1.0000 - val_loss: 0.0052 - val_accuracy: 0.9975\n",
            "Epoch 10/50\n",
            "313/313 [==============================] - ETA: 0s - loss: 6.7950e-04 - accuracy: 0.9999\n",
            "Epoch 10: val_accuracy did not improve from 0.99750\n",
            "313/313 [==============================] - 46s 147ms/step - loss: 6.7950e-04 - accuracy: 0.9999 - val_loss: 0.0054 - val_accuracy: 0.9975\n",
            "Epoch 11/50\n",
            "313/313 [==============================] - ETA: 0s - loss: 4.7802e-04 - accuracy: 1.0000\n",
            "Epoch 11: val_accuracy did not improve from 0.99750\n",
            "313/313 [==============================] - 47s 150ms/step - loss: 4.7802e-04 - accuracy: 1.0000 - val_loss: 0.0051 - val_accuracy: 0.9962\n",
            "Epoch 12/50\n",
            "313/313 [==============================] - ETA: 0s - loss: 3.8145e-04 - accuracy: 1.0000\n",
            "Epoch 12: val_accuracy did not improve from 0.99750\n",
            "313/313 [==============================] - 45s 144ms/step - loss: 3.8145e-04 - accuracy: 1.0000 - val_loss: 0.0075 - val_accuracy: 0.9962\n",
            "Epoch 13/50\n",
            "313/313 [==============================] - ETA: 0s - loss: 3.8404e-04 - accuracy: 1.0000\n",
            "Epoch 13: val_accuracy did not improve from 0.99750\n",
            "313/313 [==============================] - 48s 151ms/step - loss: 3.8404e-04 - accuracy: 1.0000 - val_loss: 0.0063 - val_accuracy: 0.9975\n",
            "Epoch 14/50\n",
            "313/313 [==============================] - ETA: 0s - loss: 3.1299e-04 - accuracy: 1.0000\n",
            "Epoch 14: val_accuracy did not improve from 0.99750\n",
            "313/313 [==============================] - 45s 144ms/step - loss: 3.1299e-04 - accuracy: 1.0000 - val_loss: 0.0051 - val_accuracy: 0.9975\n",
            "Epoch 15/50\n",
            "313/313 [==============================] - ETA: 0s - loss: 2.4019e-04 - accuracy: 1.0000\n",
            "Epoch 15: val_accuracy did not improve from 0.99750\n",
            "313/313 [==============================] - 46s 148ms/step - loss: 2.4019e-04 - accuracy: 1.0000 - val_loss: 0.0071 - val_accuracy: 0.9975\n",
            "Epoch 16/50\n",
            "313/313 [==============================] - ETA: 0s - loss: 3.0028e-04 - accuracy: 1.0000\n",
            "Epoch 16: val_accuracy did not improve from 0.99750\n",
            "313/313 [==============================] - 46s 146ms/step - loss: 3.0028e-04 - accuracy: 1.0000 - val_loss: 0.0067 - val_accuracy: 0.9975\n",
            "Epoch 17/50\n",
            "313/313 [==============================] - ETA: 0s - loss: 1.2999e-04 - accuracy: 1.0000\n",
            "Epoch 17: val_accuracy did not improve from 0.99750\n",
            "313/313 [==============================] - 47s 150ms/step - loss: 1.2999e-04 - accuracy: 1.0000 - val_loss: 0.0071 - val_accuracy: 0.9975\n",
            "Epoch 18/50\n",
            "313/313 [==============================] - ETA: 0s - loss: 1.2075e-04 - accuracy: 1.0000\n",
            "Epoch 18: val_accuracy did not improve from 0.99750\n",
            "313/313 [==============================] - 45s 144ms/step - loss: 1.2075e-04 - accuracy: 1.0000 - val_loss: 0.0061 - val_accuracy: 0.9975\n",
            "Epoch 19/50\n",
            "313/313 [==============================] - ETA: 0s - loss: 9.6772e-05 - accuracy: 1.0000\n",
            "Epoch 19: val_accuracy did not improve from 0.99750\n",
            "313/313 [==============================] - 46s 148ms/step - loss: 9.6772e-05 - accuracy: 1.0000 - val_loss: 0.0063 - val_accuracy: 0.9975\n",
            "Epoch 20/50\n",
            "313/313 [==============================] - ETA: 0s - loss: 9.4457e-05 - accuracy: 1.0000\n",
            "Epoch 20: val_accuracy did not improve from 0.99750\n",
            "313/313 [==============================] - 46s 146ms/step - loss: 9.4457e-05 - accuracy: 1.0000 - val_loss: 0.0060 - val_accuracy: 0.9975\n",
            "Epoch 21/50\n",
            "313/313 [==============================] - ETA: 0s - loss: 8.1578e-05 - accuracy: 1.0000\n",
            "Epoch 21: val_accuracy did not improve from 0.99750\n",
            "313/313 [==============================] - 47s 150ms/step - loss: 8.1578e-05 - accuracy: 1.0000 - val_loss: 0.0065 - val_accuracy: 0.9975\n",
            "Epoch 22/50\n",
            "313/313 [==============================] - ETA: 0s - loss: 6.6614e-05 - accuracy: 1.0000\n",
            "Epoch 22: val_accuracy did not improve from 0.99750\n",
            "313/313 [==============================] - 47s 150ms/step - loss: 6.6614e-05 - accuracy: 1.0000 - val_loss: 0.0067 - val_accuracy: 0.9975\n",
            "Epoch 23/50\n",
            "313/313 [==============================] - ETA: 0s - loss: 4.9322e-05 - accuracy: 1.0000\n",
            "Epoch 23: val_accuracy did not improve from 0.99750\n",
            "313/313 [==============================] - 49s 155ms/step - loss: 4.9322e-05 - accuracy: 1.0000 - val_loss: 0.0067 - val_accuracy: 0.9975\n",
            "Epoch 24/50\n",
            "313/313 [==============================] - ETA: 0s - loss: 4.6241e-05 - accuracy: 1.0000\n",
            "Epoch 24: val_accuracy did not improve from 0.99750\n",
            "313/313 [==============================] - 45s 144ms/step - loss: 4.6241e-05 - accuracy: 1.0000 - val_loss: 0.0079 - val_accuracy: 0.9975\n",
            "Epoch 25/50\n",
            "313/313 [==============================] - ETA: 0s - loss: 4.6672e-05 - accuracy: 1.0000\n",
            "Epoch 25: val_accuracy did not improve from 0.99750\n",
            "313/313 [==============================] - 49s 156ms/step - loss: 4.6672e-05 - accuracy: 1.0000 - val_loss: 0.0073 - val_accuracy: 0.9975\n",
            "Epoch 26/50\n",
            "313/313 [==============================] - ETA: 0s - loss: 4.3707e-05 - accuracy: 1.0000\n",
            "Epoch 26: val_accuracy did not improve from 0.99750\n",
            "313/313 [==============================] - 45s 143ms/step - loss: 4.3707e-05 - accuracy: 1.0000 - val_loss: 0.0068 - val_accuracy: 0.9975\n",
            "Epoch 27/50\n",
            "313/313 [==============================] - ETA: 0s - loss: 2.9628e-05 - accuracy: 1.0000\n",
            "Epoch 27: val_accuracy did not improve from 0.99750\n",
            "313/313 [==============================] - 49s 156ms/step - loss: 2.9628e-05 - accuracy: 1.0000 - val_loss: 0.0067 - val_accuracy: 0.9975\n",
            "Epoch 28/50\n",
            "313/313 [==============================] - ETA: 0s - loss: 2.5782e-05 - accuracy: 1.0000\n",
            "Epoch 28: val_accuracy did not improve from 0.99750\n",
            "313/313 [==============================] - 45s 144ms/step - loss: 2.5782e-05 - accuracy: 1.0000 - val_loss: 0.0063 - val_accuracy: 0.9975\n",
            "Epoch 29/50\n",
            "313/313 [==============================] - ETA: 0s - loss: 0.0202 - accuracy: 0.9950\n",
            "Epoch 29: val_accuracy did not improve from 0.99750\n",
            "313/313 [==============================] - 49s 156ms/step - loss: 0.0202 - accuracy: 0.9950 - val_loss: 0.0037 - val_accuracy: 0.9975\n",
            "Epoch 30/50\n",
            "313/313 [==============================] - ETA: 0s - loss: 0.0034 - accuracy: 0.9989\n",
            "Epoch 30: val_accuracy did not improve from 0.99750\n",
            "313/313 [==============================] - 47s 150ms/step - loss: 0.0034 - accuracy: 0.9989 - val_loss: 0.0045 - val_accuracy: 0.9962\n",
            "Epoch 31/50\n",
            "313/313 [==============================] - ETA: 0s - loss: 4.3455e-05 - accuracy: 1.0000\n",
            "Epoch 31: val_accuracy did not improve from 0.99750\n",
            "313/313 [==============================] - 47s 150ms/step - loss: 4.3455e-05 - accuracy: 1.0000 - val_loss: 0.0033 - val_accuracy: 0.9975\n",
            "Epoch 32/50\n",
            "313/313 [==============================] - ETA: 0s - loss: 2.4202e-05 - accuracy: 1.0000\n",
            "Epoch 32: val_accuracy improved from 0.99750 to 1.00000, saving model to /content/model/modelvgg.h5\n",
            "313/313 [==============================] - 45s 145ms/step - loss: 2.4202e-05 - accuracy: 1.0000 - val_loss: 0.0025 - val_accuracy: 1.0000\n",
            "Epoch 33/50\n",
            "313/313 [==============================] - ETA: 0s - loss: 2.4258e-05 - accuracy: 1.0000\n",
            "Epoch 33: val_accuracy did not improve from 1.00000\n",
            "313/313 [==============================] - 46s 147ms/step - loss: 2.4258e-05 - accuracy: 1.0000 - val_loss: 0.0030 - val_accuracy: 0.9975\n",
            "Epoch 34/50\n",
            "313/313 [==============================] - ETA: 0s - loss: 1.9730e-05 - accuracy: 1.0000\n",
            "Epoch 34: val_accuracy did not improve from 1.00000\n",
            "313/313 [==============================] - 48s 152ms/step - loss: 1.9730e-05 - accuracy: 1.0000 - val_loss: 0.0035 - val_accuracy: 0.9975\n",
            "Epoch 35/50\n",
            "313/313 [==============================] - ETA: 0s - loss: 2.2624e-05 - accuracy: 1.0000\n",
            "Epoch 35: val_accuracy did not improve from 1.00000\n",
            "313/313 [==============================] - 46s 147ms/step - loss: 2.2624e-05 - accuracy: 1.0000 - val_loss: 0.0026 - val_accuracy: 0.9987\n",
            "Epoch 36/50\n",
            "313/313 [==============================] - ETA: 0s - loss: 1.6023e-05 - accuracy: 1.0000\n",
            "Epoch 36: val_accuracy did not improve from 1.00000\n",
            "313/313 [==============================] - 46s 147ms/step - loss: 1.6023e-05 - accuracy: 1.0000 - val_loss: 0.0041 - val_accuracy: 0.9975\n",
            "Epoch 37/50\n",
            "313/313 [==============================] - ETA: 0s - loss: 1.6815e-05 - accuracy: 1.0000\n",
            "Epoch 37: val_accuracy did not improve from 1.00000\n",
            "313/313 [==============================] - 47s 150ms/step - loss: 1.6815e-05 - accuracy: 1.0000 - val_loss: 0.0026 - val_accuracy: 0.9987\n",
            "Epoch 38/50\n",
            "313/313 [==============================] - ETA: 0s - loss: 1.4692e-05 - accuracy: 1.0000\n",
            "Epoch 38: val_accuracy did not improve from 1.00000\n",
            "313/313 [==============================] - 47s 149ms/step - loss: 1.4692e-05 - accuracy: 1.0000 - val_loss: 0.0024 - val_accuracy: 0.9987\n",
            "Epoch 39/50\n",
            "313/313 [==============================] - ETA: 0s - loss: 1.2469e-05 - accuracy: 1.0000\n",
            "Epoch 39: val_accuracy did not improve from 1.00000\n",
            "313/313 [==============================] - 47s 151ms/step - loss: 1.2469e-05 - accuracy: 1.0000 - val_loss: 0.0037 - val_accuracy: 0.9975\n",
            "Epoch 40/50\n",
            "313/313 [==============================] - ETA: 0s - loss: 1.4725e-05 - accuracy: 1.0000\n",
            "Epoch 40: val_accuracy did not improve from 1.00000\n",
            "313/313 [==============================] - 47s 149ms/step - loss: 1.4725e-05 - accuracy: 1.0000 - val_loss: 0.0027 - val_accuracy: 0.9987\n",
            "Epoch 41/50\n",
            "313/313 [==============================] - ETA: 0s - loss: 1.1672e-05 - accuracy: 1.0000\n",
            "Epoch 41: val_accuracy did not improve from 1.00000\n",
            "313/313 [==============================] - 48s 154ms/step - loss: 1.1672e-05 - accuracy: 1.0000 - val_loss: 0.0025 - val_accuracy: 0.9987\n",
            "Epoch 42/50\n",
            "313/313 [==============================] - ETA: 0s - loss: 1.1795e-05 - accuracy: 1.0000\n",
            "Epoch 42: val_accuracy did not improve from 1.00000\n",
            "313/313 [==============================] - 46s 146ms/step - loss: 1.1795e-05 - accuracy: 1.0000 - val_loss: 0.0036 - val_accuracy: 0.9975\n",
            "Epoch 43/50\n",
            "313/313 [==============================] - ETA: 0s - loss: 1.1728e-05 - accuracy: 1.0000\n",
            "Epoch 43: val_accuracy did not improve from 1.00000\n",
            "313/313 [==============================] - 47s 150ms/step - loss: 1.1728e-05 - accuracy: 1.0000 - val_loss: 0.0029 - val_accuracy: 0.9987\n",
            "Epoch 44/50\n",
            "313/313 [==============================] - ETA: 0s - loss: 1.3729e-05 - accuracy: 1.0000\n",
            "Epoch 44: val_accuracy did not improve from 1.00000\n",
            "313/313 [==============================] - 45s 144ms/step - loss: 1.3729e-05 - accuracy: 1.0000 - val_loss: 0.0031 - val_accuracy: 0.9987\n",
            "Epoch 45/50\n",
            "313/313 [==============================] - ETA: 0s - loss: 8.4154e-06 - accuracy: 1.0000\n",
            "Epoch 45: val_accuracy did not improve from 1.00000\n",
            "313/313 [==============================] - 46s 148ms/step - loss: 8.4154e-06 - accuracy: 1.0000 - val_loss: 0.0029 - val_accuracy: 0.9975\n",
            "Epoch 46/50\n",
            "313/313 [==============================] - ETA: 0s - loss: 6.8649e-06 - accuracy: 1.0000\n",
            "Epoch 46: val_accuracy did not improve from 1.00000\n",
            "313/313 [==============================] - 47s 152ms/step - loss: 6.8649e-06 - accuracy: 1.0000 - val_loss: 0.0033 - val_accuracy: 0.9975\n",
            "Epoch 47/50\n",
            "313/313 [==============================] - ETA: 0s - loss: 9.6663e-06 - accuracy: 1.0000\n",
            "Epoch 47: val_accuracy did not improve from 1.00000\n",
            "313/313 [==============================] - 46s 147ms/step - loss: 9.6663e-06 - accuracy: 1.0000 - val_loss: 0.0029 - val_accuracy: 0.9975\n",
            "Epoch 48/50\n",
            "313/313 [==============================] - ETA: 0s - loss: 6.8734e-06 - accuracy: 1.0000\n",
            "Epoch 48: val_accuracy did not improve from 1.00000\n",
            "313/313 [==============================] - 49s 155ms/step - loss: 6.8734e-06 - accuracy: 1.0000 - val_loss: 0.0040 - val_accuracy: 0.9975\n",
            "Epoch 49/50\n",
            "313/313 [==============================] - ETA: 0s - loss: 7.8552e-06 - accuracy: 1.0000\n",
            "Epoch 49: val_accuracy did not improve from 1.00000\n",
            "313/313 [==============================] - 45s 144ms/step - loss: 7.8552e-06 - accuracy: 1.0000 - val_loss: 0.0033 - val_accuracy: 0.9975\n",
            "Epoch 50/50\n",
            "313/313 [==============================] - ETA: 0s - loss: 6.4058e-06 - accuracy: 1.0000\n",
            "Epoch 50: val_accuracy did not improve from 1.00000\n",
            "313/313 [==============================] - 46s 147ms/step - loss: 6.4058e-06 - accuracy: 1.0000 - val_loss: 0.0042 - val_accuracy: 0.9975\n"
          ]
        }
      ],
      "source": [
        "r = model.fit(training_data,\n",
        "                        epochs=50,\n",
        "                        verbose=1,\n",
        "                        validation_data=test_data,\n",
        "                        callbacks=callbacks_list)"
      ]
    },
    {
      "cell_type": "code",
      "execution_count": 16,
      "id": "16d8a07e",
      "metadata": {
        "id": "16d8a07e"
      },
      "outputs": [],
      "source": [
        "def plot_graphs(histoy, string):\n",
        "    plt.plot(histoy.history[string])\n",
        "    plt.plot(histoy.history['val_'+string])\n",
        "    plt.xlabel(\"Epochs\")\n",
        "    plt.ylabel(string)\n",
        "    plt.legend([string,'val_'+string])\n",
        "    plt.show()"
      ]
    },
    {
      "cell_type": "code",
      "execution_count": 17,
      "id": "2074ddcc",
      "metadata": {
        "colab": {
          "base_uri": "https://localhost:8080/",
          "height": 881
        },
        "id": "2074ddcc",
        "outputId": "4d5410b9-4cab-4fce-a3b0-c9281369dff6"
      },
      "outputs": [
        {
          "output_type": "display_data",
          "data": {
            "text/plain": [
              "<Figure size 640x480 with 1 Axes>"
            ],
            "image/png": "[encoded data removed]"
          },
          "metadata": {}
        },
        {
          "output_type": "display_data",
          "data": {
            "text/plain": [
              "<Figure size 640x480 with 1 Axes>"
            ],
            "image/png": "[encoded data removed]"
          },
          "metadata": {}
        }
      ],
      "source": [
        "plot_graphs(r, 'accuracy')\n",
        "plot_graphs(r, 'loss')"
      ]
    },
    {
      "cell_type": "code",
      "execution_count": 18,
      "id": "bdbc1c24",
      "metadata": {
        "id": "bdbc1c24"
      },
      "outputs": [],
      "source": [
        "from tensorflow.keras.models import load_model\n",
        "model.save(\"/content/model/modelvgg_last.h5\")"
      ]
    },
    {
      "cell_type": "code",
      "execution_count": 18,
      "id": "4d9dab79",
      "metadata": {
        "id": "4d9dab79"
      },
      "outputs": [],
      "source": []
    }
  ],
  "metadata": {
    "kernelspec": {
      "display_name": "Python 3",
      "name": "python3"
    },
    "language_info": {
      "codemirror_mode": {
        "name": "ipython",
        "version": 3
      },
      "file_extension": ".py",
      "mimetype": "text/x-python",
      "name": "python",
      "nbconvert_exporter": "python",
      "pygments_lexer": "ipython3",
      "version": "3.11.5"
    },
    "colab": {
      "provenance": [],
      "gpuType": "T4"
    },
    "accelerator": "GPU"
  },
  "nbformat": 4,
  "nbformat_minor": 5
}