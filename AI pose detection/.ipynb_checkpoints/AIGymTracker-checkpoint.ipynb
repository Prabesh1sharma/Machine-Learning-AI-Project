{
 "cells": [
  {
   "cell_type": "markdown",
   "id": "74c9161b",
   "metadata": {},
   "source": [
    "# Import Packages"
   ]
  },
  {
   "cell_type": "code",
   "execution_count": 1,
   "id": "490d5512",
   "metadata": {},
   "outputs": [],
   "source": [
    "import cv2\n",
    "import mediapipe as mp \n",
    "import numpy as np"
   ]
  },
  {
   "cell_type": "code",
   "execution_count": 12,
   "id": "a0e81b05",
   "metadata": {},
   "outputs": [],
   "source": [
    "mp_drawing = mp.solutions.drawing_utils\n",
    "mp_pose = mp.solutions.pose"
   ]
  },
  {
   "cell_type": "code",
   "execution_count": 5,
   "id": "e9485873",
   "metadata": {},
   "outputs": [],
   "source": [
    "cap = cv2.VideoCapture(0)\n",
    "while cap.isOpened():\n",
    "    rel,frame = cap.read()\n",
    "    cv2.imshow(\"Mediapipe Feed\",frame)\n",
    "    \n",
    "    if cv2.waitKey(25) & 0xff == ord('p'):\n",
    "        break\n",
    "cap.release()\n",
    "cv2.destroyAllWindows()"
   ]
  },
  {
   "cell_type": "markdown",
   "id": "b909eb00",
   "metadata": {},
   "source": [
    "# Make Detections"
   ]
  },
  {
   "cell_type": "code",
   "execution_count": 17,
   "id": "9df2d1f9",
   "metadata": {},
   "outputs": [],
   "source": [
    "cap = cv2.VideoCapture(0)\n",
    "# Setup mediapipe instance\n",
    "with mp_pose.Pose(min_detection_confidence=0.5,min_tracking_confidence=0.5) as pose:\n",
    "     while cap.isOpened():\n",
    "        rel,frame = cap.read()\n",
    "        #recolor Image to RGB\n",
    "        frame = cv2.flip(frame, 1)\n",
    "        image = cv2.cvtColor(frame,cv2.COLOR_BGR2RGB)\n",
    "        image.flags.writeable = False\n",
    "        # Make Detection\n",
    "        results = pose.process(image)\n",
    "        #recolor back to BGR\n",
    "        image.flags.writeable = True\n",
    "        image = cv2.cvtColor(image,cv2.COLOR_RGB2BGR)\n",
    "        \n",
    "        #render directions\n",
    "        mp_drawing.draw_landmarks(image, results.pose_landmarks, mp_pose.POSE_CONNECTIONS,\n",
    "                                  mp_drawing.DrawingSpec(color=(245,117,66), thickness=2, circle_radius=2),\n",
    "                                  mp_drawing.DrawingSpec(color=(0,255,0), thickness=2, circle_radius=2)\n",
    "                                 )\n",
    "        cv2.imshow(\"Mediapipe Feed\",image)\n",
    "        if cv2.waitKey(25) & 0xff == ord('p'):\n",
    "            break\n",
    "    \n",
    "cap.release()\n",
    "cv2.destroyAllWindows()"
   ]
  },
  {
   "cell_type": "code",
   "execution_count": 18,
   "id": "592178af",
   "metadata": {},
   "outputs": [],
   "source": [
    "mp_drawing.DrawingSpec??"
   ]
  },
  {
   "cell_type": "markdown",
   "id": "d8354eca",
   "metadata": {},
   "source": [
    "# Determining Joints"
   ]
  },
  {
   "cell_type": "markdown",
   "id": "61aba565",
   "metadata": {},
   "source": [
    "![Points understanding](https://i.imgur.com/3j8BPdc.png) "
   ]
  },
  {
   "cell_type": "code",
   "execution_count": 33,
   "id": "c42c261f",
   "metadata": {},
   "outputs": [],
   "source": [
    "cap = cv2.VideoCapture(0)\n",
    "# Setup mediapipe instance\n",
    "with mp_pose.Pose(min_detection_confidence=0.5,min_tracking_confidence=0.5) as pose:\n",
    "     while cap.isOpened():\n",
    "        rel,frame = cap.read()\n",
    "        #recolor Image to RGB\n",
    "        frame = cv2.flip(frame, 1)\n",
    "        image = cv2.cvtColor(frame,cv2.COLOR_BGR2RGB)\n",
    "        image.flags.writeable = False\n",
    "        # Make Detection\n",
    "        results = pose.process(image)\n",
    "        #recolor back to BGR\n",
    "        image.flags.writeable = True\n",
    "        image = cv2.cvtColor(image,cv2.COLOR_RGB2BGR)\n",
    "        \n",
    "        # Extract  landmakrs\n",
    "        try:\n",
    "            landmarks = results.pose_landmarks.landmark\n",
    "        except:\n",
    "            pass\n",
    "        \n",
    "        \n",
    "        #render directions\n",
    "        mp_drawing.draw_landmarks(image, results.pose_landmarks, mp_pose.POSE_CONNECTIONS,\n",
    "                                  mp_drawing.DrawingSpec(color=(245,117,66), thickness=2, circle_radius=2),\n",
    "                                  mp_drawing.DrawingSpec(color=(0,255,0), thickness=2, circle_radius=2)\n",
    "                                 )\n",
    "        cv2.imshow(\"Mediapipe Feed\",image)\n",
    "        if cv2.waitKey(25) & 0xff == ord('p'):\n",
    "            break\n",
    "    \n",
    "cap.release()\n",
    "cv2.destroyAllWindows()"
   ]
  },
  {
   "cell_type": "code",
   "execution_count": 20,
   "id": "a072ea6b",
   "metadata": {},
   "outputs": [
    {
     "data": {
      "text/plain": [
       "33"
      ]
     },
     "execution_count": 20,
     "metadata": {},
     "output_type": "execute_result"
    }
   ],
   "source": [
    "len(landmarks)"
   ]
  },
  {
   "cell_type": "code",
   "execution_count": 21,
   "id": "f522c022",
   "metadata": {
    "collapsed": true
   },
   "outputs": [
    {
     "name": "stdout",
     "output_type": "stream",
     "text": [
      "0\n",
      "1\n",
      "2\n",
      "3\n",
      "4\n",
      "5\n",
      "6\n",
      "7\n",
      "8\n",
      "9\n",
      "10\n",
      "11\n",
      "12\n",
      "13\n",
      "14\n",
      "15\n",
      "16\n",
      "17\n",
      "18\n",
      "19\n",
      "20\n",
      "21\n",
      "22\n",
      "23\n",
      "24\n",
      "25\n",
      "26\n",
      "27\n",
      "28\n",
      "29\n",
      "30\n",
      "31\n",
      "32\n"
     ]
    }
   ],
   "source": [
    "for lndmrk in mp_pose.PoseLandmark:\n",
    "    print(lndmrk)"
   ]
  },
  {
   "cell_type": "code",
   "execution_count": 22,
   "id": "dc625b94",
   "metadata": {},
   "outputs": [
    {
     "data": {
      "text/plain": [
       "x: 0.726502776\n",
       "y: 1.00311255\n",
       "z: -0.436522961\n",
       "visibility: 0.936795473"
      ]
     },
     "execution_count": 22,
     "metadata": {},
     "output_type": "execute_result"
    }
   ],
   "source": [
    "landmarks[mp_pose.PoseLandmark.LEFT_SHOULDER.value]"
   ]
  },
  {
   "cell_type": "code",
   "execution_count": 23,
   "id": "78eac3a9",
   "metadata": {},
   "outputs": [
    {
     "data": {
      "text/plain": [
       "x: 0.880159497\n",
       "y: 1.38931119\n",
       "z: -0.311684936\n",
       "visibility: 0.0880108848"
      ]
     },
     "execution_count": 23,
     "metadata": {},
     "output_type": "execute_result"
    }
   ],
   "source": [
    "landmarks[mp_pose.PoseLandmark.LEFT_ELBOW.value]"
   ]
  },
  {
   "cell_type": "code",
   "execution_count": 24,
   "id": "2ac06240",
   "metadata": {},
   "outputs": [
    {
     "data": {
      "text/plain": [
       "x: 0.851147354\n",
       "y: 1.74765837\n",
       "z: -0.91210109\n",
       "visibility: 0.0292776506"
      ]
     },
     "execution_count": 24,
     "metadata": {},
     "output_type": "execute_result"
    }
   ],
   "source": [
    "landmarks[mp_pose.PoseLandmark.LEFT_WRIST.value]"
   ]
  },
  {
   "cell_type": "markdown",
   "id": "360c1532",
   "metadata": {},
   "source": [
    "# Calculate Angles"
   ]
  },
  {
   "cell_type": "code",
   "execution_count": 25,
   "id": "1d52cb3e",
   "metadata": {},
   "outputs": [],
   "source": [
    "def calculate_angle(a,b,c):\n",
    "    a = np.array(a)#first\n",
    "    b = np.array(b)#mid\n",
    "    c= np.array(c)#end\n",
    "    \n",
    "    radians = np.arctan2(c[1]-b[1],c[0]-b[0])- np.arctan2(a[1]-b[1],a[0]-b[0])\n",
    "    angle = np.abs(radians*180.0/np.pi)\n",
    "    \n",
    "    if angle > 180.0:\n",
    "        angle = 360-angle\n",
    "    return angle\n",
    "                         "
   ]
  },
  {
   "cell_type": "code",
   "execution_count": 26,
   "id": "128340db",
   "metadata": {},
   "outputs": [],
   "source": [
    "shoulder = [landmarks[mp_pose.PoseLandmark.LEFT_SHOULDER.value].x,landmarks[mp_pose.PoseLandmark.LEFT_SHOULDER.value].y]"
   ]
  },
  {
   "cell_type": "code",
   "execution_count": 28,
   "id": "cd1fabb1",
   "metadata": {},
   "outputs": [],
   "source": [
    "elbow = [landmarks[mp_pose.PoseLandmark.LEFT_ELBOW.value].x,landmarks[mp_pose.PoseLandmark.LEFT_ELBOW.value].y]"
   ]
  },
  {
   "cell_type": "code",
   "execution_count": 29,
   "id": "dc16c358",
   "metadata": {},
   "outputs": [],
   "source": [
    "wrist = [landmarks[mp_pose.PoseLandmark.LEFT_WRIST.value].x,landmarks[mp_pose.PoseLandmark.LEFT_WRIST.value].y]"
   ]
  },
  {
   "cell_type": "code",
   "execution_count": 30,
   "id": "49acd1d8",
   "metadata": {},
   "outputs": [
    {
     "data": {
      "text/plain": [
       "([0.7265027761459351, 1.003112554550171],\n",
       " [0.8801594972610474, 1.3893111944198608],\n",
       " [0.8511473536491394, 1.747658371925354])"
      ]
     },
     "execution_count": 30,
     "metadata": {},
     "output_type": "execute_result"
    }
   ],
   "source": [
    "shoulder,elbow,wrist"
   ]
  },
  {
   "cell_type": "code",
   "execution_count": 31,
   "id": "8d299636",
   "metadata": {
    "scrolled": true
   },
   "outputs": [
    {
     "data": {
      "text/plain": [
       "153.67526369875205"
      ]
     },
     "execution_count": 31,
     "metadata": {},
     "output_type": "execute_result"
    }
   ],
   "source": [
    "calculate_angle(shoulder,elbow,wrist)"
   ]
  },
  {
   "cell_type": "code",
   "execution_count": 34,
   "id": "5510f041",
   "metadata": {},
   "outputs": [
    {
     "data": {
      "text/plain": [
       "(563, 666)"
      ]
     },
     "execution_count": 34,
     "metadata": {},
     "output_type": "execute_result"
    }
   ],
   "source": [
    "tuple(np.multiply(elbow,[640,480]).astype(int))"
   ]
  },
  {
   "cell_type": "code",
   "execution_count": 49,
   "id": "6a047eee",
   "metadata": {},
   "outputs": [],
   "source": [
    "cap = cv2.VideoCapture(0)\n",
    "# Setup mediapipe instance\n",
    "with mp_pose.Pose(min_detection_confidence=0.5,min_tracking_confidence=0.5) as pose:\n",
    "     while cap.isOpened():\n",
    "        ret,frame = cap.read()\n",
    "        #recolor Image to RGB\n",
    "        frame = cv2.flip(frame, 1)\n",
    "        image = cv2.cvtColor(frame,cv2.COLOR_BGR2RGB)\n",
    "        image.flags.writeable = False\n",
    "        # Make Detection\n",
    "        results = pose.process(image)\n",
    "        #recolor back to BGR\n",
    "        image.flags.writeable = True\n",
    "        image = cv2.cvtColor(image,cv2.COLOR_RGB2BGR)\n",
    "        \n",
    "        # Extract  landmakrs\n",
    "        try:\n",
    "            landmarks = results.pose_landmarks.landmark\n",
    "            #getting cordinates\n",
    "            shoulder = [landmarks[mp_pose.PoseLandmark.LEFT_SHOULDER.value].x,\n",
    "                        landmarks[mp_pose.PoseLandmark.LEFT_SHOULDER.value].y]\n",
    "            elbow = [landmarks[mp_pose.PoseLandmark.LEFT_ELBOW.value].x,\n",
    "                     landmarks[mp_pose.PoseLandmark.LEFT_ELBOW.value].y]\n",
    "            wrist = [landmarks[mp_pose.PoseLandmark.LEFT_WRIST.value].x,\n",
    "                     landmarks[mp_pose.PoseLandmark.LEFT_WRIST.value].y]\n",
    "            #calculate angle\n",
    "            angle = calculate_angle(shoulder, elbow, wrist)\n",
    "            # Visualize angle just below the elbow\n",
    "            elbow_coordinates = np.multiply(elbow, [frame.shape[1], frame.shape[0]]).astype(int)\n",
    "            text_coordinates = (elbow_coordinates[0], elbow_coordinates[1] + 30) # Adjust Y coordinate to display text below the elbow\n",
    "            #visualize angle\n",
    "            cv2.putText(image, str(angle), \n",
    "                        text_coordinates, \n",
    "                        cv2.FONT_HERSHEY_SIMPLEX, 0.5, (255, 255, 255), 2, cv2.LINE_AA)\n",
    "        except:\n",
    "            pass\n",
    "        \n",
    "        \n",
    "        #render directions\n",
    "        mp_drawing.draw_landmarks(image, results.pose_landmarks, mp_pose.POSE_CONNECTIONS,\n",
    "                                  mp_drawing.DrawingSpec(color=(245,117,66), thickness=2, circle_radius=2),\n",
    "                                  mp_drawing.DrawingSpec(color=(0,255,0), thickness=2, circle_radius=2)\n",
    "                                 )\n",
    "        cv2.imshow(\"Mediapipe Feed\",image)\n",
    "        if cv2.waitKey(25) & 0xff == ord('p'):\n",
    "            break\n",
    "    \n",
    "cap.release()\n",
    "cv2.destroyAllWindows()"
   ]
  },
  {
   "cell_type": "markdown",
   "id": "21d0c10f",
   "metadata": {},
   "source": [
    "# Curl Counter "
   ]
  },
  {
   "cell_type": "code",
   "execution_count": 55,
   "id": "3910fa66",
   "metadata": {},
   "outputs": [
    {
     "name": "stdout",
     "output_type": "stream",
     "text": [
      "1\n",
      "2\n",
      "3\n"
     ]
    }
   ],
   "source": [
    "cap = cv2.VideoCapture(0)\n",
    "\n",
    "# Curl Counter Variables\n",
    "counter = 0 \n",
    "stage = None\n",
    "# Setup mediapipe instance\n",
    "with mp_pose.Pose(min_detection_confidence=0.5,min_tracking_confidence=0.5) as pose:\n",
    "     while cap.isOpened():\n",
    "        ret,frame = cap.read()\n",
    "        #recolor Image to RGB\n",
    "        frame = cv2.flip(frame, 1)\n",
    "        image = cv2.cvtColor(frame,cv2.COLOR_BGR2RGB)\n",
    "        image.flags.writeable = False\n",
    "        # Make Detection\n",
    "        results = pose.process(image)\n",
    "        #recolor back to BGR\n",
    "        image.flags.writeable = True\n",
    "        image = cv2.cvtColor(image,cv2.COLOR_RGB2BGR)\n",
    "        \n",
    "        # Extract  landmakrs\n",
    "        try:\n",
    "            landmarks = results.pose_landmarks.landmark\n",
    "            #getting cordinates\n",
    "            shoulder = [landmarks[mp_pose.PoseLandmark.LEFT_SHOULDER.value].x,\n",
    "                        landmarks[mp_pose.PoseLandmark.LEFT_SHOULDER.value].y]\n",
    "            elbow = [landmarks[mp_pose.PoseLandmark.LEFT_ELBOW.value].x,\n",
    "                     landmarks[mp_pose.PoseLandmark.LEFT_ELBOW.value].y]\n",
    "            wrist = [landmarks[mp_pose.PoseLandmark.LEFT_WRIST.value].x,\n",
    "                     landmarks[mp_pose.PoseLandmark.LEFT_WRIST.value].y]\n",
    "            #calculate angle\n",
    "            angle = calculate_angle(shoulder, elbow, wrist)\n",
    "            # Visualize angle just below the elbow\n",
    "            elbow_coordinates = np.multiply(elbow, [frame.shape[1], frame.shape[0]]).astype(int)\n",
    "            text_coordinates = (elbow_coordinates[0], elbow_coordinates[1] + 30) # Adjust Y coordinate to display text below the elbow\n",
    "            #visualize angle\n",
    "            cv2.putText(image, str(angle), \n",
    "                        text_coordinates, \n",
    "                        cv2.FONT_HERSHEY_SIMPLEX, 0.5, (255, 255, 255), 2, cv2.LINE_AA)\n",
    "            \n",
    "            # Curl Counter Logic\n",
    "            if angle >160:\n",
    "                stage = \"Down\"\n",
    "            if angle < 40 and stage == 'Down':\n",
    "                stage = \"Up\"\n",
    "                counter +=1\n",
    "                \n",
    "        except:\n",
    "            pass\n",
    "        \n",
    "        # Render curl Counter\n",
    "        # setup status bar\n",
    "        cv2.rectangle(image,(0,0),(255,73),(245,117,16),-1)\n",
    "        \n",
    "        # Rep data\n",
    "        cv2.putText(image, 'REPS', (15,12), \n",
    "                    cv2.FONT_HERSHEY_SIMPLEX, 0.5, (0,0,0), 1, cv2.LINE_AA)\n",
    "        cv2.putText(image, str(counter), \n",
    "                    (10,60), \n",
    "                    cv2.FONT_HERSHEY_SIMPLEX, 2, (255,255,255), 2, cv2.LINE_AA)\n",
    "        \n",
    "        # Stage data\n",
    "        cv2.putText(image, 'STAGE', (65,12), \n",
    "                    cv2.FONT_HERSHEY_SIMPLEX, 0.5, (0,0,0), 1, cv2.LINE_AA)\n",
    "        cv2.putText(image, stage, \n",
    "                    (60,60), \n",
    "                    cv2.FONT_HERSHEY_SIMPLEX, 2, (255,255,255), 2, cv2.LINE_AA)\n",
    "        \n",
    "        \n",
    "        #render directions\n",
    "        mp_drawing.draw_landmarks(image, results.pose_landmarks, mp_pose.POSE_CONNECTIONS,\n",
    "                                  mp_drawing.DrawingSpec(color=(245,117,66), thickness=2, circle_radius=2),\n",
    "                                  mp_drawing.DrawingSpec(color=(0,255,0), thickness=2, circle_radius=2)\n",
    "                                 )\n",
    "        cv2.imshow(\"Mediapipe Feed\",image)\n",
    "        if cv2.waitKey(25) & 0xff == ord('p'):\n",
    "            break\n",
    "    \n",
    "cap.release()\n",
    "cv2.destroyAllWindows()"
   ]
  },
  {
   "cell_type": "code",
   "execution_count": null,
   "id": "61eb50c3",
   "metadata": {},
   "outputs": [],
   "source": []
  }
 ],
 "metadata": {
  "kernelspec": {
   "display_name": "Python 3 (ipykernel)",
   "language": "python",
   "name": "python3"
  },
  "language_info": {
   "codemirror_mode": {
    "name": "ipython",
    "version": 3
   },
   "file_extension": ".py",
   "mimetype": "text/x-python",
   "name": "python",
   "nbconvert_exporter": "python",
   "pygments_lexer": "ipython3",
   "version": "3.11.5"
  }
 },
 "nbformat": 4,
 "nbformat_minor": 5
}
