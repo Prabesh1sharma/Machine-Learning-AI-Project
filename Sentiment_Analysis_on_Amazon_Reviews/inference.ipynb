{
 "cells": [
  {
   "cell_type": "code",
   "execution_count": 1,
   "metadata": {},
   "outputs": [],
   "source": [
    "import numpy as np \n",
    "import neattext.functions as nfx\n",
    "import nltk\n",
    "from nltk.stem.porter import PorterStemmer\n",
    "import re\n",
    "import pickle"
   ]
  },
  {
   "cell_type": "code",
   "execution_count": 5,
   "metadata": {},
   "outputs": [],
   "source": [
    "def single_prediction(predictor, scaler, cv, text_input):\n",
    "    corpus = []\n",
    "    stemmer = PorterStemmer()\n",
    "    review = re.sub(\"[^a-zA-Z]\", \" \", text_input)\n",
    "    review = review.lower().split()\n",
    "    review = [nfx.remove_stopwords(word) for word in review]\n",
    "    review = [stemmer.stem(word) for word in review]\n",
    "    review = \" \".join(review)\n",
    "    corpus.append(review)\n",
    "    X_prediction = cv.transform(corpus).toarray()\n",
    "    X_prediction_scl = scaler.transform(X_prediction)\n",
    "    y_predictions = predictor.predict_proba(X_prediction_scl)\n",
    "    y_predictions = y_predictions.argmax(axis=1)[0]\n",
    "\n",
    "    return \"Positive\" if y_predictions == 1 else \"Negative\""
   ]
  },
  {
   "cell_type": "code",
   "execution_count": 9,
   "metadata": {},
   "outputs": [],
   "source": [
    "def predict():\n",
    "    predictor = pickle.load(open(r\"model_xgb.pkl\", \"rb\"))\n",
    "    scaler = pickle.load(open(r\"scaler.pkl\", \"rb\"))\n",
    "    cv = pickle.load(open(r\"countVectorizer.pkl\", \"rb\"))\n",
    "    text_input = input(\"Enter the review to check : \")\n",
    "    predicted_sentiment = single_prediction(predictor, scaler, cv, text_input)\n",
    "    return predicted_sentiment\n",
    "\n"
   ]
  },
  {
   "cell_type": "code",
   "execution_count": 10,
   "metadata": {},
   "outputs": [
    {
     "data": {
      "text/plain": [
       "'Positive'"
      ]
     },
     "execution_count": 10,
     "metadata": {},
     "output_type": "execute_result"
    }
   ],
   "source": [
    "predict()"
   ]
  },
  {
   "cell_type": "code",
   "execution_count": null,
   "metadata": {},
   "outputs": [],
   "source": []
  }
 ],
 "metadata": {
  "kernelspec": {
   "display_name": "base",
   "language": "python",
   "name": "python3"
  },
  "language_info": {
   "codemirror_mode": {
    "name": "ipython",
    "version": 3
   },
   "file_extension": ".py",
   "mimetype": "text/x-python",
   "name": "python",
   "nbconvert_exporter": "python",
   "pygments_lexer": "ipython3",
   "version": "3.11.5"
  }
 },
 "nbformat": 4,
 "nbformat_minor": 2
}
