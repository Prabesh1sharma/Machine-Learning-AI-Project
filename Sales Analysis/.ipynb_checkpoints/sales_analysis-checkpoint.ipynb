{
 "cells": [
  {
   "cell_type": "markdown",
   "metadata": {},
   "source": [
    "# SALES ANALYSIS"
   ]
  },
  {
   "cell_type": "markdown",
   "metadata": {},
   "source": [
    ">**<p>Abstract :</p>**\n",
    "This project mainly focuses on small part of Machine Learning i.e Exploratory Data Analysis(EDA).   \n",
    " It deals with tools and techniques for the analysis of our sales datasets so that appropriate bussiness strategy can be implemented and gain as much as profit in future. Main feature of this project is that i have implemented APRIORI ALGORITHM using APYORI Library for frequent Itemsets Generation and Association Rule Mining."
   ]
  },
  {
   "cell_type": "markdown",
   "metadata": {},
   "source": [
    "## **`Steps`**\n",
    "1. Importing Libraries and Loading Datasets.\n",
    "\n",
    "2. Data Preprocessing & Preparing Datasets.\n",
    "\n",
    "3. Exploratoty Data Analysis(EDA) & Visualization.\n",
    "\n",
    "        I) Determining Top 3 Months with Maximum and Minimum Sales in 2019.\n",
    "\n",
    "        II) Top 3 Cities with Maximum  and Minimum Sales in year 2019\n",
    "\n",
    "        III) Mining Best Time to Display Advertisements to Maximize the Sales.\n",
    "\n",
    "            - `Analyzing Specific City Sales vs Hour Line Plots`\n",
    "\n",
    "        IV) Top 5-Most Ordered /Sold Product\n",
    "\n",
    "        V) Market Basket Analysis- `Apriori Algorithm & Association Rule Mining`"
   ]
  },
  {
   "cell_type": "markdown",
   "metadata": {},
   "source": [
    "#### Import Packages and Libaries"
   ]
  },
  {
   "cell_type": "code",
   "execution_count": 1,
   "metadata": {},
   "outputs": [],
   "source": [
    "import pandas as pd\n",
    "import numpy as np \n",
    "import matplotlib.pyplot as plt\n",
    "import seaborn as sns\n",
    "from mlxtend.frequent_patterns import apriori\n",
    "from mlxtend.frequent_patterns import association_rules"
   ]
  },
  {
   "cell_type": "code",
   "execution_count": 2,
   "metadata": {},
   "outputs": [
    {
     "data": {
      "text/html": [
       "<div>\n",
       "<style scoped>\n",
       "    .dataframe tbody tr th:only-of-type {\n",
       "        vertical-align: middle;\n",
       "    }\n",
       "\n",
       "    .dataframe tbody tr th {\n",
       "        vertical-align: top;\n",
       "    }\n",
       "\n",
       "    .dataframe thead th {\n",
       "        text-align: right;\n",
       "    }\n",
       "</style>\n",
       "<table border=\"1\" class=\"dataframe\">\n",
       "  <thead>\n",
       "    <tr style=\"text-align: right;\">\n",
       "      <th></th>\n",
       "      <th>Order ID</th>\n",
       "      <th>Product</th>\n",
       "      <th>Quantity Ordered</th>\n",
       "      <th>Price Each</th>\n",
       "      <th>Order Date</th>\n",
       "      <th>Purchase Address</th>\n",
       "    </tr>\n",
       "  </thead>\n",
       "  <tbody>\n",
       "    <tr>\n",
       "      <th>0</th>\n",
       "      <td>236670</td>\n",
       "      <td>Wired Headphones</td>\n",
       "      <td>2</td>\n",
       "      <td>11.99</td>\n",
       "      <td>8/31/2019 22:21</td>\n",
       "      <td>359 Spruce St, Seattle, WA 98101</td>\n",
       "    </tr>\n",
       "    <tr>\n",
       "      <th>1</th>\n",
       "      <td>236671</td>\n",
       "      <td>Bose SoundSport Headphones</td>\n",
       "      <td>1</td>\n",
       "      <td>99.99</td>\n",
       "      <td>8/15/2019 15:11</td>\n",
       "      <td>492 Ridge St, Dallas, TX 75001</td>\n",
       "    </tr>\n",
       "    <tr>\n",
       "      <th>2</th>\n",
       "      <td>236672</td>\n",
       "      <td>iPhone</td>\n",
       "      <td>1</td>\n",
       "      <td>700</td>\n",
       "      <td>8/6/2019 14:40</td>\n",
       "      <td>149 7th St, Portland, OR 97035</td>\n",
       "    </tr>\n",
       "    <tr>\n",
       "      <th>3</th>\n",
       "      <td>236673</td>\n",
       "      <td>AA Batteries (4-pack)</td>\n",
       "      <td>2</td>\n",
       "      <td>3.84</td>\n",
       "      <td>8/29/2019 20:59</td>\n",
       "      <td>631 2nd St, Los Angeles, CA 90001</td>\n",
       "    </tr>\n",
       "    <tr>\n",
       "      <th>4</th>\n",
       "      <td>236674</td>\n",
       "      <td>AA Batteries (4-pack)</td>\n",
       "      <td>2</td>\n",
       "      <td>3.84</td>\n",
       "      <td>8/15/2019 19:53</td>\n",
       "      <td>736 14th St, New York City, NY 10001</td>\n",
       "    </tr>\n",
       "  </tbody>\n",
       "</table>\n",
       "</div>"
      ],
      "text/plain": [
       "  Order ID                     Product Quantity Ordered Price Each  \\\n",
       "0   236670            Wired Headphones                2      11.99   \n",
       "1   236671  Bose SoundSport Headphones                1      99.99   \n",
       "2   236672                      iPhone                1        700   \n",
       "3   236673       AA Batteries (4-pack)                2       3.84   \n",
       "4   236674       AA Batteries (4-pack)                2       3.84   \n",
       "\n",
       "        Order Date                      Purchase Address  \n",
       "0  8/31/2019 22:21      359 Spruce St, Seattle, WA 98101  \n",
       "1  8/15/2019 15:11        492 Ridge St, Dallas, TX 75001  \n",
       "2   8/6/2019 14:40        149 7th St, Portland, OR 97035  \n",
       "3  8/29/2019 20:59     631 2nd St, Los Angeles, CA 90001  \n",
       "4  8/15/2019 19:53  736 14th St, New York City, NY 10001  "
      ]
     },
     "execution_count": 2,
     "metadata": {},
     "output_type": "execute_result"
    }
   ],
   "source": [
    "df = pd.read_csv(\"all_data.csv\")\n",
    "df.head()"
   ]
  },
  {
   "cell_type": "code",
   "execution_count": 3,
   "metadata": {},
   "outputs": [
    {
     "data": {
      "text/plain": [
       "(186850, 6)"
      ]
     },
     "execution_count": 3,
     "metadata": {},
     "output_type": "execute_result"
    }
   ],
   "source": [
    "dfcopy = df.copy()\n",
    "dfcopy.shape"
   ]
  },
  {
   "cell_type": "code",
   "execution_count": 4,
   "metadata": {},
   "outputs": [
    {
     "data": {
      "text/plain": [
       "Order ID            545\n",
       "Product             545\n",
       "Quantity Ordered    545\n",
       "Price Each          545\n",
       "Order Date          545\n",
       "Purchase Address    545\n",
       "dtype: int64"
      ]
     },
     "execution_count": 4,
     "metadata": {},
     "output_type": "execute_result"
    }
   ],
   "source": [
    "#checking for null value \n",
    "dfcopy.isnull().sum()"
   ]
  },
  {
   "cell_type": "code",
   "execution_count": 5,
   "metadata": {},
   "outputs": [
    {
     "data": {
      "text/plain": [
       "(186305, 6)"
      ]
     },
     "execution_count": 5,
     "metadata": {},
     "output_type": "execute_result"
    }
   ],
   "source": [
    "# If there are null value in any rows, completely all these rows are null so its good to drop them\n",
    "#The dropna() method removes all rows that contain null values in the specified column\n",
    "dfcopy.dropna(inplace=True)\n",
    "dfcopy.shape"
   ]
  },
  {
   "cell_type": "code",
   "execution_count": 6,
   "metadata": {},
   "outputs": [
    {
     "data": {
      "text/plain": [
       "545"
      ]
     },
     "execution_count": 6,
     "metadata": {},
     "output_type": "execute_result"
    }
   ],
   "source": [
    "186850-186305"
   ]
  },
  {
   "cell_type": "code",
   "execution_count": 7,
   "metadata": {},
   "outputs": [
    {
     "data": {
      "text/plain": [
       "Order ID            0\n",
       "Product             0\n",
       "Quantity Ordered    0\n",
       "Price Each          0\n",
       "Order Date          0\n",
       "Purchase Address    0\n",
       "dtype: int64"
      ]
     },
     "execution_count": 7,
     "metadata": {},
     "output_type": "execute_result"
    }
   ],
   "source": [
    "dfcopy.isna().sum()"
   ]
  },
  {
   "cell_type": "code",
   "execution_count": 8,
   "metadata": {},
   "outputs": [
    {
     "data": {
      "text/plain": [
       "618"
      ]
     },
     "execution_count": 8,
     "metadata": {},
     "output_type": "execute_result"
    }
   ],
   "source": [
    "#lets check for duplicate value \n",
    "dfcopy.duplicated().sum()"
   ]
  },
  {
   "cell_type": "code",
   "execution_count": 9,
   "metadata": {},
   "outputs": [
    {
     "data": {
      "text/plain": [
       "(185687, 6)"
      ]
     },
     "execution_count": 9,
     "metadata": {},
     "output_type": "execute_result"
    }
   ],
   "source": [
    "dfcopy= dfcopy.drop_duplicates()\n",
    "dfcopy.shape"
   ]
  },
  {
   "cell_type": "code",
   "execution_count": 10,
   "metadata": {},
   "outputs": [
    {
     "data": {
      "text/plain": [
       "0"
      ]
     },
     "execution_count": 10,
     "metadata": {},
     "output_type": "execute_result"
    }
   ],
   "source": [
    "dfcopy.duplicated().sum()"
   ]
  },
  {
   "cell_type": "markdown",
   "metadata": {},
   "source": [
    "Lets calculate     \n",
    "sales = Price Each * Quantity Ordered     \n",
    "for this 'price each and quantity ordered' columns should be in numeric format\n"
   ]
  },
  {
   "cell_type": "code",
   "execution_count": 11,
   "metadata": {},
   "outputs": [],
   "source": [
    "# dfcopy[\"Sales\"] = dfcopy[\"Price Each\"] * dfcopy[\"Quantity Ordered\"]\n",
    "# dfcopy.head()"
   ]
  },
  {
   "cell_type": "code",
   "execution_count": 12,
   "metadata": {},
   "outputs": [
    {
     "data": {
      "text/plain": [
       "Order ID            object\n",
       "Product             object\n",
       "Quantity Ordered    object\n",
       "Price Each          object\n",
       "Order Date          object\n",
       "Purchase Address    object\n",
       "dtype: object"
      ]
     },
     "execution_count": 12,
     "metadata": {},
     "output_type": "execute_result"
    }
   ],
   "source": [
    "dfcopy.dtypes"
   ]
  },
  {
   "cell_type": "code",
   "execution_count": 13,
   "metadata": {},
   "outputs": [],
   "source": [
    "# dfcopy[\"Price Each\"] = pd.to_numeric(dfcopy[\"Price Each\"])\n",
    "# dfcopy[\"Quantity Ordered\"] = pd.to_numeric(dfcopy[\"Quantity Ordered\"])\n",
    "\n",
    "# dfcopy.dtypes"
   ]
  },
  {
   "cell_type": "code",
   "execution_count": 14,
   "metadata": {},
   "outputs": [
    {
     "data": {
      "text/plain": [
       "'Quantity Ordered'"
      ]
     },
     "execution_count": 14,
     "metadata": {},
     "output_type": "execute_result"
    }
   ],
   "source": [
    "dfcopy[\"Quantity Ordered\"].iloc[211]"
   ]
  },
  {
   "cell_type": "code",
   "execution_count": 15,
   "metadata": {},
   "outputs": [
    {
     "data": {
      "text/html": [
       "<div>\n",
       "<style scoped>\n",
       "    .dataframe tbody tr th:only-of-type {\n",
       "        vertical-align: middle;\n",
       "    }\n",
       "\n",
       "    .dataframe tbody tr th {\n",
       "        vertical-align: top;\n",
       "    }\n",
       "\n",
       "    .dataframe thead th {\n",
       "        text-align: right;\n",
       "    }\n",
       "</style>\n",
       "<table border=\"1\" class=\"dataframe\">\n",
       "  <thead>\n",
       "    <tr style=\"text-align: right;\">\n",
       "      <th></th>\n",
       "      <th>Order ID</th>\n",
       "      <th>Product</th>\n",
       "      <th>Quantity Ordered</th>\n",
       "      <th>Price Each</th>\n",
       "      <th>Order Date</th>\n",
       "      <th>Purchase Address</th>\n",
       "    </tr>\n",
       "  </thead>\n",
       "  <tbody>\n",
       "    <tr>\n",
       "      <th>211</th>\n",
       "      <td>Order ID</td>\n",
       "      <td>Product</td>\n",
       "      <td>Quantity Ordered</td>\n",
       "      <td>Price Each</td>\n",
       "      <td>Order Date</td>\n",
       "      <td>Purchase Address</td>\n",
       "    </tr>\n",
       "  </tbody>\n",
       "</table>\n",
       "</div>"
      ],
      "text/plain": [
       "     Order ID  Product  Quantity Ordered  Price Each  Order Date  \\\n",
       "211  Order ID  Product  Quantity Ordered  Price Each  Order Date   \n",
       "\n",
       "     Purchase Address  \n",
       "211  Purchase Address  "
      ]
     },
     "execution_count": 15,
     "metadata": {},
     "output_type": "execute_result"
    }
   ],
   "source": [
    "temp_df = dfcopy[dfcopy[\"Quantity Ordered\"] == \"Quantity Ordered\"]\n",
    "temp_df"
   ]
  },
  {
   "cell_type": "code",
   "execution_count": 16,
   "metadata": {},
   "outputs": [
    {
     "data": {
      "text/plain": [
       "(185687, 6)"
      ]
     },
     "execution_count": 16,
     "metadata": {},
     "output_type": "execute_result"
    }
   ],
   "source": [
    "dfcopy.shape"
   ]
  },
  {
   "cell_type": "code",
   "execution_count": 17,
   "metadata": {},
   "outputs": [
    {
     "data": {
      "text/plain": [
       "(185686, 6)"
      ]
     },
     "execution_count": 17,
     "metadata": {},
     "output_type": "execute_result"
    }
   ],
   "source": [
    "dfcopy = dfcopy[dfcopy[\"Quantity Ordered\"] != \"Quantity Ordered\"]\n",
    "dfcopy.shape"
   ]
  },
  {
   "cell_type": "code",
   "execution_count": 18,
   "metadata": {},
   "outputs": [
    {
     "data": {
      "text/plain": [
       "Order ID             object\n",
       "Product              object\n",
       "Quantity Ordered      int64\n",
       "Price Each          float64\n",
       "Order Date           object\n",
       "Purchase Address     object\n",
       "dtype: object"
      ]
     },
     "execution_count": 18,
     "metadata": {},
     "output_type": "execute_result"
    }
   ],
   "source": [
    "dfcopy[\"Price Each\"] = pd.to_numeric(dfcopy[\"Price Each\"])\n",
    "dfcopy[\"Quantity Ordered\"] = pd.to_numeric(dfcopy[\"Quantity Ordered\"])\n",
    "\n",
    "dfcopy.dtypes"
   ]
  },
  {
   "cell_type": "code",
   "execution_count": 19,
   "metadata": {},
   "outputs": [
    {
     "data": {
      "text/html": [
       "<div>\n",
       "<style scoped>\n",
       "    .dataframe tbody tr th:only-of-type {\n",
       "        vertical-align: middle;\n",
       "    }\n",
       "\n",
       "    .dataframe tbody tr th {\n",
       "        vertical-align: top;\n",
       "    }\n",
       "\n",
       "    .dataframe thead th {\n",
       "        text-align: right;\n",
       "    }\n",
       "</style>\n",
       "<table border=\"1\" class=\"dataframe\">\n",
       "  <thead>\n",
       "    <tr style=\"text-align: right;\">\n",
       "      <th></th>\n",
       "      <th>Order ID</th>\n",
       "      <th>Product</th>\n",
       "      <th>Quantity Ordered</th>\n",
       "      <th>Price Each</th>\n",
       "      <th>Order Date</th>\n",
       "      <th>Purchase Address</th>\n",
       "      <th>Sales</th>\n",
       "    </tr>\n",
       "  </thead>\n",
       "  <tbody>\n",
       "    <tr>\n",
       "      <th>0</th>\n",
       "      <td>236670</td>\n",
       "      <td>Wired Headphones</td>\n",
       "      <td>2</td>\n",
       "      <td>11.99</td>\n",
       "      <td>8/31/2019 22:21</td>\n",
       "      <td>359 Spruce St, Seattle, WA 98101</td>\n",
       "      <td>23.98</td>\n",
       "    </tr>\n",
       "    <tr>\n",
       "      <th>1</th>\n",
       "      <td>236671</td>\n",
       "      <td>Bose SoundSport Headphones</td>\n",
       "      <td>1</td>\n",
       "      <td>99.99</td>\n",
       "      <td>8/15/2019 15:11</td>\n",
       "      <td>492 Ridge St, Dallas, TX 75001</td>\n",
       "      <td>99.99</td>\n",
       "    </tr>\n",
       "    <tr>\n",
       "      <th>2</th>\n",
       "      <td>236672</td>\n",
       "      <td>iPhone</td>\n",
       "      <td>1</td>\n",
       "      <td>700.00</td>\n",
       "      <td>8/6/2019 14:40</td>\n",
       "      <td>149 7th St, Portland, OR 97035</td>\n",
       "      <td>700.00</td>\n",
       "    </tr>\n",
       "    <tr>\n",
       "      <th>3</th>\n",
       "      <td>236673</td>\n",
       "      <td>AA Batteries (4-pack)</td>\n",
       "      <td>2</td>\n",
       "      <td>3.84</td>\n",
       "      <td>8/29/2019 20:59</td>\n",
       "      <td>631 2nd St, Los Angeles, CA 90001</td>\n",
       "      <td>7.68</td>\n",
       "    </tr>\n",
       "    <tr>\n",
       "      <th>4</th>\n",
       "      <td>236674</td>\n",
       "      <td>AA Batteries (4-pack)</td>\n",
       "      <td>2</td>\n",
       "      <td>3.84</td>\n",
       "      <td>8/15/2019 19:53</td>\n",
       "      <td>736 14th St, New York City, NY 10001</td>\n",
       "      <td>7.68</td>\n",
       "    </tr>\n",
       "  </tbody>\n",
       "</table>\n",
       "</div>"
      ],
      "text/plain": [
       "  Order ID                     Product  Quantity Ordered  Price Each  \\\n",
       "0   236670            Wired Headphones                 2       11.99   \n",
       "1   236671  Bose SoundSport Headphones                 1       99.99   \n",
       "2   236672                      iPhone                 1      700.00   \n",
       "3   236673       AA Batteries (4-pack)                 2        3.84   \n",
       "4   236674       AA Batteries (4-pack)                 2        3.84   \n",
       "\n",
       "        Order Date                      Purchase Address   Sales  \n",
       "0  8/31/2019 22:21      359 Spruce St, Seattle, WA 98101   23.98  \n",
       "1  8/15/2019 15:11        492 Ridge St, Dallas, TX 75001   99.99  \n",
       "2   8/6/2019 14:40        149 7th St, Portland, OR 97035  700.00  \n",
       "3  8/29/2019 20:59     631 2nd St, Los Angeles, CA 90001    7.68  \n",
       "4  8/15/2019 19:53  736 14th St, New York City, NY 10001    7.68  "
      ]
     },
     "execution_count": 19,
     "metadata": {},
     "output_type": "execute_result"
    }
   ],
   "source": [
    "dfcopy[\"Sales\"] = dfcopy[\"Price Each\"] * dfcopy[\"Quantity Ordered\"]\n",
    "dfcopy.head()"
   ]
  },
  {
   "cell_type": "markdown",
   "metadata": {},
   "source": [
    "### Exploratoty Data Analysis(EDA) & Visualization:"
   ]
  },
  {
   "cell_type": "code",
   "execution_count": 20,
   "metadata": {},
   "outputs": [
    {
     "data": {
      "text/html": [
       "<div>\n",
       "<style scoped>\n",
       "    .dataframe tbody tr th:only-of-type {\n",
       "        vertical-align: middle;\n",
       "    }\n",
       "\n",
       "    .dataframe tbody tr th {\n",
       "        vertical-align: top;\n",
       "    }\n",
       "\n",
       "    .dataframe thead th {\n",
       "        text-align: right;\n",
       "    }\n",
       "</style>\n",
       "<table border=\"1\" class=\"dataframe\">\n",
       "  <thead>\n",
       "    <tr style=\"text-align: right;\">\n",
       "      <th></th>\n",
       "      <th>Quantity Ordered</th>\n",
       "      <th>Price Each</th>\n",
       "      <th>Sales</th>\n",
       "    </tr>\n",
       "  </thead>\n",
       "  <tbody>\n",
       "    <tr>\n",
       "      <th>Quantity Ordered</th>\n",
       "      <td>1.000000</td>\n",
       "      <td>-0.148422</td>\n",
       "      <td>-0.139564</td>\n",
       "    </tr>\n",
       "    <tr>\n",
       "      <th>Price Each</th>\n",
       "      <td>-0.148422</td>\n",
       "      <td>1.000000</td>\n",
       "      <td>0.999202</td>\n",
       "    </tr>\n",
       "    <tr>\n",
       "      <th>Sales</th>\n",
       "      <td>-0.139564</td>\n",
       "      <td>0.999202</td>\n",
       "      <td>1.000000</td>\n",
       "    </tr>\n",
       "  </tbody>\n",
       "</table>\n",
       "</div>"
      ],
      "text/plain": [
       "                  Quantity Ordered  Price Each     Sales\n",
       "Quantity Ordered          1.000000   -0.148422 -0.139564\n",
       "Price Each               -0.148422    1.000000  0.999202\n",
       "Sales                    -0.139564    0.999202  1.000000"
      ]
     },
     "execution_count": 20,
     "metadata": {},
     "output_type": "execute_result"
    }
   ],
   "source": [
    "numeric_columns = dfcopy.select_dtypes(include=['number'])\n",
    "numeric_columns.corr()"
   ]
  },
  {
   "cell_type": "code",
   "execution_count": null,
   "metadata": {},
   "outputs": [],
   "source": []
  },
  {
   "cell_type": "code",
   "execution_count": 21,
   "metadata": {},
   "outputs": [
    {
     "data": {
      "text/plain": [
       "<Axes: >"
      ]
     },
     "execution_count": 21,
     "metadata": {},
     "output_type": "execute_result"
    },
    {
     "data": {
      "image/png": "[encoded data removed]",
      "text/plain": [
       "<Figure size 640x480 with 2 Axes>"
      ]
     },
     "metadata": {},
     "output_type": "display_data"
    }
   ],
   "source": [
    "sns.heatmap(numeric_columns.corr(), cmap=\"coolwarm\", annot=True)"
   ]
  },
  {
   "cell_type": "markdown",
   "metadata": {},
   "source": [
    "It is obvious that Price Each and Sales are directly related.   \n",
    "But after this heatmap our hypothesis has proved as sales and price each are highly correlated"
   ]
  },
  {
   "cell_type": "markdown",
   "metadata": {},
   "source": [
    "## Determining Top 3 Months with Maximum and Minimum Sales in 2019."
   ]
  },
  {
   "cell_type": "code",
   "execution_count": 22,
   "metadata": {},
   "outputs": [
    {
     "data": {
      "text/plain": [
       "dtype('O')"
      ]
     },
     "execution_count": 22,
     "metadata": {},
     "output_type": "execute_result"
    }
   ],
   "source": [
    "dfcopy[\"Order Date\"].dtypes"
   ]
  },
  {
   "cell_type": "code",
   "execution_count": 23,
   "metadata": {},
   "outputs": [
    {
     "data": {
      "text/plain": [
       "dtype('<M8[ns]')"
      ]
     },
     "execution_count": 23,
     "metadata": {},
     "output_type": "execute_result"
    }
   ],
   "source": [
    "dfcopy[\"Order Date\"] = pd.to_datetime(dfcopy[\"Order Date\"])\n",
    "dfcopy[\"Order Date\"].dtypes\n"
   ]
  },
  {
   "cell_type": "code",
   "execution_count": 24,
   "metadata": {},
   "outputs": [
    {
     "data": {
      "text/html": [
       "<div>\n",
       "<style scoped>\n",
       "    .dataframe tbody tr th:only-of-type {\n",
       "        vertical-align: middle;\n",
       "    }\n",
       "\n",
       "    .dataframe tbody tr th {\n",
       "        vertical-align: top;\n",
       "    }\n",
       "\n",
       "    .dataframe thead th {\n",
       "        text-align: right;\n",
       "    }\n",
       "</style>\n",
       "<table border=\"1\" class=\"dataframe\">\n",
       "  <thead>\n",
       "    <tr style=\"text-align: right;\">\n",
       "      <th></th>\n",
       "      <th>Order ID</th>\n",
       "      <th>Product</th>\n",
       "      <th>Quantity Ordered</th>\n",
       "      <th>Price Each</th>\n",
       "      <th>Order Date</th>\n",
       "      <th>Purchase Address</th>\n",
       "      <th>Sales</th>\n",
       "    </tr>\n",
       "  </thead>\n",
       "  <tbody>\n",
       "    <tr>\n",
       "      <th>0</th>\n",
       "      <td>236670</td>\n",
       "      <td>Wired Headphones</td>\n",
       "      <td>2</td>\n",
       "      <td>11.99</td>\n",
       "      <td>2019-08-31 22:21:00</td>\n",
       "      <td>359 Spruce St, Seattle, WA 98101</td>\n",
       "      <td>23.98</td>\n",
       "    </tr>\n",
       "    <tr>\n",
       "      <th>1</th>\n",
       "      <td>236671</td>\n",
       "      <td>Bose SoundSport Headphones</td>\n",
       "      <td>1</td>\n",
       "      <td>99.99</td>\n",
       "      <td>2019-08-15 15:11:00</td>\n",
       "      <td>492 Ridge St, Dallas, TX 75001</td>\n",
       "      <td>99.99</td>\n",
       "    </tr>\n",
       "    <tr>\n",
       "      <th>2</th>\n",
       "      <td>236672</td>\n",
       "      <td>iPhone</td>\n",
       "      <td>1</td>\n",
       "      <td>700.00</td>\n",
       "      <td>2019-08-06 14:40:00</td>\n",
       "      <td>149 7th St, Portland, OR 97035</td>\n",
       "      <td>700.00</td>\n",
       "    </tr>\n",
       "    <tr>\n",
       "      <th>3</th>\n",
       "      <td>236673</td>\n",
       "      <td>AA Batteries (4-pack)</td>\n",
       "      <td>2</td>\n",
       "      <td>3.84</td>\n",
       "      <td>2019-08-29 20:59:00</td>\n",
       "      <td>631 2nd St, Los Angeles, CA 90001</td>\n",
       "      <td>7.68</td>\n",
       "    </tr>\n",
       "    <tr>\n",
       "      <th>4</th>\n",
       "      <td>236674</td>\n",
       "      <td>AA Batteries (4-pack)</td>\n",
       "      <td>2</td>\n",
       "      <td>3.84</td>\n",
       "      <td>2019-08-15 19:53:00</td>\n",
       "      <td>736 14th St, New York City, NY 10001</td>\n",
       "      <td>7.68</td>\n",
       "    </tr>\n",
       "  </tbody>\n",
       "</table>\n",
       "</div>"
      ],
      "text/plain": [
       "  Order ID                     Product  Quantity Ordered  Price Each  \\\n",
       "0   236670            Wired Headphones                 2       11.99   \n",
       "1   236671  Bose SoundSport Headphones                 1       99.99   \n",
       "2   236672                      iPhone                 1      700.00   \n",
       "3   236673       AA Batteries (4-pack)                 2        3.84   \n",
       "4   236674       AA Batteries (4-pack)                 2        3.84   \n",
       "\n",
       "           Order Date                      Purchase Address   Sales  \n",
       "0 2019-08-31 22:21:00      359 Spruce St, Seattle, WA 98101   23.98  \n",
       "1 2019-08-15 15:11:00        492 Ridge St, Dallas, TX 75001   99.99  \n",
       "2 2019-08-06 14:40:00        149 7th St, Portland, OR 97035  700.00  \n",
       "3 2019-08-29 20:59:00     631 2nd St, Los Angeles, CA 90001    7.68  \n",
       "4 2019-08-15 19:53:00  736 14th St, New York City, NY 10001    7.68  "
      ]
     },
     "execution_count": 24,
     "metadata": {},
     "output_type": "execute_result"
    }
   ],
   "source": [
    "dfcopy.head()"
   ]
  },
  {
   "cell_type": "code",
   "execution_count": 25,
   "metadata": {},
   "outputs": [
    {
     "data": {
      "text/html": [
       "<div>\n",
       "<style scoped>\n",
       "    .dataframe tbody tr th:only-of-type {\n",
       "        vertical-align: middle;\n",
       "    }\n",
       "\n",
       "    .dataframe tbody tr th {\n",
       "        vertical-align: top;\n",
       "    }\n",
       "\n",
       "    .dataframe thead th {\n",
       "        text-align: right;\n",
       "    }\n",
       "</style>\n",
       "<table border=\"1\" class=\"dataframe\">\n",
       "  <thead>\n",
       "    <tr style=\"text-align: right;\">\n",
       "      <th></th>\n",
       "      <th>Order ID</th>\n",
       "      <th>Product</th>\n",
       "      <th>Quantity Ordered</th>\n",
       "      <th>Price Each</th>\n",
       "      <th>Order Date</th>\n",
       "      <th>Purchase Address</th>\n",
       "      <th>Sales</th>\n",
       "      <th>month_no</th>\n",
       "    </tr>\n",
       "  </thead>\n",
       "  <tbody>\n",
       "    <tr>\n",
       "      <th>0</th>\n",
       "      <td>236670</td>\n",
       "      <td>Wired Headphones</td>\n",
       "      <td>2</td>\n",
       "      <td>11.99</td>\n",
       "      <td>2019-08-31 22:21:00</td>\n",
       "      <td>359 Spruce St, Seattle, WA 98101</td>\n",
       "      <td>23.98</td>\n",
       "      <td>8</td>\n",
       "    </tr>\n",
       "    <tr>\n",
       "      <th>1</th>\n",
       "      <td>236671</td>\n",
       "      <td>Bose SoundSport Headphones</td>\n",
       "      <td>1</td>\n",
       "      <td>99.99</td>\n",
       "      <td>2019-08-15 15:11:00</td>\n",
       "      <td>492 Ridge St, Dallas, TX 75001</td>\n",
       "      <td>99.99</td>\n",
       "      <td>8</td>\n",
       "    </tr>\n",
       "    <tr>\n",
       "      <th>2</th>\n",
       "      <td>236672</td>\n",
       "      <td>iPhone</td>\n",
       "      <td>1</td>\n",
       "      <td>700.00</td>\n",
       "      <td>2019-08-06 14:40:00</td>\n",
       "      <td>149 7th St, Portland, OR 97035</td>\n",
       "      <td>700.00</td>\n",
       "      <td>8</td>\n",
       "    </tr>\n",
       "    <tr>\n",
       "      <th>3</th>\n",
       "      <td>236673</td>\n",
       "      <td>AA Batteries (4-pack)</td>\n",
       "      <td>2</td>\n",
       "      <td>3.84</td>\n",
       "      <td>2019-08-29 20:59:00</td>\n",
       "      <td>631 2nd St, Los Angeles, CA 90001</td>\n",
       "      <td>7.68</td>\n",
       "      <td>8</td>\n",
       "    </tr>\n",
       "    <tr>\n",
       "      <th>4</th>\n",
       "      <td>236674</td>\n",
       "      <td>AA Batteries (4-pack)</td>\n",
       "      <td>2</td>\n",
       "      <td>3.84</td>\n",
       "      <td>2019-08-15 19:53:00</td>\n",
       "      <td>736 14th St, New York City, NY 10001</td>\n",
       "      <td>7.68</td>\n",
       "      <td>8</td>\n",
       "    </tr>\n",
       "  </tbody>\n",
       "</table>\n",
       "</div>"
      ],
      "text/plain": [
       "  Order ID                     Product  Quantity Ordered  Price Each  \\\n",
       "0   236670            Wired Headphones                 2       11.99   \n",
       "1   236671  Bose SoundSport Headphones                 1       99.99   \n",
       "2   236672                      iPhone                 1      700.00   \n",
       "3   236673       AA Batteries (4-pack)                 2        3.84   \n",
       "4   236674       AA Batteries (4-pack)                 2        3.84   \n",
       "\n",
       "           Order Date                      Purchase Address   Sales  month_no  \n",
       "0 2019-08-31 22:21:00      359 Spruce St, Seattle, WA 98101   23.98         8  \n",
       "1 2019-08-15 15:11:00        492 Ridge St, Dallas, TX 75001   99.99         8  \n",
       "2 2019-08-06 14:40:00        149 7th St, Portland, OR 97035  700.00         8  \n",
       "3 2019-08-29 20:59:00     631 2nd St, Los Angeles, CA 90001    7.68         8  \n",
       "4 2019-08-15 19:53:00  736 14th St, New York City, NY 10001    7.68         8  "
      ]
     },
     "execution_count": 25,
     "metadata": {},
     "output_type": "execute_result"
    }
   ],
   "source": [
    "dfcopy[\"month_no\"] = dfcopy[\"Order Date\"].dt.month\n",
    "dfcopy.head()"
   ]
  },
  {
   "cell_type": "code",
   "execution_count": 26,
   "metadata": {},
   "outputs": [
    {
     "data": {
      "text/html": [
       "<div>\n",
       "<style scoped>\n",
       "    .dataframe tbody tr th:only-of-type {\n",
       "        vertical-align: middle;\n",
       "    }\n",
       "\n",
       "    .dataframe tbody tr th {\n",
       "        vertical-align: top;\n",
       "    }\n",
       "\n",
       "    .dataframe thead th {\n",
       "        text-align: right;\n",
       "    }\n",
       "</style>\n",
       "<table border=\"1\" class=\"dataframe\">\n",
       "  <thead>\n",
       "    <tr style=\"text-align: right;\">\n",
       "      <th></th>\n",
       "      <th>Order ID</th>\n",
       "      <th>Product</th>\n",
       "      <th>Quantity Ordered</th>\n",
       "      <th>Price Each</th>\n",
       "      <th>Order Date</th>\n",
       "      <th>Purchase Address</th>\n",
       "      <th>Sales</th>\n",
       "      <th>month_no</th>\n",
       "      <th>Month</th>\n",
       "    </tr>\n",
       "  </thead>\n",
       "  <tbody>\n",
       "    <tr>\n",
       "      <th>0</th>\n",
       "      <td>236670</td>\n",
       "      <td>Wired Headphones</td>\n",
       "      <td>2</td>\n",
       "      <td>11.99</td>\n",
       "      <td>2019-08-31 22:21:00</td>\n",
       "      <td>359 Spruce St, Seattle, WA 98101</td>\n",
       "      <td>23.98</td>\n",
       "      <td>8</td>\n",
       "      <td>Aug</td>\n",
       "    </tr>\n",
       "    <tr>\n",
       "      <th>1</th>\n",
       "      <td>236671</td>\n",
       "      <td>Bose SoundSport Headphones</td>\n",
       "      <td>1</td>\n",
       "      <td>99.99</td>\n",
       "      <td>2019-08-15 15:11:00</td>\n",
       "      <td>492 Ridge St, Dallas, TX 75001</td>\n",
       "      <td>99.99</td>\n",
       "      <td>8</td>\n",
       "      <td>Aug</td>\n",
       "    </tr>\n",
       "    <tr>\n",
       "      <th>2</th>\n",
       "      <td>236672</td>\n",
       "      <td>iPhone</td>\n",
       "      <td>1</td>\n",
       "      <td>700.00</td>\n",
       "      <td>2019-08-06 14:40:00</td>\n",
       "      <td>149 7th St, Portland, OR 97035</td>\n",
       "      <td>700.00</td>\n",
       "      <td>8</td>\n",
       "      <td>Aug</td>\n",
       "    </tr>\n",
       "    <tr>\n",
       "      <th>3</th>\n",
       "      <td>236673</td>\n",
       "      <td>AA Batteries (4-pack)</td>\n",
       "      <td>2</td>\n",
       "      <td>3.84</td>\n",
       "      <td>2019-08-29 20:59:00</td>\n",
       "      <td>631 2nd St, Los Angeles, CA 90001</td>\n",
       "      <td>7.68</td>\n",
       "      <td>8</td>\n",
       "      <td>Aug</td>\n",
       "    </tr>\n",
       "    <tr>\n",
       "      <th>4</th>\n",
       "      <td>236674</td>\n",
       "      <td>AA Batteries (4-pack)</td>\n",
       "      <td>2</td>\n",
       "      <td>3.84</td>\n",
       "      <td>2019-08-15 19:53:00</td>\n",
       "      <td>736 14th St, New York City, NY 10001</td>\n",
       "      <td>7.68</td>\n",
       "      <td>8</td>\n",
       "      <td>Aug</td>\n",
       "    </tr>\n",
       "  </tbody>\n",
       "</table>\n",
       "</div>"
      ],
      "text/plain": [
       "  Order ID                     Product  Quantity Ordered  Price Each  \\\n",
       "0   236670            Wired Headphones                 2       11.99   \n",
       "1   236671  Bose SoundSport Headphones                 1       99.99   \n",
       "2   236672                      iPhone                 1      700.00   \n",
       "3   236673       AA Batteries (4-pack)                 2        3.84   \n",
       "4   236674       AA Batteries (4-pack)                 2        3.84   \n",
       "\n",
       "           Order Date                      Purchase Address   Sales  month_no  \\\n",
       "0 2019-08-31 22:21:00      359 Spruce St, Seattle, WA 98101   23.98         8   \n",
       "1 2019-08-15 15:11:00        492 Ridge St, Dallas, TX 75001   99.99         8   \n",
       "2 2019-08-06 14:40:00        149 7th St, Portland, OR 97035  700.00         8   \n",
       "3 2019-08-29 20:59:00     631 2nd St, Los Angeles, CA 90001    7.68         8   \n",
       "4 2019-08-15 19:53:00  736 14th St, New York City, NY 10001    7.68         8   \n",
       "\n",
       "  Month  \n",
       "0   Aug  \n",
       "1   Aug  \n",
       "2   Aug  \n",
       "3   Aug  \n",
       "4   Aug  "
      ]
     },
     "execution_count": 26,
     "metadata": {},
     "output_type": "execute_result"
    }
   ],
   "source": [
    "dfcopy[\"Month\"] = dfcopy[\"month_no\"].replace({1:\"Jan\", 2:\"Feb\", 3:\"Mar\", 4:\"Apr\", 5:\"May\", 6:\"Jun\", 7:\"Jul\",8:\"Aug\",\n",
    "                                              9:\"Sep\", 10:\"Oct\", 11:\"Nov\", 12:\"Dec\"})\n",
    "\n",
    "dfcopy.head()"
   ]
  },
  {
   "cell_type": "code",
   "execution_count": 27,
   "metadata": {},
   "outputs": [
    {
     "data": {
      "text/html": [
       "<div>\n",
       "<style scoped>\n",
       "    .dataframe tbody tr th:only-of-type {\n",
       "        vertical-align: middle;\n",
       "    }\n",
       "\n",
       "    .dataframe tbody tr th {\n",
       "        vertical-align: top;\n",
       "    }\n",
       "\n",
       "    .dataframe thead th {\n",
       "        text-align: right;\n",
       "    }\n",
       "</style>\n",
       "<table border=\"1\" class=\"dataframe\">\n",
       "  <thead>\n",
       "    <tr style=\"text-align: right;\">\n",
       "      <th></th>\n",
       "      <th>Order ID</th>\n",
       "      <th>Product</th>\n",
       "      <th>Quantity Ordered</th>\n",
       "      <th>Price Each</th>\n",
       "      <th>Order Date</th>\n",
       "      <th>Purchase Address</th>\n",
       "      <th>Sales</th>\n",
       "      <th>month_no</th>\n",
       "      <th>Month</th>\n",
       "    </tr>\n",
       "  </thead>\n",
       "  <tbody>\n",
       "    <tr>\n",
       "      <th>61134</th>\n",
       "      <td>143879</td>\n",
       "      <td>USB-C Charging Cable</td>\n",
       "      <td>1</td>\n",
       "      <td>11.95</td>\n",
       "      <td>2019-01-28 12:11:00</td>\n",
       "      <td>665 Adams St, San Francisco, CA 94016</td>\n",
       "      <td>11.95</td>\n",
       "      <td>1</td>\n",
       "      <td>Jan</td>\n",
       "    </tr>\n",
       "    <tr>\n",
       "      <th>62887</th>\n",
       "      <td>145550</td>\n",
       "      <td>Apple Airpods Headphones</td>\n",
       "      <td>1</td>\n",
       "      <td>150.00</td>\n",
       "      <td>2019-01-30 18:53:00</td>\n",
       "      <td>505 North St, Seattle, WA 98101</td>\n",
       "      <td>150.00</td>\n",
       "      <td>1</td>\n",
       "      <td>Jan</td>\n",
       "    </tr>\n",
       "    <tr>\n",
       "      <th>62886</th>\n",
       "      <td>145549</td>\n",
       "      <td>Apple Airpods Headphones</td>\n",
       "      <td>1</td>\n",
       "      <td>150.00</td>\n",
       "      <td>2019-01-02 09:45:00</td>\n",
       "      <td>644 1st St, San Francisco, CA 94016</td>\n",
       "      <td>150.00</td>\n",
       "      <td>1</td>\n",
       "      <td>Jan</td>\n",
       "    </tr>\n",
       "    <tr>\n",
       "      <th>62885</th>\n",
       "      <td>145548</td>\n",
       "      <td>iPhone</td>\n",
       "      <td>1</td>\n",
       "      <td>700.00</td>\n",
       "      <td>2019-01-04 08:21:00</td>\n",
       "      <td>695 2nd St, Austin, TX 73301</td>\n",
       "      <td>700.00</td>\n",
       "      <td>1</td>\n",
       "      <td>Jan</td>\n",
       "    </tr>\n",
       "    <tr>\n",
       "      <th>62884</th>\n",
       "      <td>145547</td>\n",
       "      <td>AAA Batteries (4-pack)</td>\n",
       "      <td>1</td>\n",
       "      <td>2.99</td>\n",
       "      <td>2019-01-26 23:31:00</td>\n",
       "      <td>446 Madison St, Los Angeles, CA 90001</td>\n",
       "      <td>2.99</td>\n",
       "      <td>1</td>\n",
       "      <td>Jan</td>\n",
       "    </tr>\n",
       "  </tbody>\n",
       "</table>\n",
       "</div>"
      ],
      "text/plain": [
       "      Order ID                   Product  Quantity Ordered  Price Each  \\\n",
       "61134   143879      USB-C Charging Cable                 1       11.95   \n",
       "62887   145550  Apple Airpods Headphones                 1      150.00   \n",
       "62886   145549  Apple Airpods Headphones                 1      150.00   \n",
       "62885   145548                    iPhone                 1      700.00   \n",
       "62884   145547    AAA Batteries (4-pack)                 1        2.99   \n",
       "\n",
       "               Order Date                       Purchase Address   Sales  \\\n",
       "61134 2019-01-28 12:11:00  665 Adams St, San Francisco, CA 94016   11.95   \n",
       "62887 2019-01-30 18:53:00        505 North St, Seattle, WA 98101  150.00   \n",
       "62886 2019-01-02 09:45:00    644 1st St, San Francisco, CA 94016  150.00   \n",
       "62885 2019-01-04 08:21:00           695 2nd St, Austin, TX 73301  700.00   \n",
       "62884 2019-01-26 23:31:00  446 Madison St, Los Angeles, CA 90001    2.99   \n",
       "\n",
       "       month_no Month  \n",
       "61134         1   Jan  \n",
       "62887         1   Jan  \n",
       "62886         1   Jan  \n",
       "62885         1   Jan  \n",
       "62884         1   Jan  "
      ]
     },
     "execution_count": 27,
     "metadata": {},
     "output_type": "execute_result"
    }
   ],
   "source": [
    "#lets Sort the data according to month, that will make us on visualization\n",
    "dfcopy = dfcopy.sort_values(by=\"month_no\")\n",
    "dfcopy.head()"
   ]
  },
  {
   "cell_type": "markdown",
   "metadata": {},
   "source": [
    "## Lets visualize the data"
   ]
  },
  {
   "cell_type": "code",
   "execution_count": 28,
   "metadata": {},
   "outputs": [
    {
     "data": {
      "text/html": [
       "<div>\n",
       "<style scoped>\n",
       "    .dataframe tbody tr th:only-of-type {\n",
       "        vertical-align: middle;\n",
       "    }\n",
       "\n",
       "    .dataframe tbody tr th {\n",
       "        vertical-align: top;\n",
       "    }\n",
       "\n",
       "    .dataframe thead th {\n",
       "        text-align: right;\n",
       "    }\n",
       "</style>\n",
       "<table border=\"1\" class=\"dataframe\">\n",
       "  <thead>\n",
       "    <tr style=\"text-align: right;\">\n",
       "      <th></th>\n",
       "      <th>Month</th>\n",
       "      <th>Sales</th>\n",
       "    </tr>\n",
       "  </thead>\n",
       "  <tbody>\n",
       "    <tr>\n",
       "      <th>0</th>\n",
       "      <td>Jan</td>\n",
       "      <td>1821413.16</td>\n",
       "    </tr>\n",
       "    <tr>\n",
       "      <th>1</th>\n",
       "      <td>Feb</td>\n",
       "      <td>2200078.08</td>\n",
       "    </tr>\n",
       "    <tr>\n",
       "      <th>2</th>\n",
       "      <td>Mar</td>\n",
       "      <td>2804973.35</td>\n",
       "    </tr>\n",
       "    <tr>\n",
       "      <th>3</th>\n",
       "      <td>Apr</td>\n",
       "      <td>3389217.98</td>\n",
       "    </tr>\n",
       "    <tr>\n",
       "      <th>4</th>\n",
       "      <td>May</td>\n",
       "      <td>3150616.23</td>\n",
       "    </tr>\n",
       "    <tr>\n",
       "      <th>5</th>\n",
       "      <td>Jun</td>\n",
       "      <td>2576280.15</td>\n",
       "    </tr>\n",
       "    <tr>\n",
       "      <th>6</th>\n",
       "      <td>Jul</td>\n",
       "      <td>2646461.32</td>\n",
       "    </tr>\n",
       "    <tr>\n",
       "      <th>7</th>\n",
       "      <td>Aug</td>\n",
       "      <td>2241083.37</td>\n",
       "    </tr>\n",
       "    <tr>\n",
       "      <th>8</th>\n",
       "      <td>Sep</td>\n",
       "      <td>2094465.69</td>\n",
       "    </tr>\n",
       "    <tr>\n",
       "      <th>9</th>\n",
       "      <td>Oct</td>\n",
       "      <td>3734777.86</td>\n",
       "    </tr>\n",
       "    <tr>\n",
       "      <th>10</th>\n",
       "      <td>Nov</td>\n",
       "      <td>3197875.05</td>\n",
       "    </tr>\n",
       "    <tr>\n",
       "      <th>11</th>\n",
       "      <td>Dec</td>\n",
       "      <td>4608295.70</td>\n",
       "    </tr>\n",
       "  </tbody>\n",
       "</table>\n",
       "</div>"
      ],
      "text/plain": [
       "   Month       Sales\n",
       "0    Jan  1821413.16\n",
       "1    Feb  2200078.08\n",
       "2    Mar  2804973.35\n",
       "3    Apr  3389217.98\n",
       "4    May  3150616.23\n",
       "5    Jun  2576280.15\n",
       "6    Jul  2646461.32\n",
       "7    Aug  2241083.37\n",
       "8    Sep  2094465.69\n",
       "9    Oct  3734777.86\n",
       "10   Nov  3197875.05\n",
       "11   Dec  4608295.70"
      ]
     },
     "execution_count": 28,
     "metadata": {},
     "output_type": "execute_result"
    }
   ],
   "source": [
    "# Creating monthly_sales dataframe for Ploting...\n",
    "numeric = dfcopy.drop(['Order Date'], axis=1)  # Exclude 'Date' column\n",
    "monthly_sales = numeric.groupby('Month', sort=False).sum()\n",
    "# monthly_sales = dfcopy.groupby('Month', sort=False).sum() # sort=False for not arrranging month in Alphabetical Order.\n",
    "monthly_sales.reset_index(inplace=True)\n",
    "monthly_sales[['Month', 'Sales']]"
   ]
  },
  {
   "cell_type": "code",
   "execution_count": 29,
   "metadata": {},
   "outputs": [
    {
     "data": {
      "image/png": "[encoded data removed]",
      "text/plain": [
       "<Figure size 640x480 with 1 Axes>"
      ]
     },
     "metadata": {},
     "output_type": "display_data"
    }
   ],
   "source": [
    "sns.barplot(x='Month', y='Sales', data=monthly_sales, hue='Month')\n",
    "plt.show()"
   ]
  },
  {
   "cell_type": "code",
   "execution_count": 30,
   "metadata": {},
   "outputs": [
    {
     "data": {
      "image/png": "[encoded data removed]",
      "text/plain": [
       "<Figure size 640x480 with 1 Axes>"
      ]
     },
     "metadata": {},
     "output_type": "display_data"
    }
   ],
   "source": [
    "sns.barplot(x='Month', y='Sales', data=monthly_sales, hue='Month')\n",
    "labels, location = plt.yticks()\n",
    "plt.yticks(labels, ((labels/1000000).astype(int))) # Scalling in Million USD\n",
    "plt.ylabel('Sales in Million USD')\n",
    "plt.xlabel('Month of Year 2019')\n",
    "plt.title('Monthwise Sales of Year 2019').set_color('purple')"
   ]
  },
  {
   "cell_type": "markdown",
   "metadata": {},
   "source": [
    "## Displaying top 3 months with maximum and minimum Sales"
   ]
  },
  {
   "cell_type": "code",
   "execution_count": 31,
   "metadata": {},
   "outputs": [
    {
     "name": "stdout",
     "output_type": "stream",
     "text": [
      "Top 3 Months with Maximum Sales\n",
      "\n",
      "            Sales\n",
      "Month            \n",
      "Dec    4608295.70\n",
      "Oct    3734777.86\n",
      "Apr    3389217.98\n",
      "\n",
      "\n",
      "Top 3 Months with Minimum Sales\n",
      "\n",
      "            Sales\n",
      "Month            \n",
      "Jan    1821413.16\n",
      "Sep    2094465.69\n",
      "Feb    2200078.08\n",
      "\n",
      "\n"
     ]
    }
   ],
   "source": [
    "\n",
    "top_3_months = monthly_sales[['Month', 'Sales']].sort_values(by='Sales', ascending=False)[:3].set_index('Month')\n",
    "print(f\"Top 3 Months with Maximum Sales\\n\\n{top_3_months}\\n\\n\")\n",
    "\n",
    "\n",
    "bottom_3_months = monthly_sales[['Month', 'Sales']].sort_values(by='Sales')[:3].set_index('Month')\n",
    "print(f\"Top 3 Months with Minimum Sales\\n\\n{bottom_3_months}\\n\\n\")"
   ]
  },
  {
   "cell_type": "markdown",
   "metadata": {},
   "source": [
    "## Top 3 cities with maximum and minimum Sales in 2019"
   ]
  },
  {
   "cell_type": "code",
   "execution_count": 32,
   "metadata": {},
   "outputs": [
    {
     "data": {
      "text/plain": [
       "61134        665 Adams St, San Francisco, CA 94016\n",
       "62887              505 North St, Seattle, WA 98101\n",
       "62886          644 1st St, San Francisco, CA 94016\n",
       "62885                 695 2nd St, Austin, TX 73301\n",
       "62884        446 Madison St, Los Angeles, CA 90001\n",
       "62883    459 Jefferson St, San Francisco, CA 94016\n",
       "62882               678 2nd St, Portland, OR 97035\n",
       "62881          229 7th St, San Francisco, CA 94016\n",
       "62880              589 Maple St, Seattle, WA 98101\n",
       "62879         917 14th St, New York City, NY 10001\n",
       "Name: Purchase Address, dtype: object"
      ]
     },
     "execution_count": 32,
     "metadata": {},
     "output_type": "execute_result"
    }
   ],
   "source": [
    "dfcopy[\"Purchase Address\"].head(10)"
   ]
  },
  {
   "cell_type": "markdown",
   "metadata": {},
   "source": [
    "### Creating & Adding City attribute with values as `city_name(Abbreviated_State_name)`"
   ]
  },
  {
   "cell_type": "code",
   "execution_count": 33,
   "metadata": {},
   "outputs": [],
   "source": [
    "\n",
    "def get_city_name(address):\n",
    "    return address.split(',')[1]\n",
    "\n",
    "def get_Abbreviated_state_name(address):\n",
    "    return address.split(',')[2].split(' ')[1]"
   ]
  },
  {
   "cell_type": "code",
   "execution_count": 34,
   "metadata": {},
   "outputs": [
    {
     "data": {
      "text/html": [
       "<div>\n",
       "<style scoped>\n",
       "    .dataframe tbody tr th:only-of-type {\n",
       "        vertical-align: middle;\n",
       "    }\n",
       "\n",
       "    .dataframe tbody tr th {\n",
       "        vertical-align: top;\n",
       "    }\n",
       "\n",
       "    .dataframe thead th {\n",
       "        text-align: right;\n",
       "    }\n",
       "</style>\n",
       "<table border=\"1\" class=\"dataframe\">\n",
       "  <thead>\n",
       "    <tr style=\"text-align: right;\">\n",
       "      <th></th>\n",
       "      <th>Order ID</th>\n",
       "      <th>Product</th>\n",
       "      <th>Quantity Ordered</th>\n",
       "      <th>Price Each</th>\n",
       "      <th>Order Date</th>\n",
       "      <th>Purchase Address</th>\n",
       "      <th>Sales</th>\n",
       "      <th>month_no</th>\n",
       "      <th>Month</th>\n",
       "      <th>City</th>\n",
       "      <th>State</th>\n",
       "    </tr>\n",
       "  </thead>\n",
       "  <tbody>\n",
       "    <tr>\n",
       "      <th>61134</th>\n",
       "      <td>143879</td>\n",
       "      <td>USB-C Charging Cable</td>\n",
       "      <td>1</td>\n",
       "      <td>11.95</td>\n",
       "      <td>2019-01-28 12:11:00</td>\n",
       "      <td>665 Adams St, San Francisco, CA 94016</td>\n",
       "      <td>11.95</td>\n",
       "      <td>1</td>\n",
       "      <td>Jan</td>\n",
       "      <td>San Francisco</td>\n",
       "      <td>CA</td>\n",
       "    </tr>\n",
       "    <tr>\n",
       "      <th>62887</th>\n",
       "      <td>145550</td>\n",
       "      <td>Apple Airpods Headphones</td>\n",
       "      <td>1</td>\n",
       "      <td>150.00</td>\n",
       "      <td>2019-01-30 18:53:00</td>\n",
       "      <td>505 North St, Seattle, WA 98101</td>\n",
       "      <td>150.00</td>\n",
       "      <td>1</td>\n",
       "      <td>Jan</td>\n",
       "      <td>Seattle</td>\n",
       "      <td>WA</td>\n",
       "    </tr>\n",
       "    <tr>\n",
       "      <th>62886</th>\n",
       "      <td>145549</td>\n",
       "      <td>Apple Airpods Headphones</td>\n",
       "      <td>1</td>\n",
       "      <td>150.00</td>\n",
       "      <td>2019-01-02 09:45:00</td>\n",
       "      <td>644 1st St, San Francisco, CA 94016</td>\n",
       "      <td>150.00</td>\n",
       "      <td>1</td>\n",
       "      <td>Jan</td>\n",
       "      <td>San Francisco</td>\n",
       "      <td>CA</td>\n",
       "    </tr>\n",
       "    <tr>\n",
       "      <th>62885</th>\n",
       "      <td>145548</td>\n",
       "      <td>iPhone</td>\n",
       "      <td>1</td>\n",
       "      <td>700.00</td>\n",
       "      <td>2019-01-04 08:21:00</td>\n",
       "      <td>695 2nd St, Austin, TX 73301</td>\n",
       "      <td>700.00</td>\n",
       "      <td>1</td>\n",
       "      <td>Jan</td>\n",
       "      <td>Austin</td>\n",
       "      <td>TX</td>\n",
       "    </tr>\n",
       "    <tr>\n",
       "      <th>62884</th>\n",
       "      <td>145547</td>\n",
       "      <td>AAA Batteries (4-pack)</td>\n",
       "      <td>1</td>\n",
       "      <td>2.99</td>\n",
       "      <td>2019-01-26 23:31:00</td>\n",
       "      <td>446 Madison St, Los Angeles, CA 90001</td>\n",
       "      <td>2.99</td>\n",
       "      <td>1</td>\n",
       "      <td>Jan</td>\n",
       "      <td>Los Angeles</td>\n",
       "      <td>CA</td>\n",
       "    </tr>\n",
       "  </tbody>\n",
       "</table>\n",
       "</div>"
      ],
      "text/plain": [
       "      Order ID                   Product  Quantity Ordered  Price Each  \\\n",
       "61134   143879      USB-C Charging Cable                 1       11.95   \n",
       "62887   145550  Apple Airpods Headphones                 1      150.00   \n",
       "62886   145549  Apple Airpods Headphones                 1      150.00   \n",
       "62885   145548                    iPhone                 1      700.00   \n",
       "62884   145547    AAA Batteries (4-pack)                 1        2.99   \n",
       "\n",
       "               Order Date                       Purchase Address   Sales  \\\n",
       "61134 2019-01-28 12:11:00  665 Adams St, San Francisco, CA 94016   11.95   \n",
       "62887 2019-01-30 18:53:00        505 North St, Seattle, WA 98101  150.00   \n",
       "62886 2019-01-02 09:45:00    644 1st St, San Francisco, CA 94016  150.00   \n",
       "62885 2019-01-04 08:21:00           695 2nd St, Austin, TX 73301  700.00   \n",
       "62884 2019-01-26 23:31:00  446 Madison St, Los Angeles, CA 90001    2.99   \n",
       "\n",
       "       month_no Month            City State  \n",
       "61134         1   Jan   San Francisco    CA  \n",
       "62887         1   Jan         Seattle    WA  \n",
       "62886         1   Jan   San Francisco    CA  \n",
       "62885         1   Jan          Austin    TX  \n",
       "62884         1   Jan     Los Angeles    CA  "
      ]
     },
     "execution_count": 34,
     "metadata": {},
     "output_type": "execute_result"
    }
   ],
   "source": [
    "city_df = dfcopy.copy()\n",
    "city_df[\"City\"] = city_df[\"Purchase Address\"].apply(lambda x: get_city_name(x))\n",
    "city_df[\"State\"] = city_df[\"Purchase Address\"].apply(lambda x: get_Abbreviated_state_name(x))\n",
    "city_df.head()"
   ]
  },
  {
   "cell_type": "code",
   "execution_count": 35,
   "metadata": {},
   "outputs": [
    {
     "data": {
      "text/plain": [
       "City            State\n",
       " San Francisco  CA       44662\n",
       " Los Angeles    CA       29564\n",
       " New York City  NY       24847\n",
       " Boston         MA       19901\n",
       " Atlanta        GA       14863\n",
       " Dallas         TX       14797\n",
       " Seattle        WA       14713\n",
       " Portland       OR        9998\n",
       " Austin         TX        9890\n",
       " Portland       ME        2451\n",
       "Name: count, dtype: int64"
      ]
     },
     "execution_count": 35,
     "metadata": {},
     "output_type": "execute_result"
    }
   ],
   "source": [
    "city_df[['City', 'State']].value_counts()"
   ]
  },
  {
   "cell_type": "markdown",
   "metadata": {},
   "source": [
    "Here `Portland` city is on two states so lets combine city and state "
   ]
  },
  {
   "cell_type": "code",
   "execution_count": 36,
   "metadata": {},
   "outputs": [
    {
     "data": {
      "text/html": [
       "<div>\n",
       "<style scoped>\n",
       "    .dataframe tbody tr th:only-of-type {\n",
       "        vertical-align: middle;\n",
       "    }\n",
       "\n",
       "    .dataframe tbody tr th {\n",
       "        vertical-align: top;\n",
       "    }\n",
       "\n",
       "    .dataframe thead th {\n",
       "        text-align: right;\n",
       "    }\n",
       "</style>\n",
       "<table border=\"1\" class=\"dataframe\">\n",
       "  <thead>\n",
       "    <tr style=\"text-align: right;\">\n",
       "      <th></th>\n",
       "      <th>Order ID</th>\n",
       "      <th>Product</th>\n",
       "      <th>Quantity Ordered</th>\n",
       "      <th>Price Each</th>\n",
       "      <th>Order Date</th>\n",
       "      <th>Purchase Address</th>\n",
       "      <th>Sales</th>\n",
       "      <th>month_no</th>\n",
       "      <th>Month</th>\n",
       "      <th>City</th>\n",
       "    </tr>\n",
       "  </thead>\n",
       "  <tbody>\n",
       "    <tr>\n",
       "      <th>61134</th>\n",
       "      <td>143879</td>\n",
       "      <td>USB-C Charging Cable</td>\n",
       "      <td>1</td>\n",
       "      <td>11.95</td>\n",
       "      <td>2019-01-28 12:11:00</td>\n",
       "      <td>665 Adams St, San Francisco, CA 94016</td>\n",
       "      <td>11.95</td>\n",
       "      <td>1</td>\n",
       "      <td>Jan</td>\n",
       "      <td>San Francisco(CA)</td>\n",
       "    </tr>\n",
       "    <tr>\n",
       "      <th>62887</th>\n",
       "      <td>145550</td>\n",
       "      <td>Apple Airpods Headphones</td>\n",
       "      <td>1</td>\n",
       "      <td>150.00</td>\n",
       "      <td>2019-01-30 18:53:00</td>\n",
       "      <td>505 North St, Seattle, WA 98101</td>\n",
       "      <td>150.00</td>\n",
       "      <td>1</td>\n",
       "      <td>Jan</td>\n",
       "      <td>Seattle(WA)</td>\n",
       "    </tr>\n",
       "    <tr>\n",
       "      <th>62886</th>\n",
       "      <td>145549</td>\n",
       "      <td>Apple Airpods Headphones</td>\n",
       "      <td>1</td>\n",
       "      <td>150.00</td>\n",
       "      <td>2019-01-02 09:45:00</td>\n",
       "      <td>644 1st St, San Francisco, CA 94016</td>\n",
       "      <td>150.00</td>\n",
       "      <td>1</td>\n",
       "      <td>Jan</td>\n",
       "      <td>San Francisco(CA)</td>\n",
       "    </tr>\n",
       "    <tr>\n",
       "      <th>62885</th>\n",
       "      <td>145548</td>\n",
       "      <td>iPhone</td>\n",
       "      <td>1</td>\n",
       "      <td>700.00</td>\n",
       "      <td>2019-01-04 08:21:00</td>\n",
       "      <td>695 2nd St, Austin, TX 73301</td>\n",
       "      <td>700.00</td>\n",
       "      <td>1</td>\n",
       "      <td>Jan</td>\n",
       "      <td>Austin(TX)</td>\n",
       "    </tr>\n",
       "    <tr>\n",
       "      <th>62884</th>\n",
       "      <td>145547</td>\n",
       "      <td>AAA Batteries (4-pack)</td>\n",
       "      <td>1</td>\n",
       "      <td>2.99</td>\n",
       "      <td>2019-01-26 23:31:00</td>\n",
       "      <td>446 Madison St, Los Angeles, CA 90001</td>\n",
       "      <td>2.99</td>\n",
       "      <td>1</td>\n",
       "      <td>Jan</td>\n",
       "      <td>Los Angeles(CA)</td>\n",
       "    </tr>\n",
       "  </tbody>\n",
       "</table>\n",
       "</div>"
      ],
      "text/plain": [
       "      Order ID                   Product  Quantity Ordered  Price Each  \\\n",
       "61134   143879      USB-C Charging Cable                 1       11.95   \n",
       "62887   145550  Apple Airpods Headphones                 1      150.00   \n",
       "62886   145549  Apple Airpods Headphones                 1      150.00   \n",
       "62885   145548                    iPhone                 1      700.00   \n",
       "62884   145547    AAA Batteries (4-pack)                 1        2.99   \n",
       "\n",
       "               Order Date                       Purchase Address   Sales  \\\n",
       "61134 2019-01-28 12:11:00  665 Adams St, San Francisco, CA 94016   11.95   \n",
       "62887 2019-01-30 18:53:00        505 North St, Seattle, WA 98101  150.00   \n",
       "62886 2019-01-02 09:45:00    644 1st St, San Francisco, CA 94016  150.00   \n",
       "62885 2019-01-04 08:21:00           695 2nd St, Austin, TX 73301  700.00   \n",
       "62884 2019-01-26 23:31:00  446 Madison St, Los Angeles, CA 90001    2.99   \n",
       "\n",
       "       month_no Month                City  \n",
       "61134         1   Jan   San Francisco(CA)  \n",
       "62887         1   Jan         Seattle(WA)  \n",
       "62886         1   Jan   San Francisco(CA)  \n",
       "62885         1   Jan          Austin(TX)  \n",
       "62884         1   Jan     Los Angeles(CA)  "
      ]
     },
     "execution_count": 36,
     "metadata": {},
     "output_type": "execute_result"
    }
   ],
   "source": [
    "dfcopy[\"City\"] = dfcopy[\"Purchase Address\"].apply( lambda x: f\"{get_city_name(x)}({get_Abbreviated_state_name(x)})\")\n",
    "dfcopy.head()"
   ]
  },
  {
   "cell_type": "code",
   "execution_count": 37,
   "metadata": {},
   "outputs": [
    {
     "data": {
      "text/html": [
       "<div>\n",
       "<style scoped>\n",
       "    .dataframe tbody tr th:only-of-type {\n",
       "        vertical-align: middle;\n",
       "    }\n",
       "\n",
       "    .dataframe tbody tr th {\n",
       "        vertical-align: top;\n",
       "    }\n",
       "\n",
       "    .dataframe thead th {\n",
       "        text-align: right;\n",
       "    }\n",
       "</style>\n",
       "<table border=\"1\" class=\"dataframe\">\n",
       "  <thead>\n",
       "    <tr style=\"text-align: right;\">\n",
       "      <th></th>\n",
       "      <th>Quantity Ordered</th>\n",
       "      <th>Sales</th>\n",
       "    </tr>\n",
       "    <tr>\n",
       "      <th>City</th>\n",
       "      <th></th>\n",
       "      <th></th>\n",
       "    </tr>\n",
       "  </thead>\n",
       "  <tbody>\n",
       "    <tr>\n",
       "      <th>Atlanta(GA)</th>\n",
       "      <td>16584</td>\n",
       "      <td>2794199.07</td>\n",
       "    </tr>\n",
       "    <tr>\n",
       "      <th>Austin(TX)</th>\n",
       "      <td>11137</td>\n",
       "      <td>1818044.33</td>\n",
       "    </tr>\n",
       "    <tr>\n",
       "      <th>Boston(MA)</th>\n",
       "      <td>22494</td>\n",
       "      <td>3658627.65</td>\n",
       "    </tr>\n",
       "    <tr>\n",
       "      <th>Dallas(TX)</th>\n",
       "      <td>16707</td>\n",
       "      <td>2765373.96</td>\n",
       "    </tr>\n",
       "    <tr>\n",
       "      <th>Los Angeles(CA)</th>\n",
       "      <td>33247</td>\n",
       "      <td>5448304.28</td>\n",
       "    </tr>\n",
       "    <tr>\n",
       "      <th>New York City(NY)</th>\n",
       "      <td>27903</td>\n",
       "      <td>4661867.14</td>\n",
       "    </tr>\n",
       "    <tr>\n",
       "      <th>Portland(ME)</th>\n",
       "      <td>2746</td>\n",
       "      <td>449321.38</td>\n",
       "    </tr>\n",
       "    <tr>\n",
       "      <th>Portland(OR)</th>\n",
       "      <td>11291</td>\n",
       "      <td>1870010.56</td>\n",
       "    </tr>\n",
       "    <tr>\n",
       "      <th>San Francisco(CA)</th>\n",
       "      <td>50169</td>\n",
       "      <td>8254743.55</td>\n",
       "    </tr>\n",
       "    <tr>\n",
       "      <th>Seattle(WA)</th>\n",
       "      <td>16534</td>\n",
       "      <td>2745046.02</td>\n",
       "    </tr>\n",
       "  </tbody>\n",
       "</table>\n",
       "</div>"
      ],
      "text/plain": [
       "                    Quantity Ordered       Sales\n",
       "City                                            \n",
       " Atlanta(GA)                   16584  2794199.07\n",
       " Austin(TX)                    11137  1818044.33\n",
       " Boston(MA)                    22494  3658627.65\n",
       " Dallas(TX)                    16707  2765373.96\n",
       " Los Angeles(CA)               33247  5448304.28\n",
       " New York City(NY)             27903  4661867.14\n",
       " Portland(ME)                   2746   449321.38\n",
       " Portland(OR)                  11291  1870010.56\n",
       " San Francisco(CA)             50169  8254743.55\n",
       " Seattle(WA)                   16534  2745046.02"
      ]
     },
     "execution_count": 37,
     "metadata": {},
     "output_type": "execute_result"
    }
   ],
   "source": [
    "city_with_sales_df = dfcopy.groupby('City')[['Quantity Ordered', 'Sales']].sum()\n",
    "city_with_sales_df"
   ]
  },
  {
   "cell_type": "code",
   "execution_count": 38,
   "metadata": {},
   "outputs": [
    {
     "data": {
      "text/html": [
       "<div>\n",
       "<style scoped>\n",
       "    .dataframe tbody tr th:only-of-type {\n",
       "        vertical-align: middle;\n",
       "    }\n",
       "\n",
       "    .dataframe tbody tr th {\n",
       "        vertical-align: top;\n",
       "    }\n",
       "\n",
       "    .dataframe thead th {\n",
       "        text-align: right;\n",
       "    }\n",
       "</style>\n",
       "<table border=\"1\" class=\"dataframe\">\n",
       "  <thead>\n",
       "    <tr style=\"text-align: right;\">\n",
       "      <th></th>\n",
       "      <th>City</th>\n",
       "      <th>Quantity Ordered</th>\n",
       "      <th>Sales</th>\n",
       "    </tr>\n",
       "  </thead>\n",
       "  <tbody>\n",
       "    <tr>\n",
       "      <th>0</th>\n",
       "      <td>Atlanta(GA)</td>\n",
       "      <td>16584</td>\n",
       "      <td>2794199.07</td>\n",
       "    </tr>\n",
       "    <tr>\n",
       "      <th>1</th>\n",
       "      <td>Austin(TX)</td>\n",
       "      <td>11137</td>\n",
       "      <td>1818044.33</td>\n",
       "    </tr>\n",
       "    <tr>\n",
       "      <th>2</th>\n",
       "      <td>Boston(MA)</td>\n",
       "      <td>22494</td>\n",
       "      <td>3658627.65</td>\n",
       "    </tr>\n",
       "    <tr>\n",
       "      <th>3</th>\n",
       "      <td>Dallas(TX)</td>\n",
       "      <td>16707</td>\n",
       "      <td>2765373.96</td>\n",
       "    </tr>\n",
       "    <tr>\n",
       "      <th>4</th>\n",
       "      <td>Los Angeles(CA)</td>\n",
       "      <td>33247</td>\n",
       "      <td>5448304.28</td>\n",
       "    </tr>\n",
       "    <tr>\n",
       "      <th>5</th>\n",
       "      <td>New York City(NY)</td>\n",
       "      <td>27903</td>\n",
       "      <td>4661867.14</td>\n",
       "    </tr>\n",
       "    <tr>\n",
       "      <th>6</th>\n",
       "      <td>Portland(ME)</td>\n",
       "      <td>2746</td>\n",
       "      <td>449321.38</td>\n",
       "    </tr>\n",
       "    <tr>\n",
       "      <th>7</th>\n",
       "      <td>Portland(OR)</td>\n",
       "      <td>11291</td>\n",
       "      <td>1870010.56</td>\n",
       "    </tr>\n",
       "    <tr>\n",
       "      <th>8</th>\n",
       "      <td>San Francisco(CA)</td>\n",
       "      <td>50169</td>\n",
       "      <td>8254743.55</td>\n",
       "    </tr>\n",
       "    <tr>\n",
       "      <th>9</th>\n",
       "      <td>Seattle(WA)</td>\n",
       "      <td>16534</td>\n",
       "      <td>2745046.02</td>\n",
       "    </tr>\n",
       "  </tbody>\n",
       "</table>\n",
       "</div>"
      ],
      "text/plain": [
       "                 City  Quantity Ordered       Sales\n",
       "0         Atlanta(GA)             16584  2794199.07\n",
       "1          Austin(TX)             11137  1818044.33\n",
       "2          Boston(MA)             22494  3658627.65\n",
       "3          Dallas(TX)             16707  2765373.96\n",
       "4     Los Angeles(CA)             33247  5448304.28\n",
       "5   New York City(NY)             27903  4661867.14\n",
       "6        Portland(ME)              2746   449321.38\n",
       "7        Portland(OR)             11291  1870010.56\n",
       "8   San Francisco(CA)             50169  8254743.55\n",
       "9         Seattle(WA)             16534  2745046.02"
      ]
     },
     "execution_count": 38,
     "metadata": {},
     "output_type": "execute_result"
    }
   ],
   "source": [
    "city_with_sales_df.reset_index(inplace=True)\n",
    "city_with_sales_df"
   ]
  },
  {
   "cell_type": "code",
   "execution_count": 39,
   "metadata": {},
   "outputs": [
    {
     "data": {
      "text/html": [
       "<div>\n",
       "<style scoped>\n",
       "    .dataframe tbody tr th:only-of-type {\n",
       "        vertical-align: middle;\n",
       "    }\n",
       "\n",
       "    .dataframe tbody tr th {\n",
       "        vertical-align: top;\n",
       "    }\n",
       "\n",
       "    .dataframe thead th {\n",
       "        text-align: right;\n",
       "    }\n",
       "</style>\n",
       "<table border=\"1\" class=\"dataframe\">\n",
       "  <thead>\n",
       "    <tr style=\"text-align: right;\">\n",
       "      <th></th>\n",
       "      <th>City</th>\n",
       "      <th>Quantity Ordered</th>\n",
       "      <th>Sales</th>\n",
       "    </tr>\n",
       "  </thead>\n",
       "  <tbody>\n",
       "    <tr>\n",
       "      <th>6</th>\n",
       "      <td>Portland(ME)</td>\n",
       "      <td>2746</td>\n",
       "      <td>449321.38</td>\n",
       "    </tr>\n",
       "    <tr>\n",
       "      <th>1</th>\n",
       "      <td>Austin(TX)</td>\n",
       "      <td>11137</td>\n",
       "      <td>1818044.33</td>\n",
       "    </tr>\n",
       "    <tr>\n",
       "      <th>7</th>\n",
       "      <td>Portland(OR)</td>\n",
       "      <td>11291</td>\n",
       "      <td>1870010.56</td>\n",
       "    </tr>\n",
       "    <tr>\n",
       "      <th>9</th>\n",
       "      <td>Seattle(WA)</td>\n",
       "      <td>16534</td>\n",
       "      <td>2745046.02</td>\n",
       "    </tr>\n",
       "    <tr>\n",
       "      <th>3</th>\n",
       "      <td>Dallas(TX)</td>\n",
       "      <td>16707</td>\n",
       "      <td>2765373.96</td>\n",
       "    </tr>\n",
       "    <tr>\n",
       "      <th>0</th>\n",
       "      <td>Atlanta(GA)</td>\n",
       "      <td>16584</td>\n",
       "      <td>2794199.07</td>\n",
       "    </tr>\n",
       "    <tr>\n",
       "      <th>2</th>\n",
       "      <td>Boston(MA)</td>\n",
       "      <td>22494</td>\n",
       "      <td>3658627.65</td>\n",
       "    </tr>\n",
       "    <tr>\n",
       "      <th>5</th>\n",
       "      <td>New York City(NY)</td>\n",
       "      <td>27903</td>\n",
       "      <td>4661867.14</td>\n",
       "    </tr>\n",
       "    <tr>\n",
       "      <th>4</th>\n",
       "      <td>Los Angeles(CA)</td>\n",
       "      <td>33247</td>\n",
       "      <td>5448304.28</td>\n",
       "    </tr>\n",
       "    <tr>\n",
       "      <th>8</th>\n",
       "      <td>San Francisco(CA)</td>\n",
       "      <td>50169</td>\n",
       "      <td>8254743.55</td>\n",
       "    </tr>\n",
       "  </tbody>\n",
       "</table>\n",
       "</div>"
      ],
      "text/plain": [
       "                 City  Quantity Ordered       Sales\n",
       "6        Portland(ME)              2746   449321.38\n",
       "1          Austin(TX)             11137  1818044.33\n",
       "7        Portland(OR)             11291  1870010.56\n",
       "9         Seattle(WA)             16534  2745046.02\n",
       "3          Dallas(TX)             16707  2765373.96\n",
       "0         Atlanta(GA)             16584  2794199.07\n",
       "2          Boston(MA)             22494  3658627.65\n",
       "5   New York City(NY)             27903  4661867.14\n",
       "4     Los Angeles(CA)             33247  5448304.28\n",
       "8   San Francisco(CA)             50169  8254743.55"
      ]
     },
     "execution_count": 39,
     "metadata": {},
     "output_type": "execute_result"
    }
   ],
   "source": [
    "city_with_sales_df = city_with_sales_df.sort_values(by = \"Sales\")\n",
    "city_with_sales_df"
   ]
  },
  {
   "cell_type": "code",
   "execution_count": 40,
   "metadata": {},
   "outputs": [
    {
     "data": {
      "text/plain": [
       "<Axes: xlabel='City', ylabel='Sales'>"
      ]
     },
     "execution_count": 40,
     "metadata": {},
     "output_type": "execute_result"
    },
    {
     "data": {
      "image/png": "[encoded data removed]",
      "text/plain": [
       "<Figure size 1500x1000 with 1 Axes>"
      ]
     },
     "metadata": {},
     "output_type": "display_data"
    }
   ],
   "source": [
    "plt.figure(figsize=(15,10))\n",
    "sns.barplot(x=\"City\", y=\"Sales\", data = city_with_sales_df, hue=\"City\" )"
   ]
  },
  {
   "cell_type": "code",
   "execution_count": 41,
   "metadata": {},
   "outputs": [
    {
     "data": {
      "image/png": "[encoded data removed]",
      "text/plain": [
       "<Figure size 2500x1000 with 1 Axes>"
      ]
     },
     "metadata": {},
     "output_type": "display_data"
    }
   ],
   "source": [
    "plt.figure(figsize=(25,10))\n",
    "sns.barplot(x=\"City\", y=\"Sales\", data = city_with_sales_df, hue=\"City\")\n",
    "plt.xticks(range(len(city_with_sales_df['City'])), labels=list(city_with_sales_df['City']), rotation=45, fontsize=12, fontweight='bold')\n",
    "\n",
    "plt.xlabel(xlabel=\"City of USA\", fontsize=18, fontweight = \"bold\")\n",
    "plt.ylabel(ylabel=\"Sales in millon USD\", fontsize=18, fontweight = \"bold\")\n",
    "plt.title(label=\" City_wise Sales of 2019\", fontsize=28, fontweight = \"bold\").set_color('red')\n",
    "labels, location = plt.yticks()\n",
    "plt.yticks(labels, ((labels/1000000).astype(int)))\n",
    "plt.show()"
   ]
  },
  {
   "cell_type": "markdown",
   "metadata": {},
   "source": [
    "### Displaying Top and bottom Cities with respect to the Sales in a year"
   ]
  },
  {
   "cell_type": "code",
   "execution_count": 42,
   "metadata": {},
   "outputs": [
    {
     "name": "stdout",
     "output_type": "stream",
     "text": [
      "Top 3 City with Maximum Sales\n",
      "\n",
      "                         Sales\n",
      "City                          \n",
      " San Francisco(CA)  8254743.55\n",
      " Los Angeles(CA)    5448304.28\n",
      " New York City(NY)  4661867.14\n",
      "\n",
      "\n",
      "Top 3 Cities with Minimum Sales\n",
      "\n",
      "                    Sales\n",
      "City                     \n",
      " Portland(ME)   449321.38\n",
      " Austin(TX)    1818044.33\n",
      " Portland(OR)  1870010.56\n",
      "\n",
      "\n"
     ]
    }
   ],
   "source": [
    "\n",
    "\n",
    "top_3_cities = city_with_sales_df[['City', 'Sales']].sort_values(by='Sales', ascending=False)[:3].set_index('City')\n",
    "print(f\"Top 3 City with Maximum Sales\\n\\n{top_3_cities}\\n\\n\")\n",
    "\n",
    "\n",
    "bottom_3_cities = city_with_sales_df[['City', 'Sales']].sort_values(by='Sales')[:3].set_index('City')\n",
    "print(f\"Top 3 Cities with Minimum Sales\\n\\n{bottom_3_cities}\\n\\n\")"
   ]
  },
  {
   "cell_type": "markdown",
   "metadata": {},
   "source": [
    "Best city on the basis of `sales` 2019 is `San Francisco(CA)` with `$ 8,254,743.55`    \n",
    "Worst  city on the basis of `sales` 2019 is `Portland(ME)` with `$ 1,870,010.56`"
   ]
  },
  {
   "cell_type": "markdown",
   "metadata": {},
   "source": [
    " #### Mining Best Time to Display Advertisements to Maximize the Sales.\n",
    "\n",
    "   ####         - `Analyzing Specific City Sales vs Hour Line Plots`"
   ]
  },
  {
   "cell_type": "code",
   "execution_count": 43,
   "metadata": {},
   "outputs": [
    {
     "data": {
      "text/plain": [
       "Order ID                    object\n",
       "Product                     object\n",
       "Quantity Ordered             int64\n",
       "Price Each                 float64\n",
       "Order Date          datetime64[ns]\n",
       "Purchase Address            object\n",
       "Sales                      float64\n",
       "month_no                     int32\n",
       "Month                       object\n",
       "City                        object\n",
       "dtype: object"
      ]
     },
     "execution_count": 43,
     "metadata": {},
     "output_type": "execute_result"
    }
   ],
   "source": [
    "dfcopy.dtypes"
   ]
  },
  {
   "cell_type": "code",
   "execution_count": 44,
   "metadata": {},
   "outputs": [
    {
     "data": {
      "text/html": [
       "<div>\n",
       "<style scoped>\n",
       "    .dataframe tbody tr th:only-of-type {\n",
       "        vertical-align: middle;\n",
       "    }\n",
       "\n",
       "    .dataframe tbody tr th {\n",
       "        vertical-align: top;\n",
       "    }\n",
       "\n",
       "    .dataframe thead th {\n",
       "        text-align: right;\n",
       "    }\n",
       "</style>\n",
       "<table border=\"1\" class=\"dataframe\">\n",
       "  <thead>\n",
       "    <tr style=\"text-align: right;\">\n",
       "      <th></th>\n",
       "      <th>Order ID</th>\n",
       "      <th>Product</th>\n",
       "      <th>Quantity Ordered</th>\n",
       "      <th>Price Each</th>\n",
       "      <th>Order Date</th>\n",
       "      <th>Purchase Address</th>\n",
       "      <th>Sales</th>\n",
       "      <th>month_no</th>\n",
       "      <th>Month</th>\n",
       "      <th>City</th>\n",
       "      <th>Hour</th>\n",
       "    </tr>\n",
       "  </thead>\n",
       "  <tbody>\n",
       "    <tr>\n",
       "      <th>61134</th>\n",
       "      <td>143879</td>\n",
       "      <td>USB-C Charging Cable</td>\n",
       "      <td>1</td>\n",
       "      <td>11.95</td>\n",
       "      <td>2019-01-28 12:11:00</td>\n",
       "      <td>665 Adams St, San Francisco, CA 94016</td>\n",
       "      <td>11.95</td>\n",
       "      <td>1</td>\n",
       "      <td>Jan</td>\n",
       "      <td>San Francisco(CA)</td>\n",
       "      <td>12</td>\n",
       "    </tr>\n",
       "    <tr>\n",
       "      <th>62887</th>\n",
       "      <td>145550</td>\n",
       "      <td>Apple Airpods Headphones</td>\n",
       "      <td>1</td>\n",
       "      <td>150.00</td>\n",
       "      <td>2019-01-30 18:53:00</td>\n",
       "      <td>505 North St, Seattle, WA 98101</td>\n",
       "      <td>150.00</td>\n",
       "      <td>1</td>\n",
       "      <td>Jan</td>\n",
       "      <td>Seattle(WA)</td>\n",
       "      <td>18</td>\n",
       "    </tr>\n",
       "    <tr>\n",
       "      <th>62886</th>\n",
       "      <td>145549</td>\n",
       "      <td>Apple Airpods Headphones</td>\n",
       "      <td>1</td>\n",
       "      <td>150.00</td>\n",
       "      <td>2019-01-02 09:45:00</td>\n",
       "      <td>644 1st St, San Francisco, CA 94016</td>\n",
       "      <td>150.00</td>\n",
       "      <td>1</td>\n",
       "      <td>Jan</td>\n",
       "      <td>San Francisco(CA)</td>\n",
       "      <td>9</td>\n",
       "    </tr>\n",
       "    <tr>\n",
       "      <th>62885</th>\n",
       "      <td>145548</td>\n",
       "      <td>iPhone</td>\n",
       "      <td>1</td>\n",
       "      <td>700.00</td>\n",
       "      <td>2019-01-04 08:21:00</td>\n",
       "      <td>695 2nd St, Austin, TX 73301</td>\n",
       "      <td>700.00</td>\n",
       "      <td>1</td>\n",
       "      <td>Jan</td>\n",
       "      <td>Austin(TX)</td>\n",
       "      <td>8</td>\n",
       "    </tr>\n",
       "    <tr>\n",
       "      <th>62884</th>\n",
       "      <td>145547</td>\n",
       "      <td>AAA Batteries (4-pack)</td>\n",
       "      <td>1</td>\n",
       "      <td>2.99</td>\n",
       "      <td>2019-01-26 23:31:00</td>\n",
       "      <td>446 Madison St, Los Angeles, CA 90001</td>\n",
       "      <td>2.99</td>\n",
       "      <td>1</td>\n",
       "      <td>Jan</td>\n",
       "      <td>Los Angeles(CA)</td>\n",
       "      <td>23</td>\n",
       "    </tr>\n",
       "  </tbody>\n",
       "</table>\n",
       "</div>"
      ],
      "text/plain": [
       "      Order ID                   Product  Quantity Ordered  Price Each  \\\n",
       "61134   143879      USB-C Charging Cable                 1       11.95   \n",
       "62887   145550  Apple Airpods Headphones                 1      150.00   \n",
       "62886   145549  Apple Airpods Headphones                 1      150.00   \n",
       "62885   145548                    iPhone                 1      700.00   \n",
       "62884   145547    AAA Batteries (4-pack)                 1        2.99   \n",
       "\n",
       "               Order Date                       Purchase Address   Sales  \\\n",
       "61134 2019-01-28 12:11:00  665 Adams St, San Francisco, CA 94016   11.95   \n",
       "62887 2019-01-30 18:53:00        505 North St, Seattle, WA 98101  150.00   \n",
       "62886 2019-01-02 09:45:00    644 1st St, San Francisco, CA 94016  150.00   \n",
       "62885 2019-01-04 08:21:00           695 2nd St, Austin, TX 73301  700.00   \n",
       "62884 2019-01-26 23:31:00  446 Madison St, Los Angeles, CA 90001    2.99   \n",
       "\n",
       "       month_no Month                City  Hour  \n",
       "61134         1   Jan   San Francisco(CA)    12  \n",
       "62887         1   Jan         Seattle(WA)    18  \n",
       "62886         1   Jan   San Francisco(CA)     9  \n",
       "62885         1   Jan          Austin(TX)     8  \n",
       "62884         1   Jan     Los Angeles(CA)    23  "
      ]
     },
     "execution_count": 44,
     "metadata": {},
     "output_type": "execute_result"
    }
   ],
   "source": [
    "dfcopy[\"Hour\"] = dfcopy[\"Order Date\"].dt.hour\n",
    "dfcopy.head(5)"
   ]
  },
  {
   "cell_type": "code",
   "execution_count": 45,
   "metadata": {},
   "outputs": [
    {
     "data": {
      "text/html": [
       "<div>\n",
       "<style scoped>\n",
       "    .dataframe tbody tr th:only-of-type {\n",
       "        vertical-align: middle;\n",
       "    }\n",
       "\n",
       "    .dataframe tbody tr th {\n",
       "        vertical-align: top;\n",
       "    }\n",
       "\n",
       "    .dataframe thead th {\n",
       "        text-align: right;\n",
       "    }\n",
       "</style>\n",
       "<table border=\"1\" class=\"dataframe\">\n",
       "  <thead>\n",
       "    <tr style=\"text-align: right;\">\n",
       "      <th></th>\n",
       "      <th>Hour</th>\n",
       "      <th>No. of Orders</th>\n",
       "    </tr>\n",
       "  </thead>\n",
       "  <tbody>\n",
       "    <tr>\n",
       "      <th>0</th>\n",
       "      <td>0</td>\n",
       "      <td>3902</td>\n",
       "    </tr>\n",
       "    <tr>\n",
       "      <th>1</th>\n",
       "      <td>1</td>\n",
       "      <td>2347</td>\n",
       "    </tr>\n",
       "    <tr>\n",
       "      <th>2</th>\n",
       "      <td>2</td>\n",
       "      <td>1242</td>\n",
       "    </tr>\n",
       "    <tr>\n",
       "      <th>3</th>\n",
       "      <td>3</td>\n",
       "      <td>830</td>\n",
       "    </tr>\n",
       "    <tr>\n",
       "      <th>4</th>\n",
       "      <td>4</td>\n",
       "      <td>852</td>\n",
       "    </tr>\n",
       "    <tr>\n",
       "      <th>5</th>\n",
       "      <td>5</td>\n",
       "      <td>1320</td>\n",
       "    </tr>\n",
       "    <tr>\n",
       "      <th>6</th>\n",
       "      <td>6</td>\n",
       "      <td>2481</td>\n",
       "    </tr>\n",
       "    <tr>\n",
       "      <th>7</th>\n",
       "      <td>7</td>\n",
       "      <td>4002</td>\n",
       "    </tr>\n",
       "    <tr>\n",
       "      <th>8</th>\n",
       "      <td>8</td>\n",
       "      <td>6252</td>\n",
       "    </tr>\n",
       "    <tr>\n",
       "      <th>9</th>\n",
       "      <td>9</td>\n",
       "      <td>8740</td>\n",
       "    </tr>\n",
       "    <tr>\n",
       "      <th>10</th>\n",
       "      <td>10</td>\n",
       "      <td>10929</td>\n",
       "    </tr>\n",
       "    <tr>\n",
       "      <th>11</th>\n",
       "      <td>11</td>\n",
       "      <td>12392</td>\n",
       "    </tr>\n",
       "    <tr>\n",
       "      <th>12</th>\n",
       "      <td>12</td>\n",
       "      <td>12573</td>\n",
       "    </tr>\n",
       "    <tr>\n",
       "      <th>13</th>\n",
       "      <td>13</td>\n",
       "      <td>12115</td>\n",
       "    </tr>\n",
       "    <tr>\n",
       "      <th>14</th>\n",
       "      <td>14</td>\n",
       "      <td>10965</td>\n",
       "    </tr>\n",
       "    <tr>\n",
       "      <th>15</th>\n",
       "      <td>15</td>\n",
       "      <td>10159</td>\n",
       "    </tr>\n",
       "    <tr>\n",
       "      <th>16</th>\n",
       "      <td>16</td>\n",
       "      <td>10359</td>\n",
       "    </tr>\n",
       "    <tr>\n",
       "      <th>17</th>\n",
       "      <td>17</td>\n",
       "      <td>10884</td>\n",
       "    </tr>\n",
       "    <tr>\n",
       "      <th>18</th>\n",
       "      <td>18</td>\n",
       "      <td>12263</td>\n",
       "    </tr>\n",
       "    <tr>\n",
       "      <th>19</th>\n",
       "      <td>19</td>\n",
       "      <td>12886</td>\n",
       "    </tr>\n",
       "    <tr>\n",
       "      <th>20</th>\n",
       "      <td>20</td>\n",
       "      <td>12218</td>\n",
       "    </tr>\n",
       "    <tr>\n",
       "      <th>21</th>\n",
       "      <td>21</td>\n",
       "      <td>10905</td>\n",
       "    </tr>\n",
       "    <tr>\n",
       "      <th>22</th>\n",
       "      <td>22</td>\n",
       "      <td>8808</td>\n",
       "    </tr>\n",
       "    <tr>\n",
       "      <th>23</th>\n",
       "      <td>23</td>\n",
       "      <td>6262</td>\n",
       "    </tr>\n",
       "  </tbody>\n",
       "</table>\n",
       "</div>"
      ],
      "text/plain": [
       "    Hour  No. of Orders\n",
       "0      0           3902\n",
       "1      1           2347\n",
       "2      2           1242\n",
       "3      3            830\n",
       "4      4            852\n",
       "5      5           1320\n",
       "6      6           2481\n",
       "7      7           4002\n",
       "8      8           6252\n",
       "9      9           8740\n",
       "10    10          10929\n",
       "11    11          12392\n",
       "12    12          12573\n",
       "13    13          12115\n",
       "14    14          10965\n",
       "15    15          10159\n",
       "16    16          10359\n",
       "17    17          10884\n",
       "18    18          12263\n",
       "19    19          12886\n",
       "20    20          12218\n",
       "21    21          10905\n",
       "22    22           8808\n",
       "23    23           6262"
      ]
     },
     "execution_count": 45,
     "metadata": {},
     "output_type": "execute_result"
    }
   ],
   "source": [
    "# hourdata = dfcopy.drop(['Order Date'], axis=1)  # Exclude 'Date' column\n",
    "# hourly_sales = hourdata.groupby('Hour', sort=False).sum()\n",
    "# hourly_sales.reset_index(inplace=True)\n",
    "# hourly_sales[['Hour', 'Sales']]\n",
    "order_hour_df = dfcopy.groupby('Hour')['Quantity Ordered'].count().reset_index(name='No. of Orders')\n",
    "order_hour_df"
   ]
  },
  {
   "cell_type": "markdown",
   "metadata": {},
   "source": [
    "Plot the Line plot between Total no of order placed in different Hours"
   ]
  },
  {
   "cell_type": "code",
   "execution_count": 46,
   "metadata": {},
   "outputs": [
    {
     "data": {
      "image/png": "[encoded data removed]",
      "text/plain": [
       "<Figure size 1000x500 with 1 Axes>"
      ]
     },
     "metadata": {},
     "output_type": "display_data"
    }
   ],
   "source": [
    "plt.figure(figsize=(10,5))\n",
    "# plt.style.use('seaborn')\n",
    "# fig = plt.figure()\n",
    "sns.set(style=\"darkgrid\")\n",
    "plt.plot(order_hour_df[\"Hour\"], order_hour_df[\"No. of Orders\"])\n",
    "plt.xlabel(xlabel=\"Ordered Hour time\",fontsize=18, fontweight = \"bold\")\n",
    "plt.ylabel(ylabel=\"Total no of order placed \",fontsize=18, fontweight = \"bold\")\n",
    "plt.title(label=\"Line Plot Between Total no of order placed in different hours\",fontsize=18, fontweight = \"bold\").set_color('red')\n",
    "plt.xticks(range(0,25))\n",
    "plt.xlim([0,24])\n",
    "plt.axhline(order_hour_df['No. of Orders'].max(), linestyle='--', c='red')\n",
    "plt.axhline(order_hour_df['No. of Orders'].min(), linestyle='--', c='red')\n",
    "plt.show()"
   ]
  },
  {
   "cell_type": "markdown",
   "metadata": {},
   "source": [
    "As you can see from the Figure , there are approximately 2 peaks at the data. They are 12 (12 PM) and 19 (7 PM). \n",
    "\n",
    "From this data, we can suggest to our bussiness partner to advertise their product right before 12 PM and/or 7 PM. It could be 11.30 AM and/or 6.30 PM.\n",
    "\n",
    "`Remember:`\n",
    "This chart is the total orders of all cities. Thus, making a spesific chart for a specific city and planning accordingly for the advertisement will be far more productive for that city.\n",
    "\n",
    "`Analyzing Citywise Orders & Making Specific Chart`\n",
    "It will be really better if we determine separately the Best Advertisement Time for Each City. Here, we plot with city with maximum sales i.e. San Francisco(CA) and minimum sales i.e. Portland(ME).\n",
    "\n",
    "### Chart for San Francisco(CA) and Portland(ME)"
   ]
  },
  {
   "cell_type": "code",
   "execution_count": 47,
   "metadata": {},
   "outputs": [
    {
     "data": {
      "text/plain": [
       "Hour  City            \n",
       "0      Atlanta(GA)        310\n",
       "       Austin(TX)         198\n",
       "       Boston(MA)         426\n",
       "       Dallas(TX)         283\n",
       "       Los Angeles(CA)    634\n",
       "Name: Quantity Ordered, dtype: int64"
      ]
     },
     "execution_count": 47,
     "metadata": {},
     "output_type": "execute_result"
    }
   ],
   "source": [
    "ads_city_hour_df = dfcopy.groupby(['Hour', 'City'])['Quantity Ordered'].count()\n",
    "ads_city_hour_df.head()"
   ]
  },
  {
   "cell_type": "code",
   "execution_count": 48,
   "metadata": {},
   "outputs": [
    {
     "data": {
      "text/html": [
       "<div>\n",
       "<style scoped>\n",
       "    .dataframe tbody tr th:only-of-type {\n",
       "        vertical-align: middle;\n",
       "    }\n",
       "\n",
       "    .dataframe tbody tr th {\n",
       "        vertical-align: top;\n",
       "    }\n",
       "\n",
       "    .dataframe thead th {\n",
       "        text-align: right;\n",
       "    }\n",
       "</style>\n",
       "<table border=\"1\" class=\"dataframe\">\n",
       "  <thead>\n",
       "    <tr style=\"text-align: right;\">\n",
       "      <th>City</th>\n",
       "      <th>Atlanta(GA)</th>\n",
       "      <th>Austin(TX)</th>\n",
       "      <th>Boston(MA)</th>\n",
       "      <th>Dallas(TX)</th>\n",
       "      <th>Los Angeles(CA)</th>\n",
       "      <th>New York City(NY)</th>\n",
       "      <th>Portland(ME)</th>\n",
       "      <th>Portland(OR)</th>\n",
       "      <th>San Francisco(CA)</th>\n",
       "      <th>Seattle(WA)</th>\n",
       "    </tr>\n",
       "    <tr>\n",
       "      <th>Hour</th>\n",
       "      <th></th>\n",
       "      <th></th>\n",
       "      <th></th>\n",
       "      <th></th>\n",
       "      <th></th>\n",
       "      <th></th>\n",
       "      <th></th>\n",
       "      <th></th>\n",
       "      <th></th>\n",
       "      <th></th>\n",
       "    </tr>\n",
       "  </thead>\n",
       "  <tbody>\n",
       "    <tr>\n",
       "      <th>0</th>\n",
       "      <td>310</td>\n",
       "      <td>198</td>\n",
       "      <td>426</td>\n",
       "      <td>283</td>\n",
       "      <td>634</td>\n",
       "      <td>557</td>\n",
       "      <td>48</td>\n",
       "      <td>223</td>\n",
       "      <td>937</td>\n",
       "      <td>286</td>\n",
       "    </tr>\n",
       "    <tr>\n",
       "      <th>1</th>\n",
       "      <td>213</td>\n",
       "      <td>128</td>\n",
       "      <td>220</td>\n",
       "      <td>168</td>\n",
       "      <td>397</td>\n",
       "      <td>328</td>\n",
       "      <td>34</td>\n",
       "      <td>123</td>\n",
       "      <td>569</td>\n",
       "      <td>167</td>\n",
       "    </tr>\n",
       "    <tr>\n",
       "      <th>2</th>\n",
       "      <td>112</td>\n",
       "      <td>70</td>\n",
       "      <td>119</td>\n",
       "      <td>92</td>\n",
       "      <td>197</td>\n",
       "      <td>164</td>\n",
       "      <td>14</td>\n",
       "      <td>71</td>\n",
       "      <td>315</td>\n",
       "      <td>88</td>\n",
       "    </tr>\n",
       "    <tr>\n",
       "      <th>3</th>\n",
       "      <td>57</td>\n",
       "      <td>54</td>\n",
       "      <td>80</td>\n",
       "      <td>69</td>\n",
       "      <td>116</td>\n",
       "      <td>100</td>\n",
       "      <td>11</td>\n",
       "      <td>47</td>\n",
       "      <td>219</td>\n",
       "      <td>77</td>\n",
       "    </tr>\n",
       "    <tr>\n",
       "      <th>4</th>\n",
       "      <td>80</td>\n",
       "      <td>42</td>\n",
       "      <td>90</td>\n",
       "      <td>55</td>\n",
       "      <td>124</td>\n",
       "      <td>106</td>\n",
       "      <td>11</td>\n",
       "      <td>51</td>\n",
       "      <td>217</td>\n",
       "      <td>76</td>\n",
       "    </tr>\n",
       "  </tbody>\n",
       "</table>\n",
       "</div>"
      ],
      "text/plain": [
       "City   Atlanta(GA)   Austin(TX)   Boston(MA)   Dallas(TX)   Los Angeles(CA)  \\\n",
       "Hour                                                                          \n",
       "0              310          198          426          283               634   \n",
       "1              213          128          220          168               397   \n",
       "2              112           70          119           92               197   \n",
       "3               57           54           80           69               116   \n",
       "4               80           42           90           55               124   \n",
       "\n",
       "City   New York City(NY)   Portland(ME)   Portland(OR)   San Francisco(CA)  \\\n",
       "Hour                                                                         \n",
       "0                    557             48            223                 937   \n",
       "1                    328             34            123                 569   \n",
       "2                    164             14             71                 315   \n",
       "3                    100             11             47                 219   \n",
       "4                    106             11             51                 217   \n",
       "\n",
       "City   Seattle(WA)  \n",
       "Hour                \n",
       "0              286  \n",
       "1              167  \n",
       "2               88  \n",
       "3               77  \n",
       "4               76  "
      ]
     },
     "execution_count": 48,
     "metadata": {},
     "output_type": "execute_result"
    }
   ],
   "source": [
    "ads_city_hour_df = ads_city_hour_df.unstack().fillna(0)\n",
    "ads_city_hour_df.head()"
   ]
  },
  {
   "cell_type": "markdown",
   "metadata": {},
   "source": [
    "Extracting columns San Francisco(CA) `Maximum sales city` and \tPortland(ME) `Minimum Sales city` to determine which time is best to launch for advertisement"
   ]
  },
  {
   "cell_type": "code",
   "execution_count": 49,
   "metadata": {},
   "outputs": [
    {
     "data": {
      "text/html": [
       "<div>\n",
       "<style scoped>\n",
       "    .dataframe tbody tr th:only-of-type {\n",
       "        vertical-align: middle;\n",
       "    }\n",
       "\n",
       "    .dataframe tbody tr th {\n",
       "        vertical-align: top;\n",
       "    }\n",
       "\n",
       "    .dataframe thead th {\n",
       "        text-align: right;\n",
       "    }\n",
       "</style>\n",
       "<table border=\"1\" class=\"dataframe\">\n",
       "  <thead>\n",
       "    <tr style=\"text-align: right;\">\n",
       "      <th></th>\n",
       "      <th>Hour</th>\n",
       "      <th>San Francisco(CA)</th>\n",
       "    </tr>\n",
       "  </thead>\n",
       "  <tbody>\n",
       "    <tr>\n",
       "      <th>0</th>\n",
       "      <td>0</td>\n",
       "      <td>937</td>\n",
       "    </tr>\n",
       "    <tr>\n",
       "      <th>1</th>\n",
       "      <td>1</td>\n",
       "      <td>569</td>\n",
       "    </tr>\n",
       "    <tr>\n",
       "      <th>2</th>\n",
       "      <td>2</td>\n",
       "      <td>315</td>\n",
       "    </tr>\n",
       "    <tr>\n",
       "      <th>3</th>\n",
       "      <td>3</td>\n",
       "      <td>219</td>\n",
       "    </tr>\n",
       "    <tr>\n",
       "      <th>4</th>\n",
       "      <td>4</td>\n",
       "      <td>217</td>\n",
       "    </tr>\n",
       "  </tbody>\n",
       "</table>\n",
       "</div>"
      ],
      "text/plain": [
       "   Hour   San Francisco(CA)\n",
       "0     0                 937\n",
       "1     1                 569\n",
       "2     2                 315\n",
       "3     3                 219\n",
       "4     4                 217"
      ]
     },
     "execution_count": 49,
     "metadata": {},
     "output_type": "execute_result"
    }
   ],
   "source": [
    "SanFranciscoCA_hour_df = pd.DataFrame(ads_city_hour_df[' San Francisco(CA)'])\n",
    "SanFranciscoCA_hour_df.reset_index(inplace=True)\n",
    "SanFranciscoCA_hour_df.head()"
   ]
  },
  {
   "cell_type": "code",
   "execution_count": 50,
   "metadata": {},
   "outputs": [
    {
     "data": {
      "text/plain": [
       "Index(['Hour', ' San Francisco(CA)'], dtype='object')"
      ]
     },
     "execution_count": 50,
     "metadata": {},
     "output_type": "execute_result"
    }
   ],
   "source": [
    "SanFranciscoCA_hour_df.columns"
   ]
  },
  {
   "cell_type": "code",
   "execution_count": 51,
   "metadata": {},
   "outputs": [
    {
     "data": {
      "text/html": [
       "<div>\n",
       "<style scoped>\n",
       "    .dataframe tbody tr th:only-of-type {\n",
       "        vertical-align: middle;\n",
       "    }\n",
       "\n",
       "    .dataframe tbody tr th {\n",
       "        vertical-align: top;\n",
       "    }\n",
       "\n",
       "    .dataframe thead th {\n",
       "        text-align: right;\n",
       "    }\n",
       "</style>\n",
       "<table border=\"1\" class=\"dataframe\">\n",
       "  <thead>\n",
       "    <tr style=\"text-align: right;\">\n",
       "      <th></th>\n",
       "      <th>Hour</th>\n",
       "      <th>Portland(ME)</th>\n",
       "    </tr>\n",
       "  </thead>\n",
       "  <tbody>\n",
       "    <tr>\n",
       "      <th>0</th>\n",
       "      <td>0</td>\n",
       "      <td>48</td>\n",
       "    </tr>\n",
       "    <tr>\n",
       "      <th>1</th>\n",
       "      <td>1</td>\n",
       "      <td>34</td>\n",
       "    </tr>\n",
       "    <tr>\n",
       "      <th>2</th>\n",
       "      <td>2</td>\n",
       "      <td>14</td>\n",
       "    </tr>\n",
       "    <tr>\n",
       "      <th>3</th>\n",
       "      <td>3</td>\n",
       "      <td>11</td>\n",
       "    </tr>\n",
       "    <tr>\n",
       "      <th>4</th>\n",
       "      <td>4</td>\n",
       "      <td>11</td>\n",
       "    </tr>\n",
       "  </tbody>\n",
       "</table>\n",
       "</div>"
      ],
      "text/plain": [
       "   Hour   Portland(ME)\n",
       "0     0             48\n",
       "1     1             34\n",
       "2     2             14\n",
       "3     3             11\n",
       "4     4             11"
      ]
     },
     "execution_count": 51,
     "metadata": {},
     "output_type": "execute_result"
    }
   ],
   "source": [
    "PortlandME_hour_df = pd.DataFrame(ads_city_hour_df[' Portland(ME)'])\n",
    "PortlandME_hour_df.reset_index(inplace=True)\n",
    "PortlandME_hour_df.head()"
   ]
  },
  {
   "cell_type": "code",
   "execution_count": 52,
   "metadata": {},
   "outputs": [
    {
     "data": {
      "text/plain": [
       "Index(['Hour', ' Portland(ME)'], dtype='object')"
      ]
     },
     "execution_count": 52,
     "metadata": {},
     "output_type": "execute_result"
    }
   ],
   "source": [
    "PortlandME_hour_df.columns"
   ]
  },
  {
   "cell_type": "code",
   "execution_count": 53,
   "metadata": {},
   "outputs": [
    {
     "data": {
      "image/png": "[encoded data removed]",
      "text/plain": [
       "<Figure size 1000x500 with 1 Axes>"
      ]
     },
     "metadata": {},
     "output_type": "display_data"
    }
   ],
   "source": [
    "plt.figure(figsize=(10,5))\n",
    "# plt.style.use('seaborn')\n",
    "# fig = plt.figure()\n",
    "sns.set(style=\"darkgrid\")\n",
    "plt.plot(SanFranciscoCA_hour_df[\"Hour\"], SanFranciscoCA_hour_df[' San Francisco(CA)'])\n",
    "plt.xlabel(xlabel=\"Ordered Hour time\",fontsize=18, fontweight = \"bold\")\n",
    "plt.ylabel(ylabel=\"Total no of order placed \",fontsize=18, fontweight = \"bold\")\n",
    "plt.title(label=\"Total no of order placed in different hours at San Francisco(CA)\",fontsize=18, fontweight = \"bold\").set_color('red')\n",
    "plt.xticks(range(0,25))\n",
    "plt.xlim([0,24])\n",
    "plt.axhline(SanFranciscoCA_hour_df[' San Francisco(CA)'].max(), linestyle='--', c='red')\n",
    "plt.axhline(SanFranciscoCA_hour_df[' San Francisco(CA)'].min(), linestyle='--', c='red')\n",
    "plt.show()\n"
   ]
  },
  {
   "cell_type": "markdown",
   "metadata": {},
   "source": [
    "`For San Francisco(CA)`,\n",
    "\n",
    "Best Advertisement Time will be right before 11 A.M and/or 7 P.M.\n",
    "\n",
    "It could be 10:30 A.M and/or 6:30 PM"
   ]
  },
  {
   "cell_type": "code",
   "execution_count": 54,
   "metadata": {},
   "outputs": [
    {
     "data": {
      "image/png": "[encoded data removed]",
      "text/plain": [
       "<Figure size 1000x500 with 1 Axes>"
      ]
     },
     "metadata": {},
     "output_type": "display_data"
    }
   ],
   "source": [
    "plt.figure(figsize=(10,5))\n",
    "# plt.style.use('seaborn')\n",
    "# fig = plt.figure()\n",
    "sns.set(style=\"darkgrid\")\n",
    "plt.plot(PortlandME_hour_df[\"Hour\"], PortlandME_hour_df[' Portland(ME)'])\n",
    "plt.xlabel(xlabel=\"Ordered Hour time\",fontsize=18, fontweight = \"bold\")\n",
    "plt.ylabel(ylabel=\"Total no of order placed \",fontsize=18, fontweight = \"bold\")\n",
    "plt.title(label=\"Total no of order placed in different hours at Portland(ME)\",fontsize=18, fontweight = \"bold\").set_color('red')\n",
    "plt.xticks(range(0,25))\n",
    "plt.xlim([0,24])\n",
    "plt.axhline(PortlandME_hour_df[' Portland(ME)'].max(), linestyle='--', c='red')\n",
    "plt.axhline(PortlandME_hour_df[' Portland(ME)'].min(), linestyle='--', c='red')\n",
    "plt.show()"
   ]
  },
  {
   "cell_type": "markdown",
   "metadata": {},
   "source": [
    "`For Portland(ME)` ,  \n",
    "\n",
    "Best Advertisement Time will be right before 11 A.M and/or 7 P.M.\n",
    "\n",
    "It could be 10:30 A.M and/or 6:30 PM"
   ]
  },
  {
   "cell_type": "markdown",
   "metadata": {},
   "source": [
    "## Top 5-Most Ordered /Sold Product"
   ]
  },
  {
   "cell_type": "code",
   "execution_count": 55,
   "metadata": {},
   "outputs": [
    {
     "data": {
      "text/plain": [
       "Index(['Order ID', 'Product', 'Quantity Ordered', 'Price Each', 'Order Date',\n",
       "       'Purchase Address', 'Sales', 'month_no', 'Month', 'City', 'Hour'],\n",
       "      dtype='object')"
      ]
     },
     "execution_count": 55,
     "metadata": {},
     "output_type": "execute_result"
    }
   ],
   "source": [
    "dfcopy.columns"
   ]
  },
  {
   "cell_type": "code",
   "execution_count": 56,
   "metadata": {},
   "outputs": [
    {
     "data": {
      "text/plain": [
       "<bound method IndexOpsMixin.value_counts of 61134           USB-C Charging Cable\n",
       "62887       Apple Airpods Headphones\n",
       "62886       Apple Airpods Headphones\n",
       "62885                         iPhone\n",
       "62884         AAA Batteries (4-pack)\n",
       "                     ...            \n",
       "170088         AA Batteries (4-pack)\n",
       "170087                 Flatscreen TV\n",
       "170086        AAA Batteries (4-pack)\n",
       "170108          USB-C Charging Cable\n",
       "186849    Bose SoundSport Headphones\n",
       "Name: Product, Length: 185686, dtype: object>"
      ]
     },
     "execution_count": 56,
     "metadata": {},
     "output_type": "execute_result"
    }
   ],
   "source": [
    "dfcopy[\"Product\"].value_counts"
   ]
  },
  {
   "cell_type": "code",
   "execution_count": 57,
   "metadata": {},
   "outputs": [
    {
     "data": {
      "text/html": [
       "<div>\n",
       "<style scoped>\n",
       "    .dataframe tbody tr th:only-of-type {\n",
       "        vertical-align: middle;\n",
       "    }\n",
       "\n",
       "    .dataframe tbody tr th {\n",
       "        vertical-align: top;\n",
       "    }\n",
       "\n",
       "    .dataframe thead th {\n",
       "        text-align: right;\n",
       "    }\n",
       "</style>\n",
       "<table border=\"1\" class=\"dataframe\">\n",
       "  <thead>\n",
       "    <tr style=\"text-align: right;\">\n",
       "      <th></th>\n",
       "      <th>Product</th>\n",
       "      <th>Quantity Ordered</th>\n",
       "    </tr>\n",
       "  </thead>\n",
       "  <tbody>\n",
       "    <tr>\n",
       "      <th>0</th>\n",
       "      <td>USB-C Charging Cable</td>\n",
       "      <td>23931</td>\n",
       "    </tr>\n",
       "    <tr>\n",
       "      <th>1</th>\n",
       "      <td>Apple Airpods Headphones</td>\n",
       "      <td>15637</td>\n",
       "    </tr>\n",
       "    <tr>\n",
       "      <th>2</th>\n",
       "      <td>iPhone</td>\n",
       "      <td>6847</td>\n",
       "    </tr>\n",
       "    <tr>\n",
       "      <th>3</th>\n",
       "      <td>AAA Batteries (4-pack)</td>\n",
       "      <td>30986</td>\n",
       "    </tr>\n",
       "    <tr>\n",
       "      <th>4</th>\n",
       "      <td>20in Monitor</td>\n",
       "      <td>4126</td>\n",
       "    </tr>\n",
       "    <tr>\n",
       "      <th>5</th>\n",
       "      <td>AA Batteries (4-pack)</td>\n",
       "      <td>27615</td>\n",
       "    </tr>\n",
       "    <tr>\n",
       "      <th>6</th>\n",
       "      <td>Wired Headphones</td>\n",
       "      <td>20524</td>\n",
       "    </tr>\n",
       "    <tr>\n",
       "      <th>7</th>\n",
       "      <td>Bose SoundSport Headphones</td>\n",
       "      <td>13430</td>\n",
       "    </tr>\n",
       "    <tr>\n",
       "      <th>8</th>\n",
       "      <td>Lightning Charging Cable</td>\n",
       "      <td>23169</td>\n",
       "    </tr>\n",
       "    <tr>\n",
       "      <th>9</th>\n",
       "      <td>27in 4K Gaming Monitor</td>\n",
       "      <td>6239</td>\n",
       "    </tr>\n",
       "    <tr>\n",
       "      <th>10</th>\n",
       "      <td>27in FHD Monitor</td>\n",
       "      <td>7541</td>\n",
       "    </tr>\n",
       "    <tr>\n",
       "      <th>11</th>\n",
       "      <td>34in Ultrawide Monitor</td>\n",
       "      <td>6192</td>\n",
       "    </tr>\n",
       "    <tr>\n",
       "      <th>12</th>\n",
       "      <td>Macbook Pro Laptop</td>\n",
       "      <td>4725</td>\n",
       "    </tr>\n",
       "    <tr>\n",
       "      <th>13</th>\n",
       "      <td>ThinkPad Laptop</td>\n",
       "      <td>4128</td>\n",
       "    </tr>\n",
       "    <tr>\n",
       "      <th>14</th>\n",
       "      <td>LG Dryer</td>\n",
       "      <td>646</td>\n",
       "    </tr>\n",
       "    <tr>\n",
       "      <th>15</th>\n",
       "      <td>Google Phone</td>\n",
       "      <td>5529</td>\n",
       "    </tr>\n",
       "    <tr>\n",
       "      <th>16</th>\n",
       "      <td>Flatscreen TV</td>\n",
       "      <td>4813</td>\n",
       "    </tr>\n",
       "    <tr>\n",
       "      <th>17</th>\n",
       "      <td>Vareebadd Phone</td>\n",
       "      <td>2068</td>\n",
       "    </tr>\n",
       "    <tr>\n",
       "      <th>18</th>\n",
       "      <td>LG Washing Machine</td>\n",
       "      <td>666</td>\n",
       "    </tr>\n",
       "  </tbody>\n",
       "</table>\n",
       "</div>"
      ],
      "text/plain": [
       "                       Product  Quantity Ordered\n",
       "0         USB-C Charging Cable             23931\n",
       "1     Apple Airpods Headphones             15637\n",
       "2                       iPhone              6847\n",
       "3       AAA Batteries (4-pack)             30986\n",
       "4                 20in Monitor              4126\n",
       "5        AA Batteries (4-pack)             27615\n",
       "6             Wired Headphones             20524\n",
       "7   Bose SoundSport Headphones             13430\n",
       "8     Lightning Charging Cable             23169\n",
       "9       27in 4K Gaming Monitor              6239\n",
       "10            27in FHD Monitor              7541\n",
       "11      34in Ultrawide Monitor              6192\n",
       "12          Macbook Pro Laptop              4725\n",
       "13             ThinkPad Laptop              4128\n",
       "14                    LG Dryer               646\n",
       "15                Google Phone              5529\n",
       "16               Flatscreen TV              4813\n",
       "17             Vareebadd Phone              2068\n",
       "18          LG Washing Machine               666"
      ]
     },
     "execution_count": 57,
     "metadata": {},
     "output_type": "execute_result"
    }
   ],
   "source": [
    "numericforproduct = dfcopy.drop(['Order Date'], axis=1)  # Exclude 'Date' column\n",
    "product_count = numericforproduct.groupby('Product', sort=False).sum()\n",
    "product_count.reset_index(inplace=True)\n",
    "product_count[['Product', 'Quantity Ordered']]"
   ]
  },
  {
   "cell_type": "code",
   "execution_count": 58,
   "metadata": {},
   "outputs": [
    {
     "data": {
      "image/png": "[encoded data removed]",
      "text/plain": [
       "<Figure size 1500x500 with 1 Axes>"
      ]
     },
     "metadata": {},
     "output_type": "display_data"
    }
   ],
   "source": [
    "plt.figure(figsize=(15,5))\n",
    "sns.barplot(x='Product', y='Quantity Ordered', data=product_count, hue='Product')\n",
    "plt.xticks(range(len(product_count['Product'])), labels=list(product_count['Product']), rotation=90, fontsize=12, fontweight='bold') \n",
    "plt.ylabel('Quantity Ordered',fontsize=18, fontweight = \"bold\")\n",
    "plt.xlabel('Product',fontsize=18, fontweight = \"bold\")\n",
    "plt.title('Product and Quantity Ordered',fontsize=18, fontweight = \"bold\").set_color('red')"
   ]
  },
  {
   "cell_type": "code",
   "execution_count": 59,
   "metadata": {},
   "outputs": [
    {
     "name": "stdout",
     "output_type": "stream",
     "text": [
      "Top 5 Ordered Product\n",
      "\n",
      "                          Quantity Ordered\n",
      "Product                                   \n",
      "AAA Batteries (4-pack)               30986\n",
      "AA Batteries (4-pack)                27615\n",
      "USB-C Charging Cable                 23931\n",
      "Lightning Charging Cable             23169\n",
      "Wired Headphones                     20524\n",
      "\n",
      "\n"
     ]
    }
   ],
   "source": [
    "top_5_ordered_Product = product_count[['Product', 'Quantity Ordered']].sort_values(by='Quantity Ordered', ascending=False)[:5].set_index('Product')\n",
    "print(f\"Top 5 Ordered Product\\n\\n{top_5_ordered_Product}\\n\\n\")\n",
    "\n"
   ]
  },
  {
   "cell_type": "markdown",
   "metadata": {},
   "source": [
    "Okay!!! `AAA Batteries (4-pack)` is the most ordered product because its price might be low"
   ]
  },
  {
   "cell_type": "code",
   "execution_count": 60,
   "metadata": {},
   "outputs": [
    {
     "data": {
      "text/html": [
       "<div>\n",
       "<style scoped>\n",
       "    .dataframe tbody tr th:only-of-type {\n",
       "        vertical-align: middle;\n",
       "    }\n",
       "\n",
       "    .dataframe tbody tr th {\n",
       "        vertical-align: top;\n",
       "    }\n",
       "\n",
       "    .dataframe thead th {\n",
       "        text-align: right;\n",
       "    }\n",
       "</style>\n",
       "<table border=\"1\" class=\"dataframe\">\n",
       "  <thead>\n",
       "    <tr style=\"text-align: right;\">\n",
       "      <th></th>\n",
       "      <th>Product</th>\n",
       "      <th>Price Each</th>\n",
       "    </tr>\n",
       "  </thead>\n",
       "  <tbody>\n",
       "    <tr>\n",
       "      <th>0</th>\n",
       "      <td>USB-C Charging Cable</td>\n",
       "      <td>261215.05</td>\n",
       "    </tr>\n",
       "    <tr>\n",
       "      <th>1</th>\n",
       "      <td>Apple Airpods Headphones</td>\n",
       "      <td>2328750.00</td>\n",
       "    </tr>\n",
       "    <tr>\n",
       "      <th>2</th>\n",
       "      <td>iPhone</td>\n",
       "      <td>4788000.00</td>\n",
       "    </tr>\n",
       "    <tr>\n",
       "      <th>3</th>\n",
       "      <td>AAA Batteries (4-pack)</td>\n",
       "      <td>61629.88</td>\n",
       "    </tr>\n",
       "    <tr>\n",
       "      <th>4</th>\n",
       "      <td>20in Monitor</td>\n",
       "      <td>450739.02</td>\n",
       "    </tr>\n",
       "    <tr>\n",
       "      <th>5</th>\n",
       "      <td>AA Batteries (4-pack)</td>\n",
       "      <td>78942.72</td>\n",
       "    </tr>\n",
       "    <tr>\n",
       "      <th>6</th>\n",
       "      <td>Wired Headphones</td>\n",
       "      <td>225999.51</td>\n",
       "    </tr>\n",
       "    <tr>\n",
       "      <th>7</th>\n",
       "      <td>Bose SoundSport Headphones</td>\n",
       "      <td>1329667.02</td>\n",
       "    </tr>\n",
       "    <tr>\n",
       "      <th>8</th>\n",
       "      <td>Lightning Charging Cable</td>\n",
       "      <td>323069.50</td>\n",
       "    </tr>\n",
       "    <tr>\n",
       "      <th>9</th>\n",
       "      <td>27in 4K Gaming Monitor</td>\n",
       "      <td>2427687.75</td>\n",
       "    </tr>\n",
       "    <tr>\n",
       "      <th>10</th>\n",
       "      <td>27in FHD Monitor</td>\n",
       "      <td>1124625.02</td>\n",
       "    </tr>\n",
       "    <tr>\n",
       "      <th>11</th>\n",
       "      <td>34in Ultrawide Monitor</td>\n",
       "      <td>2346058.26</td>\n",
       "    </tr>\n",
       "    <tr>\n",
       "      <th>12</th>\n",
       "      <td>Macbook Pro Laptop</td>\n",
       "      <td>8025700.00</td>\n",
       "    </tr>\n",
       "    <tr>\n",
       "      <th>13</th>\n",
       "      <td>ThinkPad Laptop</td>\n",
       "      <td>4125958.74</td>\n",
       "    </tr>\n",
       "    <tr>\n",
       "      <th>14</th>\n",
       "      <td>LG Dryer</td>\n",
       "      <td>387600.00</td>\n",
       "    </tr>\n",
       "    <tr>\n",
       "      <th>15</th>\n",
       "      <td>Google Phone</td>\n",
       "      <td>3313200.00</td>\n",
       "    </tr>\n",
       "    <tr>\n",
       "      <th>16</th>\n",
       "      <td>Flatscreen TV</td>\n",
       "      <td>1438200.00</td>\n",
       "    </tr>\n",
       "    <tr>\n",
       "      <th>17</th>\n",
       "      <td>Vareebadd Phone</td>\n",
       "      <td>826000.00</td>\n",
       "    </tr>\n",
       "    <tr>\n",
       "      <th>18</th>\n",
       "      <td>LG Washing Machine</td>\n",
       "      <td>399600.00</td>\n",
       "    </tr>\n",
       "  </tbody>\n",
       "</table>\n",
       "</div>"
      ],
      "text/plain": [
       "                       Product  Price Each\n",
       "0         USB-C Charging Cable   261215.05\n",
       "1     Apple Airpods Headphones  2328750.00\n",
       "2                       iPhone  4788000.00\n",
       "3       AAA Batteries (4-pack)    61629.88\n",
       "4                 20in Monitor   450739.02\n",
       "5        AA Batteries (4-pack)    78942.72\n",
       "6             Wired Headphones   225999.51\n",
       "7   Bose SoundSport Headphones  1329667.02\n",
       "8     Lightning Charging Cable   323069.50\n",
       "9       27in 4K Gaming Monitor  2427687.75\n",
       "10            27in FHD Monitor  1124625.02\n",
       "11      34in Ultrawide Monitor  2346058.26\n",
       "12          Macbook Pro Laptop  8025700.00\n",
       "13             ThinkPad Laptop  4125958.74\n",
       "14                    LG Dryer   387600.00\n",
       "15                Google Phone  3313200.00\n",
       "16               Flatscreen TV  1438200.00\n",
       "17             Vareebadd Phone   826000.00\n",
       "18          LG Washing Machine   399600.00"
      ]
     },
     "execution_count": 60,
     "metadata": {},
     "output_type": "execute_result"
    }
   ],
   "source": [
    "numericforprice = dfcopy.drop(['Order Date'], axis=1)  # Exclude 'Date' column\n",
    "product_price = numericforprice.groupby('Product', sort=False).sum()\n",
    "product_price.reset_index(inplace=True)\n",
    "product_price[['Product', 'Price Each']]"
   ]
  },
  {
   "cell_type": "code",
   "execution_count": 61,
   "metadata": {},
   "outputs": [
    {
     "data": {
      "image/png": "[encoded data removed]",
      "text/plain": [
       "<Figure size 800x400 with 2 Axes>"
      ]
     },
     "metadata": {},
     "output_type": "display_data"
    }
   ],
   "source": [
    "plt.style.use('default')\n",
    "fig, ax1 = plt.subplots(figsize=(8, 4))\n",
    "ax2 = ax1.twinx()\n",
    "\n",
    "ax1.bar(product_count['Product'], product_count['Quantity Ordered'], color='lightblue')\n",
    "ax2.plot(product_price['Product'], product_price['Price Each'], color='green')\n",
    "\n",
    "ax1.set_xlabel('Product Name', size=18)\n",
    "ax1.set_ylabel('Quantity Ordered', size=18)\n",
    "ax2.set_ylabel('Unit Cost($)',size=18)\n",
    "ax1.set_xticks(range(len(product_count['Product'])))\n",
    "ax1.set_xticklabels(product_count['Product'], rotation='vertical', size=10)\n",
    "\n",
    "ax1.set_title('Product Vs Quantity Ordered vs Unit Cost for whole dataset', fontsize=16, fontweight='bold').set_color(\"red\")\n",
    "plt.show()\n"
   ]
  },
  {
   "cell_type": "markdown",
   "metadata": {},
   "source": [
    "Here our hypothesis is `correct` as AAA Batteries (4-pack) has the lowest price and it is order mostly\n"
   ]
  },
  {
   "cell_type": "markdown",
   "metadata": {},
   "source": [
    "## Market Basket Analysis- `Apriori Algorithm & Association Rule Mining`"
   ]
  },
  {
   "cell_type": "code",
   "execution_count": 62,
   "metadata": {},
   "outputs": [
    {
     "data": {
      "text/html": [
       "<div>\n",
       "<style scoped>\n",
       "    .dataframe tbody tr th:only-of-type {\n",
       "        vertical-align: middle;\n",
       "    }\n",
       "\n",
       "    .dataframe tbody tr th {\n",
       "        vertical-align: top;\n",
       "    }\n",
       "\n",
       "    .dataframe thead th {\n",
       "        text-align: right;\n",
       "    }\n",
       "</style>\n",
       "<table border=\"1\" class=\"dataframe\">\n",
       "  <thead>\n",
       "    <tr style=\"text-align: right;\">\n",
       "      <th></th>\n",
       "      <th>Order ID</th>\n",
       "      <th>Product</th>\n",
       "      <th>Quantity Ordered</th>\n",
       "      <th>Price Each</th>\n",
       "      <th>Order Date</th>\n",
       "      <th>Purchase Address</th>\n",
       "      <th>Sales</th>\n",
       "      <th>month_no</th>\n",
       "      <th>Month</th>\n",
       "      <th>City</th>\n",
       "      <th>Hour</th>\n",
       "    </tr>\n",
       "  </thead>\n",
       "  <tbody>\n",
       "    <tr>\n",
       "      <th>61134</th>\n",
       "      <td>143879</td>\n",
       "      <td>USB-C Charging Cable</td>\n",
       "      <td>1</td>\n",
       "      <td>11.95</td>\n",
       "      <td>2019-01-28 12:11:00</td>\n",
       "      <td>665 Adams St, San Francisco, CA 94016</td>\n",
       "      <td>11.95</td>\n",
       "      <td>1</td>\n",
       "      <td>Jan</td>\n",
       "      <td>San Francisco(CA)</td>\n",
       "      <td>12</td>\n",
       "    </tr>\n",
       "    <tr>\n",
       "      <th>62887</th>\n",
       "      <td>145550</td>\n",
       "      <td>Apple Airpods Headphones</td>\n",
       "      <td>1</td>\n",
       "      <td>150.00</td>\n",
       "      <td>2019-01-30 18:53:00</td>\n",
       "      <td>505 North St, Seattle, WA 98101</td>\n",
       "      <td>150.00</td>\n",
       "      <td>1</td>\n",
       "      <td>Jan</td>\n",
       "      <td>Seattle(WA)</td>\n",
       "      <td>18</td>\n",
       "    </tr>\n",
       "    <tr>\n",
       "      <th>62886</th>\n",
       "      <td>145549</td>\n",
       "      <td>Apple Airpods Headphones</td>\n",
       "      <td>1</td>\n",
       "      <td>150.00</td>\n",
       "      <td>2019-01-02 09:45:00</td>\n",
       "      <td>644 1st St, San Francisco, CA 94016</td>\n",
       "      <td>150.00</td>\n",
       "      <td>1</td>\n",
       "      <td>Jan</td>\n",
       "      <td>San Francisco(CA)</td>\n",
       "      <td>9</td>\n",
       "    </tr>\n",
       "    <tr>\n",
       "      <th>62885</th>\n",
       "      <td>145548</td>\n",
       "      <td>iPhone</td>\n",
       "      <td>1</td>\n",
       "      <td>700.00</td>\n",
       "      <td>2019-01-04 08:21:00</td>\n",
       "      <td>695 2nd St, Austin, TX 73301</td>\n",
       "      <td>700.00</td>\n",
       "      <td>1</td>\n",
       "      <td>Jan</td>\n",
       "      <td>Austin(TX)</td>\n",
       "      <td>8</td>\n",
       "    </tr>\n",
       "    <tr>\n",
       "      <th>62884</th>\n",
       "      <td>145547</td>\n",
       "      <td>AAA Batteries (4-pack)</td>\n",
       "      <td>1</td>\n",
       "      <td>2.99</td>\n",
       "      <td>2019-01-26 23:31:00</td>\n",
       "      <td>446 Madison St, Los Angeles, CA 90001</td>\n",
       "      <td>2.99</td>\n",
       "      <td>1</td>\n",
       "      <td>Jan</td>\n",
       "      <td>Los Angeles(CA)</td>\n",
       "      <td>23</td>\n",
       "    </tr>\n",
       "  </tbody>\n",
       "</table>\n",
       "</div>"
      ],
      "text/plain": [
       "      Order ID                   Product  Quantity Ordered  Price Each  \\\n",
       "61134   143879      USB-C Charging Cable                 1       11.95   \n",
       "62887   145550  Apple Airpods Headphones                 1      150.00   \n",
       "62886   145549  Apple Airpods Headphones                 1      150.00   \n",
       "62885   145548                    iPhone                 1      700.00   \n",
       "62884   145547    AAA Batteries (4-pack)                 1        2.99   \n",
       "\n",
       "               Order Date                       Purchase Address   Sales  \\\n",
       "61134 2019-01-28 12:11:00  665 Adams St, San Francisco, CA 94016   11.95   \n",
       "62887 2019-01-30 18:53:00        505 North St, Seattle, WA 98101  150.00   \n",
       "62886 2019-01-02 09:45:00    644 1st St, San Francisco, CA 94016  150.00   \n",
       "62885 2019-01-04 08:21:00           695 2nd St, Austin, TX 73301  700.00   \n",
       "62884 2019-01-26 23:31:00  446 Madison St, Los Angeles, CA 90001    2.99   \n",
       "\n",
       "       month_no Month                City  Hour  \n",
       "61134         1   Jan   San Francisco(CA)    12  \n",
       "62887         1   Jan         Seattle(WA)    18  \n",
       "62886         1   Jan   San Francisco(CA)     9  \n",
       "62885         1   Jan          Austin(TX)     8  \n",
       "62884         1   Jan     Los Angeles(CA)    23  "
      ]
     },
     "execution_count": 62,
     "metadata": {},
     "output_type": "execute_result"
    }
   ],
   "source": [
    "dfcopy.head()"
   ]
  },
  {
   "cell_type": "code",
   "execution_count": 63,
   "metadata": {},
   "outputs": [],
   "source": [
    "basket = (dfcopy.groupby(['Order ID', 'Product'])['Quantity Ordered']\n",
    "          .sum().unstack().reset_index().fillna(0) #sum the quantity, unstack them, fill 0 to nan values. \n",
    "          .set_index('Order ID'))"
   ]
  },
  {
   "cell_type": "code",
   "execution_count": 64,
   "metadata": {},
   "outputs": [
    {
     "data": {
      "text/html": [
       "<div>\n",
       "<style scoped>\n",
       "    .dataframe tbody tr th:only-of-type {\n",
       "        vertical-align: middle;\n",
       "    }\n",
       "\n",
       "    .dataframe tbody tr th {\n",
       "        vertical-align: top;\n",
       "    }\n",
       "\n",
       "    .dataframe thead th {\n",
       "        text-align: right;\n",
       "    }\n",
       "</style>\n",
       "<table border=\"1\" class=\"dataframe\">\n",
       "  <thead>\n",
       "    <tr style=\"text-align: right;\">\n",
       "      <th>Product</th>\n",
       "      <th>20in Monitor</th>\n",
       "      <th>27in 4K Gaming Monitor</th>\n",
       "      <th>27in FHD Monitor</th>\n",
       "      <th>34in Ultrawide Monitor</th>\n",
       "      <th>AA Batteries (4-pack)</th>\n",
       "      <th>AAA Batteries (4-pack)</th>\n",
       "      <th>Apple Airpods Headphones</th>\n",
       "      <th>Bose SoundSport Headphones</th>\n",
       "      <th>Flatscreen TV</th>\n",
       "      <th>Google Phone</th>\n",
       "      <th>LG Dryer</th>\n",
       "      <th>LG Washing Machine</th>\n",
       "      <th>Lightning Charging Cable</th>\n",
       "      <th>Macbook Pro Laptop</th>\n",
       "      <th>ThinkPad Laptop</th>\n",
       "      <th>USB-C Charging Cable</th>\n",
       "      <th>Vareebadd Phone</th>\n",
       "      <th>Wired Headphones</th>\n",
       "      <th>iPhone</th>\n",
       "    </tr>\n",
       "    <tr>\n",
       "      <th>Order ID</th>\n",
       "      <th></th>\n",
       "      <th></th>\n",
       "      <th></th>\n",
       "      <th></th>\n",
       "      <th></th>\n",
       "      <th></th>\n",
       "      <th></th>\n",
       "      <th></th>\n",
       "      <th></th>\n",
       "      <th></th>\n",
       "      <th></th>\n",
       "      <th></th>\n",
       "      <th></th>\n",
       "      <th></th>\n",
       "      <th></th>\n",
       "      <th></th>\n",
       "      <th></th>\n",
       "      <th></th>\n",
       "      <th></th>\n",
       "    </tr>\n",
       "  </thead>\n",
       "  <tbody>\n",
       "    <tr>\n",
       "      <th>141234</th>\n",
       "      <td>0.0</td>\n",
       "      <td>0.0</td>\n",
       "      <td>0.0</td>\n",
       "      <td>0.0</td>\n",
       "      <td>0.0</td>\n",
       "      <td>0.0</td>\n",
       "      <td>0.0</td>\n",
       "      <td>0.0</td>\n",
       "      <td>0.0</td>\n",
       "      <td>0.0</td>\n",
       "      <td>0.0</td>\n",
       "      <td>0.0</td>\n",
       "      <td>0.0</td>\n",
       "      <td>0.0</td>\n",
       "      <td>0.0</td>\n",
       "      <td>0.0</td>\n",
       "      <td>0.0</td>\n",
       "      <td>0.0</td>\n",
       "      <td>1.0</td>\n",
       "    </tr>\n",
       "    <tr>\n",
       "      <th>141235</th>\n",
       "      <td>0.0</td>\n",
       "      <td>0.0</td>\n",
       "      <td>0.0</td>\n",
       "      <td>0.0</td>\n",
       "      <td>0.0</td>\n",
       "      <td>0.0</td>\n",
       "      <td>0.0</td>\n",
       "      <td>0.0</td>\n",
       "      <td>0.0</td>\n",
       "      <td>0.0</td>\n",
       "      <td>0.0</td>\n",
       "      <td>0.0</td>\n",
       "      <td>1.0</td>\n",
       "      <td>0.0</td>\n",
       "      <td>0.0</td>\n",
       "      <td>0.0</td>\n",
       "      <td>0.0</td>\n",
       "      <td>0.0</td>\n",
       "      <td>0.0</td>\n",
       "    </tr>\n",
       "    <tr>\n",
       "      <th>141236</th>\n",
       "      <td>0.0</td>\n",
       "      <td>0.0</td>\n",
       "      <td>0.0</td>\n",
       "      <td>0.0</td>\n",
       "      <td>0.0</td>\n",
       "      <td>0.0</td>\n",
       "      <td>0.0</td>\n",
       "      <td>0.0</td>\n",
       "      <td>0.0</td>\n",
       "      <td>0.0</td>\n",
       "      <td>0.0</td>\n",
       "      <td>0.0</td>\n",
       "      <td>0.0</td>\n",
       "      <td>0.0</td>\n",
       "      <td>0.0</td>\n",
       "      <td>0.0</td>\n",
       "      <td>0.0</td>\n",
       "      <td>2.0</td>\n",
       "      <td>0.0</td>\n",
       "    </tr>\n",
       "    <tr>\n",
       "      <th>141237</th>\n",
       "      <td>0.0</td>\n",
       "      <td>0.0</td>\n",
       "      <td>1.0</td>\n",
       "      <td>0.0</td>\n",
       "      <td>0.0</td>\n",
       "      <td>0.0</td>\n",
       "      <td>0.0</td>\n",
       "      <td>0.0</td>\n",
       "      <td>0.0</td>\n",
       "      <td>0.0</td>\n",
       "      <td>0.0</td>\n",
       "      <td>0.0</td>\n",
       "      <td>0.0</td>\n",
       "      <td>0.0</td>\n",
       "      <td>0.0</td>\n",
       "      <td>0.0</td>\n",
       "      <td>0.0</td>\n",
       "      <td>0.0</td>\n",
       "      <td>0.0</td>\n",
       "    </tr>\n",
       "    <tr>\n",
       "      <th>141238</th>\n",
       "      <td>0.0</td>\n",
       "      <td>0.0</td>\n",
       "      <td>0.0</td>\n",
       "      <td>0.0</td>\n",
       "      <td>0.0</td>\n",
       "      <td>0.0</td>\n",
       "      <td>0.0</td>\n",
       "      <td>0.0</td>\n",
       "      <td>0.0</td>\n",
       "      <td>0.0</td>\n",
       "      <td>0.0</td>\n",
       "      <td>0.0</td>\n",
       "      <td>0.0</td>\n",
       "      <td>0.0</td>\n",
       "      <td>0.0</td>\n",
       "      <td>0.0</td>\n",
       "      <td>0.0</td>\n",
       "      <td>1.0</td>\n",
       "      <td>0.0</td>\n",
       "    </tr>\n",
       "  </tbody>\n",
       "</table>\n",
       "</div>"
      ],
      "text/plain": [
       "Product   20in Monitor  27in 4K Gaming Monitor  27in FHD Monitor  \\\n",
       "Order ID                                                           \n",
       "141234             0.0                     0.0               0.0   \n",
       "141235             0.0                     0.0               0.0   \n",
       "141236             0.0                     0.0               0.0   \n",
       "141237             0.0                     0.0               1.0   \n",
       "141238             0.0                     0.0               0.0   \n",
       "\n",
       "Product   34in Ultrawide Monitor  AA Batteries (4-pack)  \\\n",
       "Order ID                                                  \n",
       "141234                       0.0                    0.0   \n",
       "141235                       0.0                    0.0   \n",
       "141236                       0.0                    0.0   \n",
       "141237                       0.0                    0.0   \n",
       "141238                       0.0                    0.0   \n",
       "\n",
       "Product   AAA Batteries (4-pack)  Apple Airpods Headphones  \\\n",
       "Order ID                                                     \n",
       "141234                       0.0                       0.0   \n",
       "141235                       0.0                       0.0   \n",
       "141236                       0.0                       0.0   \n",
       "141237                       0.0                       0.0   \n",
       "141238                       0.0                       0.0   \n",
       "\n",
       "Product   Bose SoundSport Headphones  Flatscreen TV  Google Phone  LG Dryer  \\\n",
       "Order ID                                                                      \n",
       "141234                           0.0            0.0           0.0       0.0   \n",
       "141235                           0.0            0.0           0.0       0.0   \n",
       "141236                           0.0            0.0           0.0       0.0   \n",
       "141237                           0.0            0.0           0.0       0.0   \n",
       "141238                           0.0            0.0           0.0       0.0   \n",
       "\n",
       "Product   LG Washing Machine  Lightning Charging Cable  Macbook Pro Laptop  \\\n",
       "Order ID                                                                     \n",
       "141234                   0.0                       0.0                 0.0   \n",
       "141235                   0.0                       1.0                 0.0   \n",
       "141236                   0.0                       0.0                 0.0   \n",
       "141237                   0.0                       0.0                 0.0   \n",
       "141238                   0.0                       0.0                 0.0   \n",
       "\n",
       "Product   ThinkPad Laptop  USB-C Charging Cable  Vareebadd Phone  \\\n",
       "Order ID                                                           \n",
       "141234                0.0                   0.0              0.0   \n",
       "141235                0.0                   0.0              0.0   \n",
       "141236                0.0                   0.0              0.0   \n",
       "141237                0.0                   0.0              0.0   \n",
       "141238                0.0                   0.0              0.0   \n",
       "\n",
       "Product   Wired Headphones  iPhone  \n",
       "Order ID                            \n",
       "141234                 0.0     1.0  \n",
       "141235                 0.0     0.0  \n",
       "141236                 2.0     0.0  \n",
       "141237                 0.0     0.0  \n",
       "141238                 1.0     0.0  "
      ]
     },
     "execution_count": 64,
     "metadata": {},
     "output_type": "execute_result"
    }
   ],
   "source": [
    "basket.head()"
   ]
  },
  {
   "cell_type": "code",
   "execution_count": 65,
   "metadata": {},
   "outputs": [],
   "source": [
    "#below function converts a values < 0 to 0 and value greater than equal 1 to 1.  \n",
    "def encode_units(x):\n",
    "    if x <= 0:\n",
    "        return 0\n",
    "    if x >= 1:\n",
    "        return 1\n",
    "#apply function to data using applymap.\n",
    "basket_sets = basket.map(encode_units)"
   ]
  },
  {
   "cell_type": "code",
   "execution_count": 66,
   "metadata": {},
   "outputs": [
    {
     "data": {
      "text/html": [
       "<div>\n",
       "<style scoped>\n",
       "    .dataframe tbody tr th:only-of-type {\n",
       "        vertical-align: middle;\n",
       "    }\n",
       "\n",
       "    .dataframe tbody tr th {\n",
       "        vertical-align: top;\n",
       "    }\n",
       "\n",
       "    .dataframe thead th {\n",
       "        text-align: right;\n",
       "    }\n",
       "</style>\n",
       "<table border=\"1\" class=\"dataframe\">\n",
       "  <thead>\n",
       "    <tr style=\"text-align: right;\">\n",
       "      <th>Product</th>\n",
       "      <th>20in Monitor</th>\n",
       "      <th>27in 4K Gaming Monitor</th>\n",
       "      <th>27in FHD Monitor</th>\n",
       "      <th>34in Ultrawide Monitor</th>\n",
       "      <th>AA Batteries (4-pack)</th>\n",
       "      <th>AAA Batteries (4-pack)</th>\n",
       "      <th>Apple Airpods Headphones</th>\n",
       "      <th>Bose SoundSport Headphones</th>\n",
       "      <th>Flatscreen TV</th>\n",
       "      <th>Google Phone</th>\n",
       "      <th>LG Dryer</th>\n",
       "      <th>LG Washing Machine</th>\n",
       "      <th>Lightning Charging Cable</th>\n",
       "      <th>Macbook Pro Laptop</th>\n",
       "      <th>ThinkPad Laptop</th>\n",
       "      <th>USB-C Charging Cable</th>\n",
       "      <th>Vareebadd Phone</th>\n",
       "      <th>Wired Headphones</th>\n",
       "      <th>iPhone</th>\n",
       "    </tr>\n",
       "    <tr>\n",
       "      <th>Order ID</th>\n",
       "      <th></th>\n",
       "      <th></th>\n",
       "      <th></th>\n",
       "      <th></th>\n",
       "      <th></th>\n",
       "      <th></th>\n",
       "      <th></th>\n",
       "      <th></th>\n",
       "      <th></th>\n",
       "      <th></th>\n",
       "      <th></th>\n",
       "      <th></th>\n",
       "      <th></th>\n",
       "      <th></th>\n",
       "      <th></th>\n",
       "      <th></th>\n",
       "      <th></th>\n",
       "      <th></th>\n",
       "      <th></th>\n",
       "    </tr>\n",
       "  </thead>\n",
       "  <tbody>\n",
       "    <tr>\n",
       "      <th>141234</th>\n",
       "      <td>0</td>\n",
       "      <td>0</td>\n",
       "      <td>0</td>\n",
       "      <td>0</td>\n",
       "      <td>0</td>\n",
       "      <td>0</td>\n",
       "      <td>0</td>\n",
       "      <td>0</td>\n",
       "      <td>0</td>\n",
       "      <td>0</td>\n",
       "      <td>0</td>\n",
       "      <td>0</td>\n",
       "      <td>0</td>\n",
       "      <td>0</td>\n",
       "      <td>0</td>\n",
       "      <td>0</td>\n",
       "      <td>0</td>\n",
       "      <td>0</td>\n",
       "      <td>1</td>\n",
       "    </tr>\n",
       "    <tr>\n",
       "      <th>141235</th>\n",
       "      <td>0</td>\n",
       "      <td>0</td>\n",
       "      <td>0</td>\n",
       "      <td>0</td>\n",
       "      <td>0</td>\n",
       "      <td>0</td>\n",
       "      <td>0</td>\n",
       "      <td>0</td>\n",
       "      <td>0</td>\n",
       "      <td>0</td>\n",
       "      <td>0</td>\n",
       "      <td>0</td>\n",
       "      <td>1</td>\n",
       "      <td>0</td>\n",
       "      <td>0</td>\n",
       "      <td>0</td>\n",
       "      <td>0</td>\n",
       "      <td>0</td>\n",
       "      <td>0</td>\n",
       "    </tr>\n",
       "    <tr>\n",
       "      <th>141236</th>\n",
       "      <td>0</td>\n",
       "      <td>0</td>\n",
       "      <td>0</td>\n",
       "      <td>0</td>\n",
       "      <td>0</td>\n",
       "      <td>0</td>\n",
       "      <td>0</td>\n",
       "      <td>0</td>\n",
       "      <td>0</td>\n",
       "      <td>0</td>\n",
       "      <td>0</td>\n",
       "      <td>0</td>\n",
       "      <td>0</td>\n",
       "      <td>0</td>\n",
       "      <td>0</td>\n",
       "      <td>0</td>\n",
       "      <td>0</td>\n",
       "      <td>1</td>\n",
       "      <td>0</td>\n",
       "    </tr>\n",
       "    <tr>\n",
       "      <th>141237</th>\n",
       "      <td>0</td>\n",
       "      <td>0</td>\n",
       "      <td>1</td>\n",
       "      <td>0</td>\n",
       "      <td>0</td>\n",
       "      <td>0</td>\n",
       "      <td>0</td>\n",
       "      <td>0</td>\n",
       "      <td>0</td>\n",
       "      <td>0</td>\n",
       "      <td>0</td>\n",
       "      <td>0</td>\n",
       "      <td>0</td>\n",
       "      <td>0</td>\n",
       "      <td>0</td>\n",
       "      <td>0</td>\n",
       "      <td>0</td>\n",
       "      <td>0</td>\n",
       "      <td>0</td>\n",
       "    </tr>\n",
       "    <tr>\n",
       "      <th>141238</th>\n",
       "      <td>0</td>\n",
       "      <td>0</td>\n",
       "      <td>0</td>\n",
       "      <td>0</td>\n",
       "      <td>0</td>\n",
       "      <td>0</td>\n",
       "      <td>0</td>\n",
       "      <td>0</td>\n",
       "      <td>0</td>\n",
       "      <td>0</td>\n",
       "      <td>0</td>\n",
       "      <td>0</td>\n",
       "      <td>0</td>\n",
       "      <td>0</td>\n",
       "      <td>0</td>\n",
       "      <td>0</td>\n",
       "      <td>0</td>\n",
       "      <td>1</td>\n",
       "      <td>0</td>\n",
       "    </tr>\n",
       "  </tbody>\n",
       "</table>\n",
       "</div>"
      ],
      "text/plain": [
       "Product   20in Monitor  27in 4K Gaming Monitor  27in FHD Monitor  \\\n",
       "Order ID                                                           \n",
       "141234               0                       0                 0   \n",
       "141235               0                       0                 0   \n",
       "141236               0                       0                 0   \n",
       "141237               0                       0                 1   \n",
       "141238               0                       0                 0   \n",
       "\n",
       "Product   34in Ultrawide Monitor  AA Batteries (4-pack)  \\\n",
       "Order ID                                                  \n",
       "141234                         0                      0   \n",
       "141235                         0                      0   \n",
       "141236                         0                      0   \n",
       "141237                         0                      0   \n",
       "141238                         0                      0   \n",
       "\n",
       "Product   AAA Batteries (4-pack)  Apple Airpods Headphones  \\\n",
       "Order ID                                                     \n",
       "141234                         0                         0   \n",
       "141235                         0                         0   \n",
       "141236                         0                         0   \n",
       "141237                         0                         0   \n",
       "141238                         0                         0   \n",
       "\n",
       "Product   Bose SoundSport Headphones  Flatscreen TV  Google Phone  LG Dryer  \\\n",
       "Order ID                                                                      \n",
       "141234                             0              0             0         0   \n",
       "141235                             0              0             0         0   \n",
       "141236                             0              0             0         0   \n",
       "141237                             0              0             0         0   \n",
       "141238                             0              0             0         0   \n",
       "\n",
       "Product   LG Washing Machine  Lightning Charging Cable  Macbook Pro Laptop  \\\n",
       "Order ID                                                                     \n",
       "141234                     0                         0                   0   \n",
       "141235                     0                         1                   0   \n",
       "141236                     0                         0                   0   \n",
       "141237                     0                         0                   0   \n",
       "141238                     0                         0                   0   \n",
       "\n",
       "Product   ThinkPad Laptop  USB-C Charging Cable  Vareebadd Phone  \\\n",
       "Order ID                                                           \n",
       "141234                  0                     0                0   \n",
       "141235                  0                     0                0   \n",
       "141236                  0                     0                0   \n",
       "141237                  0                     0                0   \n",
       "141238                  0                     0                0   \n",
       "\n",
       "Product   Wired Headphones  iPhone  \n",
       "Order ID                            \n",
       "141234                   0       1  \n",
       "141235                   0       0  \n",
       "141236                   1       0  \n",
       "141237                   0       0  \n",
       "141238                   1       0  "
      ]
     },
     "execution_count": 66,
     "metadata": {},
     "output_type": "execute_result"
    }
   ],
   "source": [
    "basket_sets.head()"
   ]
  },
  {
   "cell_type": "code",
   "execution_count": 67,
   "metadata": {},
   "outputs": [],
   "source": [
    "from apyori import apriori\n",
    "frequent_itemsets = apriori(basket_sets.astype(bool), min_support=0.07, use_colnames=True)\n"
   ]
  },
  {
   "cell_type": "code",
   "execution_count": 68,
   "metadata": {
    "scrolled": true
   },
   "outputs": [
    {
     "data": {
      "text/html": [
       "<div>\n",
       "<style scoped>\n",
       "    .dataframe tbody tr th:only-of-type {\n",
       "        vertical-align: middle;\n",
       "    }\n",
       "\n",
       "    .dataframe tbody tr th {\n",
       "        vertical-align: top;\n",
       "    }\n",
       "\n",
       "    .dataframe thead th {\n",
       "        text-align: right;\n",
       "    }\n",
       "</style>\n",
       "<table border=\"1\" class=\"dataframe\">\n",
       "  <thead>\n",
       "    <tr style=\"text-align: right;\">\n",
       "      <th></th>\n",
       "      <th>Order ID</th>\n",
       "      <th>Product</th>\n",
       "    </tr>\n",
       "  </thead>\n",
       "  <tbody>\n",
       "    <tr>\n",
       "      <th>186849</th>\n",
       "      <td>319670</td>\n",
       "      <td>Bose SoundSport Headphones</td>\n",
       "    </tr>\n",
       "    <tr>\n",
       "      <th>186848</th>\n",
       "      <td>319669</td>\n",
       "      <td>Wired Headphones</td>\n",
       "    </tr>\n",
       "    <tr>\n",
       "      <th>186847</th>\n",
       "      <td>319668</td>\n",
       "      <td>Vareebadd Phone</td>\n",
       "    </tr>\n",
       "    <tr>\n",
       "      <th>186846</th>\n",
       "      <td>319667</td>\n",
       "      <td>AA Batteries (4-pack)</td>\n",
       "    </tr>\n",
       "    <tr>\n",
       "      <th>186845</th>\n",
       "      <td>319666</td>\n",
       "      <td>Lightning Charging Cable</td>\n",
       "    </tr>\n",
       "    <tr>\n",
       "      <th>...</th>\n",
       "      <td>...</td>\n",
       "      <td>...</td>\n",
       "    </tr>\n",
       "    <tr>\n",
       "      <th>58347</th>\n",
       "      <td>141238</td>\n",
       "      <td>Wired Headphones</td>\n",
       "    </tr>\n",
       "    <tr>\n",
       "      <th>58346</th>\n",
       "      <td>141237</td>\n",
       "      <td>27in FHD Monitor</td>\n",
       "    </tr>\n",
       "    <tr>\n",
       "      <th>58345</th>\n",
       "      <td>141236</td>\n",
       "      <td>Wired Headphones</td>\n",
       "    </tr>\n",
       "    <tr>\n",
       "      <th>58344</th>\n",
       "      <td>141235</td>\n",
       "      <td>Lightning Charging Cable</td>\n",
       "    </tr>\n",
       "    <tr>\n",
       "      <th>58343</th>\n",
       "      <td>141234</td>\n",
       "      <td>iPhone</td>\n",
       "    </tr>\n",
       "  </tbody>\n",
       "</table>\n",
       "<p>185686 rows × 2 columns</p>\n",
       "</div>"
      ],
      "text/plain": [
       "       Order ID                     Product\n",
       "186849   319670  Bose SoundSport Headphones\n",
       "186848   319669            Wired Headphones\n",
       "186847   319668             Vareebadd Phone\n",
       "186846   319667       AA Batteries (4-pack)\n",
       "186845   319666    Lightning Charging Cable\n",
       "...         ...                         ...\n",
       "58347    141238            Wired Headphones\n",
       "58346    141237            27in FHD Monitor\n",
       "58345    141236            Wired Headphones\n",
       "58344    141235    Lightning Charging Cable\n",
       "58343    141234                      iPhone\n",
       "\n",
       "[185686 rows x 2 columns]"
      ]
     },
     "execution_count": 68,
     "metadata": {},
     "output_type": "execute_result"
    }
   ],
   "source": [
    "cust_level = dfcopy[[\"Order ID\", \"Product\"]].sort_values(by=\"Order ID\", ascending=False)\n",
    "cust_level[\"Product\"] = cust_level[\"Product\"].str.strip()\n",
    "cust_level"
   ]
  },
  {
   "cell_type": "code",
   "execution_count": null,
   "metadata": {},
   "outputs": [],
   "source": [
    "transactions = [a[1][\"Product\"].tolist() for a in list(cust_level.groupby([\"Order ID\"]))]"
   ]
  },
  {
   "cell_type": "code",
   "execution_count": null,
   "metadata": {},
   "outputs": [],
   "source": [
    "from apyori import apriori\n",
    "rules = apriori(transactions= transactions, min_support = 0.002, min_confidence = 0.05, min_lift = 3, min_lenght=2)"
   ]
  },
  {
   "cell_type": "code",
   "execution_count": null,
   "metadata": {},
   "outputs": [],
   "source": [
    "results = list(rules)"
   ]
  },
  {
   "cell_type": "code",
   "execution_count": null,
   "metadata": {},
   "outputs": [],
   "source": [
    "results"
   ]
  },
  {
   "cell_type": "code",
   "execution_count": null,
   "metadata": {},
   "outputs": [],
   "source": [
    "def inspect(results):\n",
    "    lhs = [tuple(result[2][0][0])[0] for result in results]\n",
    "    rhs = [tuple(result[2][0][1])[0] for result in results]\n",
    "    supports = [result[1] for result in results]\n",
    "    confidences = [result[2][0][2] fpr results in results]\n",
    "    lifts = [result[2][0][3] for result in results]\n",
    "    return list(zip(lhs, rhs, supports, confidences, lifts))\n",
    "resultsindataframe = pd.DataFrame(inspect(results),columns =['Lift hand Side','Right hand side','Support','Confidences','Lifts'])"
   ]
  },
  {
   "cell_type": "code",
   "execution_count": null,
   "metadata": {},
   "outputs": [],
   "source": [
    "resultsindataframe.nlargest(n=10, columns =\"Lifts\")"
   ]
  },
  {
   "cell_type": "code",
   "execution_count": null,
   "metadata": {},
   "outputs": [],
   "source": []
  }
 ],
 "metadata": {
  "kernelspec": {
   "display_name": "Python 3 (ipykernel)",
   "language": "python",
   "name": "python3"
  },
  "language_info": {
   "codemirror_mode": {
    "name": "ipython",
    "version": 3
   },
   "file_extension": ".py",
   "mimetype": "text/x-python",
   "name": "python",
   "nbconvert_exporter": "python",
   "pygments_lexer": "ipython3",
   "version": "3.11.3"
  }
 },
 "nbformat": 4,
 "nbformat_minor": 4
}
