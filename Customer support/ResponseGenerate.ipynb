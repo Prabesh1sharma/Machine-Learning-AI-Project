{
  "nbformat": 4,
  "nbformat_minor": 0,
  "metadata": {
    "colab": {
      "provenance": []
    },
    "kernelspec": {
      "name": "python3",
      "display_name": "Python 3"
    },
    "language_info": {
      "name": "python"
    }
  },
  "cells": [
    {
      "cell_type": "code",
      "execution_count": 32,
      "metadata": {
        "id": "px5d6qO549dL"
      },
      "outputs": [],
      "source": [
        "from transformers import DistilBertTokenizer\n",
        "from transformers import TFDistilBertForSequenceClassification\n",
        "from transformers import TextClassificationPipeline\n",
        "\n",
        "import tensorflow as tf\n",
        "import pandas as pd\n",
        "import json\n",
        "import gc\n"
      ]
    },
    {
      "cell_type": "code",
      "source": [
        "save_directory = '/content/Saved_model'"
      ],
      "metadata": {
        "id": "UsUmcsWZ7W2V"
      },
      "execution_count": 33,
      "outputs": []
    },
    {
      "cell_type": "code",
      "source": [
        "tokenizer_fine_tuned = DistilBertTokenizer.from_pretrained(save_directory)\n",
        "\n",
        "model_fine_tuned = TFDistilBertForSequenceClassification.from_pretrained(save_directory)"
      ],
      "metadata": {
        "colab": {
          "base_uri": "https://localhost:8080/"
        },
        "id": "Umxdwam85XCH",
        "outputId": "2e542c72-248a-49c4-ba62-476c758dca8e"
      },
      "execution_count": 3,
      "outputs": [
        {
          "output_type": "stream",
          "name": "stderr",
          "text": [
            "Some layers from the model checkpoint at /content/Saved_model were not used when initializing TFDistilBertForSequenceClassification: ['dropout_39']\n",
            "- This IS expected if you are initializing TFDistilBertForSequenceClassification from the checkpoint of a model trained on another task or with another architecture (e.g. initializing a BertForSequenceClassification model from a BertForPreTraining model).\n",
            "- This IS NOT expected if you are initializing TFDistilBertForSequenceClassification from the checkpoint of a model that you expect to be exactly identical (initializing a BertForSequenceClassification model from a BertForSequenceClassification model).\n",
            "Some layers of TFDistilBertForSequenceClassification were not initialized from the model checkpoint at /content/Saved_model and are newly initialized: ['dropout_19']\n",
            "You should probably TRAIN this model on a down-stream task to be able to use it for predictions and inference.\n"
          ]
        }
      ]
    },
    {
      "cell_type": "code",
      "source": [
        "intent_class_names= ['cancel_order', 'change_order', 'change_shipping_address',\n",
        "                  'check_cancellation_fee', 'check_invoice', 'check_payment_methods',\n",
        "                  'check_refund_policy', 'complaint', 'contact_customer_service',\n",
        "                  'contact_human_agent', 'create_account', 'delete_account',\n",
        "                  'delivery_options', 'delivery_period', 'edit_account',\n",
        "                  'get_invoice', 'get_refund', 'newsletter_subscription',\n",
        "                  'payment_issue', 'place_order', 'recover_password', 'registration_problems',\n",
        "                  'review', 'set_up_shipping_address', 'switch_account', 'track_order', 'track_refund']"
      ],
      "metadata": {
        "id": "9EWfQDZ87cNR"
      },
      "execution_count": 34,
      "outputs": []
    },
    {
      "cell_type": "code",
      "source": [
        "def classify_intent(text):\n",
        "  test_text = text\n",
        "  predict_input = tokenizer_fine_tuned.encode(\n",
        "      test_text,\n",
        "      truncation = True,\n",
        "      padding = True,\n",
        "      return_tensors = 'tf'\n",
        "  )\n",
        "\n",
        "  output = model_fine_tuned(predict_input)[0]\n",
        "\n",
        "  prediction_value = tf.argmax(output, axis = 1).numpy()[0]\n",
        "\n",
        "  predicted_class_name = intent_class_names[prediction_value]\n",
        "  return predicted_class_name"
      ],
      "metadata": {
        "id": "QcVL7HI87jLZ"
      },
      "execution_count": 35,
      "outputs": []
    },
    {
      "cell_type": "code",
      "source": [
        "classify_intent(\"I forget my password\")"
      ],
      "metadata": {
        "colab": {
          "base_uri": "https://localhost:8080/",
          "height": 36
        },
        "id": "xN0Kgbnx77hn",
        "outputId": "c31d196d-8cbf-4ffb-8bde-590a9849f96b"
      },
      "execution_count": 6,
      "outputs": [
        {
          "output_type": "execute_result",
          "data": {
            "text/plain": [
              "'recover_password'"
            ],
            "application/vnd.google.colaboratory.intrinsic+json": {
              "type": "string"
            }
          },
          "metadata": {},
          "execution_count": 6
        }
      ]
    },
    {
      "cell_type": "code",
      "source": [
        "import random\n",
        "\n",
        "def generate_response(intent: str, user_query: str = None) -> str:\n",
        "    \"\"\"\n",
        "    Generate an appropriate response based on the identified intent.\n",
        "\n",
        "    Args:\n",
        "    - intent (str): The classified intent of the user's query.\n",
        "    - user_query (str, optional): The original query from the user to add more context.\n",
        "\n",
        "    Returns:\n",
        "    - str: The generated response tailored to the user's intent.\n",
        "    \"\"\"\n",
        "\n",
        "    # Define response templates for each intent\n",
        "    response_templates = {\n",
        "        'cancel_order': [\n",
        "            \"I'm sorry to hear that you'd like to cancel your order. Could you please provide your order ID so we can proceed?\",\n",
        "            \"To cancel your order, please provide the order number. I'll handle it right away.\"\n",
        "        ],\n",
        "        'change_order': [\n",
        "            \"To make changes to your order, please specify what changes you'd like to make along with your order ID.\",\n",
        "            \"Could you provide your order ID and details on what you want to change? I'll update your order accordingly.\"\n",
        "        ],\n",
        "        'change_shipping_address': [\n",
        "            \"Please provide your order ID and the new shipping address, and I'll update it for you.\",\n",
        "            \"I can help you change the shipping address. Could you provide the order ID and the new address details?\"\n",
        "        ],\n",
        "        'check_cancellation_fee': [\n",
        "            \"To check if there's a cancellation fee, please provide your order ID.\",\n",
        "            \"I can check the cancellation fee for you. Can you provide the order number?\"\n",
        "        ],\n",
        "        'check_invoice': [\n",
        "            \"To check your invoice, please provide your order ID or account details.\",\n",
        "            \"I can retrieve your invoice. Could you provide the necessary details, such as your order number?\"\n",
        "        ],\n",
        "        'check_payment_methods': [\n",
        "            \"We accept several payment methods including credit/debit cards, PayPal, and bank transfers. Would you like more details?\",\n",
        "            \"Our payment methods include credit cards, debit cards, PayPal, and more. Can I assist you with something specific?\"\n",
        "        ],\n",
        "        'check_refund_policy': [\n",
        "            \"Our refund policy allows refunds within 30 days of purchase. Would you like more details on this?\",\n",
        "            \"We offer refunds within 30 days. If you need more information, let me know.\"\n",
        "        ],\n",
        "        'complaint': [\n",
        "            \"I'm sorry to hear that you're not satisfied. Could you please provide more details about your issue?\",\n",
        "            \"We apologize for any inconvenience. Can you tell me more about your complaint so I can assist you?\"\n",
        "        ],\n",
        "        'contact_customer_service': [\n",
        "            \"You can reach our customer service via phone at 123-456-7890 or email at support@example.com.\",\n",
        "            \"For customer service, please call 123-456-7890 or email support@example.com.\"\n",
        "        ],\n",
        "        'contact_human_agent': [\n",
        "            \"I will connect you with a human agent shortly. Please hold on.\",\n",
        "            \"Connecting you to a human agent now. Please wait a moment.\"\n",
        "        ],\n",
        "        'create_account': [\n",
        "            \"To create an account, please provide your email address and desired password.\",\n",
        "            \"I can help you create an account. Could you please provide your email and a preferred password?\"\n",
        "        ],\n",
        "        'delete_account': [\n",
        "            \"To delete your account, please provide your account email and any other verification details.\",\n",
        "            \"I'm sorry to see you go. Could you confirm your account details so we can proceed with the deletion?\"\n",
        "        ],\n",
        "        'delivery_options': [\n",
        "            \"We offer several delivery options including standard, express, and overnight shipping. Which one would you like?\",\n",
        "            \"Our delivery options range from standard to express. Would you like more details?\"\n",
        "        ],\n",
        "        'delivery_period': [\n",
        "            \"The delivery period depends on your location and the chosen delivery option. Typically, it ranges from 3 to 7 business days.\",\n",
        "            \"Delivery usually takes between 3 to 7 business days, depending on your location and selected shipping method.\"\n",
        "        ],\n",
        "        'edit_account': [\n",
        "            \"To edit your account details, please provide the changes you want to make along with your current account information.\",\n",
        "            \"I can assist you with editing your account. Please specify what details you would like to update.\"\n",
        "        ],\n",
        "        'get_invoice': [\n",
        "            \"To get your invoice, please provide your order ID.\",\n",
        "            \"I can fetch your invoice. Could you provide your order number or account details?\"\n",
        "        ],\n",
        "        'get_refund': [\n",
        "            \"To process a refund, please provide your order ID and the reason for the refund.\",\n",
        "            \"Refunds can be initiated with your order ID and some additional information. Could you provide those details?\"\n",
        "        ],\n",
        "        'newsletter_subscription': [\n",
        "            \"To subscribe to our newsletter, please provide your email address.\",\n",
        "            \"I can add you to our newsletter. Could you provide your email?\"\n",
        "        ],\n",
        "        'payment_issue': [\n",
        "            \"I'm sorry to hear you're having payment issues. Could you provide more details or a specific error message?\",\n",
        "            \"Let’s solve your payment issue. Could you please describe the problem or provide any error messages you received?\"\n",
        "        ],\n",
        "        'place_order': [\n",
        "            \"To place an order, please provide the product details and your preferred payment method.\",\n",
        "            \"I can help you place an order. Could you tell me what you'd like to purchase and your payment method?\"\n",
        "        ],\n",
        "        'recover_password': [\n",
        "            \"To recover your password, please provide your registered email address.\",\n",
        "            \"I can help with password recovery. Could you provide your account's email address?\"\n",
        "        ],\n",
        "        'registration_problems': [\n",
        "            \"I'm sorry to hear you're having trouble registering. Could you describe the issue?\",\n",
        "            \"Let’s resolve your registration issue. Can you provide more details?\"\n",
        "        ],\n",
        "        'review': [\n",
        "            \"We'd love to hear your feedback! Could you provide your review or comments?\",\n",
        "            \"Please share your feedback with us. We appreciate your input.\"\n",
        "        ],\n",
        "        'set_up_shipping_address': [\n",
        "            \"To set up a shipping address, please provide your full address details.\",\n",
        "            \"I can set up your shipping address. Could you provide the complete address information?\"\n",
        "        ],\n",
        "        'switch_account': [\n",
        "            \"To switch accounts, please log out of the current account and log in with the other account credentials.\",\n",
        "            \"You can switch accounts by logging out and logging back in with a different account. Need further assistance?\"\n",
        "        ],\n",
        "        'track_order': [\n",
        "            \"To track your order, please provide your order ID.\",\n",
        "            \"I can track your order for you. Could you provide the order number?\"\n",
        "        ],\n",
        "        'track_refund': [\n",
        "            \"To track your refund status, please provide your order ID and any related details.\",\n",
        "            \"Refund tracking requires your order ID. Could you provide that information?\"\n",
        "        ],\n",
        "    }\n",
        "\n",
        "    # Get random response from the list of responses for the given intent\n",
        "    if intent in response_templates:\n",
        "        response = random.choice(response_templates[intent])\n",
        "    else:\n",
        "        response = \"I'm not sure how to help with that. Could you please provide more details?\"\n",
        "\n",
        "    return response\n",
        "\n",
        "\n",
        "\n",
        "\n"
      ],
      "metadata": {
        "id": "VH1zb5pl8Aw_"
      },
      "execution_count": 36,
      "outputs": []
    },
    {
      "cell_type": "code",
      "source": [],
      "metadata": {
        "id": "mFtXFePbKwLa"
      },
      "execution_count": null,
      "outputs": []
    },
    {
      "cell_type": "code",
      "source": [
        "generate_response('recover_password','I forget my password')"
      ],
      "metadata": {
        "colab": {
          "base_uri": "https://localhost:8080/",
          "height": 36
        },
        "id": "3M2YQSg98gc6",
        "outputId": "545cb187-5a94-44da-cc4f-965a2cedb9a7"
      },
      "execution_count": 37,
      "outputs": [
        {
          "output_type": "execute_result",
          "data": {
            "text/plain": [
              "'To recover your password, please provide your registered email address.'"
            ],
            "application/vnd.google.colaboratory.intrinsic+json": {
              "type": "string"
            }
          },
          "metadata": {},
          "execution_count": 37
        }
      ]
    },
    {
      "cell_type": "code",
      "source": [
        "def classify_intent_generate_response(text):\n",
        "  intent = classify_intent(text)\n",
        "  response = generate_response(intent, text)\n",
        "  print('Intent : ',{intent})\n",
        "  print('Response : ',{response})"
      ],
      "metadata": {
        "id": "_vOC-0xPKxrc"
      },
      "execution_count": 41,
      "outputs": []
    },
    {
      "cell_type": "code",
      "source": [
        "classify_intent_generate_response('I want to delete my account')"
      ],
      "metadata": {
        "colab": {
          "base_uri": "https://localhost:8080/"
        },
        "id": "j9dRS8O-LM_G",
        "outputId": "6e5ec661-33ab-4188-8838-04cc7971c499"
      },
      "execution_count": 44,
      "outputs": [
        {
          "output_type": "stream",
          "name": "stdout",
          "text": [
            "Intent :  {'delete_account'}\n",
            "Response :  {\"I'm sorry to see you go. Could you confirm your account details so we can proceed with the deletion?\"}\n"
          ]
        }
      ]
    },
    {
      "cell_type": "code",
      "source": [
        "from transformers import AutoModelForCausalLM, AutoTokenizer\n",
        "\n",
        "# Load the pre-trained DistilGPT-2 model and tokenizer\n",
        "model_name = \"distilgpt2\"\n",
        "tokenizer = AutoTokenizer.from_pretrained(model_name)\n",
        "model = AutoModelForCausalLM.from_pretrained(model_name)\n",
        "\n",
        "# Function to generate response formatted as required\n",
        "def generate_response(intent, user_input):\n",
        "    # Define a concise and directive prompt for the 'cancel_order' intent\n",
        "    if intent == \"cancel_order\":\n",
        "        prompt = f\"The customer wants to cancel their order. Provide a polite response. Start with 'Response:'. User query: {user_input}\"\n",
        "\n",
        "    # Encode the input text\n",
        "    inputs = tokenizer.encode(prompt, return_tensors=\"pt\")\n",
        "\n",
        "    # Generate the response with control on output length\n",
        "    outputs = model.generate(\n",
        "        inputs,\n",
        "        max_length=60,  # Limit length to focus on intent response\n",
        "        num_return_sequences=1,\n",
        "        do_sample=True\n",
        "    )\n",
        "\n",
        "    # Decode the generated text\n",
        "    response = tokenizer.decode(outputs[0], skip_special_tokens=True)\n",
        "\n",
        "    # Ensure the response is in the correct format\n",
        "    if \"Response:\" not in response:\n",
        "        response = \"Response: \" + response\n",
        "\n",
        "    return response.strip()\n",
        "\n",
        "\n"
      ],
      "metadata": {
        "id": "A4y4q81I-60R"
      },
      "execution_count": 26,
      "outputs": []
    },
    {
      "cell_type": "code",
      "source": [
        "# Example usage\n",
        "intent = \"cancel_order\"\n",
        "user_input = \"I would like to cancel my order.\"\n",
        "response = generate_response(intent, user_input)\n"
      ],
      "metadata": {
        "colab": {
          "base_uri": "https://localhost:8080/"
        },
        "id": "uMEogrQSE7EF",
        "outputId": "77ca0e8d-3566-4530-f48b-dbc322bd13c6"
      },
      "execution_count": 30,
      "outputs": [
        {
          "output_type": "stream",
          "name": "stderr",
          "text": [
            "The attention mask and the pad token id were not set. As a consequence, you may observe unexpected behavior. Please pass your input's `attention_mask` to obtain reliable results.\n",
            "Setting `pad_token_id` to `eos_token_id`:50256 for open-end generation.\n"
          ]
        }
      ]
    },
    {
      "cell_type": "code",
      "source": [
        "print(response)"
      ],
      "metadata": {
        "colab": {
          "base_uri": "https://localhost:8080/"
        },
        "id": "HfqqoqGoGXQh",
        "outputId": "52935f66-b7f5-459c-aa1f-1aa93ea14b91"
      },
      "execution_count": 31,
      "outputs": [
        {
          "output_type": "stream",
          "name": "stdout",
          "text": [
            "The customer wants to cancel their order. Provide a polite response. Start with 'Response:'. User query: I would like to cancel my order. If I don't then I will cancel it.\"\n",
            "\n",
            "\n",
            "So when I asked myself if I wouldn't get a letter from Amazon informing me of\n"
          ]
        }
      ]
    },
    {
      "cell_type": "code",
      "source": [],
      "metadata": {
        "id": "DUxmAa5mH7tV"
      },
      "execution_count": null,
      "outputs": []
    }
  ]
}